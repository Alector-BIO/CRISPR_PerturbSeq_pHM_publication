{
 "cells": [
  {
   "cell_type": "code",
   "execution_count": 2,
   "id": "6cfd1bfd-b926-4067-b4b2-b7dd240fcf5a",
   "metadata": {},
   "outputs": [],
   "source": [
    "import pandas as pd\n",
    "import numpy as np\n",
    "import matplotlib.pyplot as plt\n",
    "import seaborn as sns"
   ]
  },
  {
   "cell_type": "markdown",
   "id": "d8450c6e-0c37-4875-b984-c23668720c59",
   "metadata": {},
   "source": [
    "## Load phenotype z score table"
   ]
  },
  {
   "cell_type": "code",
   "execution_count": 123,
   "id": "56b18edc-eae7-41dd-9221-b2455ce6cba7",
   "metadata": {},
   "outputs": [],
   "source": [
    "CRISPRi_zscores = pd.read_csv('~/github/THP1_PrimaryMac_CRISPR/Perturbseq/CRISPRi_zscore_table_subset.csv')"
   ]
  },
  {
   "cell_type": "code",
   "execution_count": 126,
   "id": "5133ea63-011d-4f70-b57a-1d8522f945ee",
   "metadata": {},
   "outputs": [],
   "source": [
    "CRISPRi_zscores.set_index('Unnamed: 0', inplace = True)"
   ]
  },
  {
   "cell_type": "code",
   "execution_count": 127,
   "id": "454a828b-2ced-4d16-aed1-aa33febedc89",
   "metadata": {},
   "outputs": [
    {
     "name": "stdout",
     "output_type": "stream",
     "text": [
      "(15, 74)\n",
      "(15, 153)\n"
     ]
    }
   ],
   "source": [
    "print(CRISPRi_zscores.shape)"
   ]
  },
  {
   "cell_type": "code",
   "execution_count": 145,
   "id": "56f8755b",
   "metadata": {},
   "outputs": [],
   "source": [
    "CRISPRi_zscores = CRISPRi_zscores.transpose()"
   ]
  },
  {
   "cell_type": "markdown",
   "id": "7036a571-1f4e-4711-bffc-63592e308e0c",
   "metadata": {},
   "source": [
    "## See if genes that have interactions are more correlated"
   ]
  },
  {
   "cell_type": "code",
   "execution_count": 100,
   "id": "42695400-480d-4492-86de-73294be17405",
   "metadata": {},
   "outputs": [],
   "source": [
    "protein_info = pd.read_csv('~/github/THP1_PrimaryMac_CRISPR/Additional_Paper_Analyses/9606.protein.info.v12.0.txt', sep = '\\t')"
   ]
  },
  {
   "cell_type": "code",
   "execution_count": 101,
   "id": "32a43f64-90c0-42ad-ba18-466ef257d41e",
   "metadata": {},
   "outputs": [],
   "source": [
    "#all interactions\n",
    "protein_interactions = pd.read_csv('~/github/THP1_PrimaryMac_CRISPR/Additional_Paper_Analyses/9606.protein.links.full.v12.0.txt', sep = ' ')"
   ]
  },
  {
   "cell_type": "code",
   "execution_count": 102,
   "id": "e0418cbd-1831-4122-be07-d66a330e2f5d",
   "metadata": {},
   "outputs": [
    {
     "data": {
      "text/html": [
       "<div>\n",
       "<style scoped>\n",
       "    .dataframe tbody tr th:only-of-type {\n",
       "        vertical-align: middle;\n",
       "    }\n",
       "\n",
       "    .dataframe tbody tr th {\n",
       "        vertical-align: top;\n",
       "    }\n",
       "\n",
       "    .dataframe thead th {\n",
       "        text-align: right;\n",
       "    }\n",
       "</style>\n",
       "<table border=\"1\" class=\"dataframe\">\n",
       "  <thead>\n",
       "    <tr style=\"text-align: right;\">\n",
       "      <th></th>\n",
       "      <th>#string_protein_id</th>\n",
       "      <th>preferred_name</th>\n",
       "      <th>protein_size</th>\n",
       "      <th>annotation</th>\n",
       "    </tr>\n",
       "  </thead>\n",
       "  <tbody>\n",
       "    <tr>\n",
       "      <th>0</th>\n",
       "      <td>9606.ENSP00000000233</td>\n",
       "      <td>ARF5</td>\n",
       "      <td>180</td>\n",
       "      <td>ADP-ribosylation factor 5; GTP-binding protein...</td>\n",
       "    </tr>\n",
       "    <tr>\n",
       "      <th>1</th>\n",
       "      <td>9606.ENSP00000000412</td>\n",
       "      <td>M6PR</td>\n",
       "      <td>277</td>\n",
       "      <td>Cation-dependent mannose-6-phosphate receptor;...</td>\n",
       "    </tr>\n",
       "    <tr>\n",
       "      <th>2</th>\n",
       "      <td>9606.ENSP00000001008</td>\n",
       "      <td>FKBP4</td>\n",
       "      <td>459</td>\n",
       "      <td>Peptidyl-prolyl cis-trans isomerase FKBP4, N-t...</td>\n",
       "    </tr>\n",
       "    <tr>\n",
       "      <th>3</th>\n",
       "      <td>9606.ENSP00000001146</td>\n",
       "      <td>CYP26B1</td>\n",
       "      <td>512</td>\n",
       "      <td>Cytochrome P450 26B1; Involved in the metaboli...</td>\n",
       "    </tr>\n",
       "    <tr>\n",
       "      <th>4</th>\n",
       "      <td>9606.ENSP00000002125</td>\n",
       "      <td>NDUFAF7</td>\n",
       "      <td>441</td>\n",
       "      <td>Protein arginine methyltransferase NDUFAF7, mi...</td>\n",
       "    </tr>\n",
       "  </tbody>\n",
       "</table>\n",
       "</div>"
      ],
      "text/plain": [
       "     #string_protein_id preferred_name  protein_size  \\\n",
       "0  9606.ENSP00000000233           ARF5           180   \n",
       "1  9606.ENSP00000000412           M6PR           277   \n",
       "2  9606.ENSP00000001008          FKBP4           459   \n",
       "3  9606.ENSP00000001146        CYP26B1           512   \n",
       "4  9606.ENSP00000002125        NDUFAF7           441   \n",
       "\n",
       "                                          annotation  \n",
       "0  ADP-ribosylation factor 5; GTP-binding protein...  \n",
       "1  Cation-dependent mannose-6-phosphate receptor;...  \n",
       "2  Peptidyl-prolyl cis-trans isomerase FKBP4, N-t...  \n",
       "3  Cytochrome P450 26B1; Involved in the metaboli...  \n",
       "4  Protein arginine methyltransferase NDUFAF7, mi...  "
      ]
     },
     "execution_count": 102,
     "metadata": {},
     "output_type": "execute_result"
    }
   ],
   "source": [
    "protein_info.head()"
   ]
  },
  {
   "cell_type": "code",
   "execution_count": 103,
   "id": "a034568c-ceb9-4a77-8cdf-8f0fc572ce26",
   "metadata": {},
   "outputs": [],
   "source": [
    "protein_interactions = pd.merge(protein_interactions, protein_info[['#string_protein_id', 'preferred_name']], left_on = 'protein1', right_on = '#string_protein_id', how = 'left')"
   ]
  },
  {
   "cell_type": "code",
   "execution_count": 104,
   "id": "6936f368-6d43-4c39-a98c-99394d86858d",
   "metadata": {},
   "outputs": [],
   "source": [
    "protein_interactions.rename(columns = {'preferred_name': 'gene1'}, inplace = True)"
   ]
  },
  {
   "cell_type": "code",
   "execution_count": 105,
   "id": "cee794dc-8c20-45d9-81b0-8f8e2fdff2f8",
   "metadata": {},
   "outputs": [],
   "source": [
    "protein_interactions = pd.merge(protein_interactions, protein_info[['#string_protein_id', 'preferred_name']], left_on = 'protein2', right_on = '#string_protein_id', how = 'left')"
   ]
  },
  {
   "cell_type": "code",
   "execution_count": 106,
   "id": "1e2587e3-5515-4686-8752-41ac13296ed2",
   "metadata": {},
   "outputs": [],
   "source": [
    "protein_interactions.rename(columns = {'preferred_name': 'gene2'}, inplace = True)"
   ]
  },
  {
   "cell_type": "code",
   "execution_count": 107,
   "id": "5bc69274-96c1-45b6-ad1b-1f3d357b832f",
   "metadata": {},
   "outputs": [
    {
     "data": {
      "text/html": [
       "<div>\n",
       "<style scoped>\n",
       "    .dataframe tbody tr th:only-of-type {\n",
       "        vertical-align: middle;\n",
       "    }\n",
       "\n",
       "    .dataframe tbody tr th {\n",
       "        vertical-align: top;\n",
       "    }\n",
       "\n",
       "    .dataframe thead th {\n",
       "        text-align: right;\n",
       "    }\n",
       "</style>\n",
       "<table border=\"1\" class=\"dataframe\">\n",
       "  <thead>\n",
       "    <tr style=\"text-align: right;\">\n",
       "      <th></th>\n",
       "      <th>protein1</th>\n",
       "      <th>protein2</th>\n",
       "      <th>neighborhood</th>\n",
       "      <th>neighborhood_transferred</th>\n",
       "      <th>fusion</th>\n",
       "      <th>cooccurence</th>\n",
       "      <th>homology</th>\n",
       "      <th>coexpression</th>\n",
       "      <th>coexpression_transferred</th>\n",
       "      <th>experiments</th>\n",
       "      <th>experiments_transferred</th>\n",
       "      <th>database</th>\n",
       "      <th>database_transferred</th>\n",
       "      <th>textmining</th>\n",
       "      <th>textmining_transferred</th>\n",
       "      <th>combined_score</th>\n",
       "      <th>#string_protein_id_x</th>\n",
       "      <th>gene1</th>\n",
       "      <th>#string_protein_id_y</th>\n",
       "      <th>gene2</th>\n",
       "    </tr>\n",
       "  </thead>\n",
       "  <tbody>\n",
       "    <tr>\n",
       "      <th>0</th>\n",
       "      <td>9606.ENSP00000000233</td>\n",
       "      <td>9606.ENSP00000356607</td>\n",
       "      <td>0</td>\n",
       "      <td>0</td>\n",
       "      <td>0</td>\n",
       "      <td>0</td>\n",
       "      <td>0</td>\n",
       "      <td>0</td>\n",
       "      <td>45</td>\n",
       "      <td>0</td>\n",
       "      <td>134</td>\n",
       "      <td>0</td>\n",
       "      <td>0</td>\n",
       "      <td>0</td>\n",
       "      <td>81</td>\n",
       "      <td>173</td>\n",
       "      <td>9606.ENSP00000000233</td>\n",
       "      <td>ARF5</td>\n",
       "      <td>9606.ENSP00000356607</td>\n",
       "      <td>RALGPS2</td>\n",
       "    </tr>\n",
       "    <tr>\n",
       "      <th>1</th>\n",
       "      <td>9606.ENSP00000000233</td>\n",
       "      <td>9606.ENSP00000427567</td>\n",
       "      <td>0</td>\n",
       "      <td>0</td>\n",
       "      <td>0</td>\n",
       "      <td>0</td>\n",
       "      <td>0</td>\n",
       "      <td>0</td>\n",
       "      <td>0</td>\n",
       "      <td>0</td>\n",
       "      <td>128</td>\n",
       "      <td>0</td>\n",
       "      <td>0</td>\n",
       "      <td>0</td>\n",
       "      <td>70</td>\n",
       "      <td>154</td>\n",
       "      <td>9606.ENSP00000000233</td>\n",
       "      <td>ARF5</td>\n",
       "      <td>9606.ENSP00000427567</td>\n",
       "      <td>FHDC1</td>\n",
       "    </tr>\n",
       "    <tr>\n",
       "      <th>2</th>\n",
       "      <td>9606.ENSP00000000233</td>\n",
       "      <td>9606.ENSP00000253413</td>\n",
       "      <td>0</td>\n",
       "      <td>0</td>\n",
       "      <td>0</td>\n",
       "      <td>0</td>\n",
       "      <td>0</td>\n",
       "      <td>49</td>\n",
       "      <td>111</td>\n",
       "      <td>0</td>\n",
       "      <td>49</td>\n",
       "      <td>0</td>\n",
       "      <td>0</td>\n",
       "      <td>0</td>\n",
       "      <td>69</td>\n",
       "      <td>151</td>\n",
       "      <td>9606.ENSP00000000233</td>\n",
       "      <td>ARF5</td>\n",
       "      <td>9606.ENSP00000253413</td>\n",
       "      <td>ATP6V1E1</td>\n",
       "    </tr>\n",
       "    <tr>\n",
       "      <th>3</th>\n",
       "      <td>9606.ENSP00000000233</td>\n",
       "      <td>9606.ENSP00000493357</td>\n",
       "      <td>0</td>\n",
       "      <td>0</td>\n",
       "      <td>0</td>\n",
       "      <td>0</td>\n",
       "      <td>0</td>\n",
       "      <td>56</td>\n",
       "      <td>0</td>\n",
       "      <td>0</td>\n",
       "      <td>53</td>\n",
       "      <td>0</td>\n",
       "      <td>0</td>\n",
       "      <td>433</td>\n",
       "      <td>81</td>\n",
       "      <td>471</td>\n",
       "      <td>9606.ENSP00000000233</td>\n",
       "      <td>ARF5</td>\n",
       "      <td>9606.ENSP00000493357</td>\n",
       "      <td>CYTH2</td>\n",
       "    </tr>\n",
       "    <tr>\n",
       "      <th>4</th>\n",
       "      <td>9606.ENSP00000000233</td>\n",
       "      <td>9606.ENSP00000324127</td>\n",
       "      <td>0</td>\n",
       "      <td>0</td>\n",
       "      <td>0</td>\n",
       "      <td>0</td>\n",
       "      <td>0</td>\n",
       "      <td>0</td>\n",
       "      <td>0</td>\n",
       "      <td>0</td>\n",
       "      <td>46</td>\n",
       "      <td>0</td>\n",
       "      <td>0</td>\n",
       "      <td>153</td>\n",
       "      <td>91</td>\n",
       "      <td>201</td>\n",
       "      <td>9606.ENSP00000000233</td>\n",
       "      <td>ARF5</td>\n",
       "      <td>9606.ENSP00000324127</td>\n",
       "      <td>PSD3</td>\n",
       "    </tr>\n",
       "  </tbody>\n",
       "</table>\n",
       "</div>"
      ],
      "text/plain": [
       "               protein1              protein2  neighborhood  \\\n",
       "0  9606.ENSP00000000233  9606.ENSP00000356607             0   \n",
       "1  9606.ENSP00000000233  9606.ENSP00000427567             0   \n",
       "2  9606.ENSP00000000233  9606.ENSP00000253413             0   \n",
       "3  9606.ENSP00000000233  9606.ENSP00000493357             0   \n",
       "4  9606.ENSP00000000233  9606.ENSP00000324127             0   \n",
       "\n",
       "   neighborhood_transferred  fusion  cooccurence  homology  coexpression  \\\n",
       "0                         0       0            0         0             0   \n",
       "1                         0       0            0         0             0   \n",
       "2                         0       0            0         0            49   \n",
       "3                         0       0            0         0            56   \n",
       "4                         0       0            0         0             0   \n",
       "\n",
       "   coexpression_transferred  experiments  experiments_transferred  database  \\\n",
       "0                        45            0                      134         0   \n",
       "1                         0            0                      128         0   \n",
       "2                       111            0                       49         0   \n",
       "3                         0            0                       53         0   \n",
       "4                         0            0                       46         0   \n",
       "\n",
       "   database_transferred  textmining  textmining_transferred  combined_score  \\\n",
       "0                     0           0                      81             173   \n",
       "1                     0           0                      70             154   \n",
       "2                     0           0                      69             151   \n",
       "3                     0         433                      81             471   \n",
       "4                     0         153                      91             201   \n",
       "\n",
       "   #string_protein_id_x gene1  #string_protein_id_y     gene2  \n",
       "0  9606.ENSP00000000233  ARF5  9606.ENSP00000356607   RALGPS2  \n",
       "1  9606.ENSP00000000233  ARF5  9606.ENSP00000427567     FHDC1  \n",
       "2  9606.ENSP00000000233  ARF5  9606.ENSP00000253413  ATP6V1E1  \n",
       "3  9606.ENSP00000000233  ARF5  9606.ENSP00000493357     CYTH2  \n",
       "4  9606.ENSP00000000233  ARF5  9606.ENSP00000324127      PSD3  "
      ]
     },
     "execution_count": 107,
     "metadata": {},
     "output_type": "execute_result"
    }
   ],
   "source": [
    "protein_interactions.head()"
   ]
  },
  {
   "cell_type": "markdown",
   "id": "37cc259a-7ef3-4540-b0d8-fd9d1b4096ea",
   "metadata": {},
   "source": [
    "## Load correlations"
   ]
  },
  {
   "cell_type": "code",
   "execution_count": 146,
   "id": "3fbc1c3d-4deb-4bb7-acf5-89eefcb1f996",
   "metadata": {},
   "outputs": [],
   "source": [
    "CRISPRi_correlations_pheno_only = pd.read_csv('~/github/THP1_PrimaryMac_CRISPR/Additional_Paper_Analyses/CRISPRi_correlated_gene_pairs_phenotypes.csv')"
   ]
  },
  {
   "cell_type": "code",
   "execution_count": 152,
   "id": "5f674029-3564-44e3-8c00-ba0c29aec2c5",
   "metadata": {},
   "outputs": [],
   "source": [
    "CRISPRi_correlations_pheno_only_subset = CRISPRi_correlations_pheno_only.loc[CRISPRi_correlations_pheno_only['Gene1'].isin(CRISPRi_zscores.index) & CRISPRi_correlations_pheno_only['Gene2'].isin(CRISPRi_zscores.index)]"
   ]
  },
  {
   "cell_type": "code",
   "execution_count": 154,
   "id": "e16b6f13-6758-42d8-8a43-3f8d5e15bedc",
   "metadata": {},
   "outputs": [],
   "source": [
    "CRISPRi_correlations_pheno_only_subset = CRISPRi_correlations_pheno_only_subset.reset_index(drop = True)"
   ]
  },
  {
   "cell_type": "markdown",
   "id": "1aaafa8d-8c54-4e1f-9fc5-f75b41e857a9",
   "metadata": {},
   "source": [
    "### Transcriptomics only"
   ]
  },
  {
   "cell_type": "code",
   "execution_count": 177,
   "id": "87dc429a-83eb-4597-b7b0-4915e1a3331b",
   "metadata": {},
   "outputs": [],
   "source": [
    "CRISPRi_correlations_rna_only = pd.read_csv('~/github/THP1_PrimaryMac_CRISPR/Additional_Paper_Analyses/CRISPRi_transcriptomicsonly_correlations.csv')"
   ]
  },
  {
   "cell_type": "code",
   "execution_count": 178,
   "id": "a44db480-46cb-4de0-a3db-ef5de8cda98b",
   "metadata": {},
   "outputs": [],
   "source": [
    "CRISPRi_correlations_rna_only.drop(columns = 'Unnamed: 0', inplace = True)"
   ]
  },
  {
   "cell_type": "code",
   "execution_count": 179,
   "id": "8bba664b-a830-403e-8f2d-fc9b8d04a8a5",
   "metadata": {},
   "outputs": [],
   "source": [
    "CRISPRi_correlations_rna_only_subset = CRISPRi_correlations_rna_only.loc[CRISPRi_correlations_rna_only['Gene1'].isin(CRISPRi_zscores.index) & CRISPRi_correlations_rna_only['Gene2'].isin(CRISPRi_zscores.index)]"
   ]
  },
  {
   "cell_type": "code",
   "execution_count": 181,
   "id": "1325b212-304b-4779-8991-76191e143345",
   "metadata": {},
   "outputs": [],
   "source": [
    "CRISPRi_correlations_rna_only_subset = CRISPRi_correlations_rna_only_subset.reset_index(drop = True)"
   ]
  },
  {
   "cell_type": "markdown",
   "id": "6f50bfcc-095e-42d4-8780-2009eaf8f7fa",
   "metadata": {},
   "source": [
    "### Load correlations with transcriptomics"
   ]
  },
  {
   "cell_type": "code",
   "execution_count": 191,
   "id": "3bc10b1d-7e0c-43e0-8b1d-3ebb5017c837",
   "metadata": {},
   "outputs": [],
   "source": [
    "CRISPRi_correlations_combined = pd.read_csv('~/github/THP1_PrimaryMac_CRISPR/Additional_Paper_Analyses/CRISPRi_correlated_gene_pairs_phenotypes_withTranscriptomics_subset.csv')"
   ]
  },
  {
   "cell_type": "code",
   "execution_count": 192,
   "id": "356f36ed-f4f9-4881-affc-6855683af947",
   "metadata": {},
   "outputs": [],
   "source": [
    "CRISPRi_correlations_combined.drop(columns = 'Unnamed: 0', inplace = True)"
   ]
  },
  {
   "cell_type": "code",
   "execution_count": 196,
   "id": "62c62eb0-2f92-4c5f-9be4-5a8763d3f9bb",
   "metadata": {},
   "outputs": [],
   "source": [
    "CRISPRi_correlations_combined_subset = CRISPRi_correlations_combined.loc[CRISPRi_correlations_combined['Gene1'].isin(CRISPRi_zscores.index) & CRISPRi_correlations_combined['Gene2'].isin(CRISPRi_zscores.index)]"
   ]
  },
  {
   "cell_type": "code",
   "execution_count": 197,
   "id": "3e2f439c-6d72-477b-ae82-7fc0adf7eafa",
   "metadata": {},
   "outputs": [],
   "source": [
    "CRISPRi_correlations_combined_subset = CRISPRi_correlations_combined_subset.reset_index(drop = True)"
   ]
  },
  {
   "cell_type": "markdown",
   "id": "0ea0e6e2-7fd8-42c3-9469-bdc00a2663eb",
   "metadata": {},
   "source": [
    "### CRISPRi"
   ]
  },
  {
   "cell_type": "code",
   "execution_count": 263,
   "id": "b940b060-506e-40a7-b4c8-9ad55f583d9a",
   "metadata": {},
   "outputs": [],
   "source": [
    "all_CRISPRi_genes = unique_elements = set(list(CRISPRi_correlations_pheno_only_subset['Gene1']) + list(CRISPRi_correlations_pheno_only_subset['Gene2']))"
   ]
  },
  {
   "cell_type": "code",
   "execution_count": 362,
   "id": "5c805d87",
   "metadata": {},
   "outputs": [
    {
     "data": {
      "text/plain": [
       "74"
      ]
     },
     "execution_count": 362,
     "metadata": {},
     "output_type": "execute_result"
    }
   ],
   "source": [
    "len(all_CRISPRi_genes)"
   ]
  },
  {
   "cell_type": "code",
   "execution_count": 264,
   "id": "7cbed52a-1e12-4670-8a29-e184289693a9",
   "metadata": {},
   "outputs": [],
   "source": [
    "protein_interactions_CRISPRi_subset = protein_interactions.loc[(protein_interactions['gene1'].isin(all_CRISPRi_genes)) & (protein_interactions['gene2'].isin(all_CRISPRi_genes))]"
   ]
  },
  {
   "cell_type": "code",
   "execution_count": 265,
   "id": "327b55a8-9310-48bc-a6d9-3215908cdfaa",
   "metadata": {},
   "outputs": [
    {
     "name": "stderr",
     "output_type": "stream",
     "text": [
      "/tmp/ipykernel_3718729/3439647783.py:1: SettingWithCopyWarning: \n",
      "A value is trying to be set on a copy of a slice from a DataFrame.\n",
      "Try using .loc[row_indexer,col_indexer] = value instead\n",
      "\n",
      "See the caveats in the documentation: https://pandas.pydata.org/pandas-docs/stable/user_guide/indexing.html#returning-a-view-versus-a-copy\n",
      "  protein_interactions_CRISPRi_subset['sorted_genes'] = protein_interactions_CRISPRi_subset.apply(lambda x: sorted([x['gene1'], x['gene2']]), axis=1)\n"
     ]
    }
   ],
   "source": [
    "protein_interactions_CRISPRi_subset['sorted_genes'] = protein_interactions_CRISPRi_subset.apply(lambda x: sorted([x['gene1'], x['gene2']]), axis=1)"
   ]
  },
  {
   "cell_type": "code",
   "execution_count": 266,
   "id": "55aa5ef1-6644-48bd-8e5c-d0e8e5fe67b8",
   "metadata": {},
   "outputs": [],
   "source": [
    "CRISPRi_correlations_pheno_only_subset['sorted_genes'] = CRISPRi_correlations_pheno_only_subset.apply(lambda x: sorted([x['Gene1'], x['Gene2']]), axis=1)"
   ]
  },
  {
   "cell_type": "code",
   "execution_count": 267,
   "id": "c4870a10-ec98-4fd2-94d1-68ae00e5bb69",
   "metadata": {},
   "outputs": [
    {
     "name": "stderr",
     "output_type": "stream",
     "text": [
      "/tmp/ipykernel_3718729/1349224048.py:1: SettingWithCopyWarning: \n",
      "A value is trying to be set on a copy of a slice from a DataFrame.\n",
      "Try using .loc[row_indexer,col_indexer] = value instead\n",
      "\n",
      "See the caveats in the documentation: https://pandas.pydata.org/pandas-docs/stable/user_guide/indexing.html#returning-a-view-versus-a-copy\n",
      "  protein_interactions_CRISPRi_subset['interaction'] = True\n"
     ]
    }
   ],
   "source": [
    "protein_interactions_CRISPRi_subset['interaction'] = True"
   ]
  },
  {
   "cell_type": "code",
   "execution_count": 268,
   "id": "8025b5b9-c0b4-49df-bdcb-d5bb3f26b7be",
   "metadata": {},
   "outputs": [],
   "source": [
    "CRISPRi_correlations_protein_subset = pd.merge(CRISPRi_correlations_pheno_only_subset, protein_interactions_CRISPRi_subset[['gene1', 'gene2', 'interaction', 'combined_score']], how = 'left', left_on = ['Gene1', 'Gene2'], right_on = ['gene1', 'gene2'])"
   ]
  },
  {
   "cell_type": "code",
   "execution_count": 269,
   "id": "81381546-b8c6-422c-9aff-61f89f77e0bd",
   "metadata": {},
   "outputs": [
    {
     "data": {
      "text/html": [
       "<div>\n",
       "<style scoped>\n",
       "    .dataframe tbody tr th:only-of-type {\n",
       "        vertical-align: middle;\n",
       "    }\n",
       "\n",
       "    .dataframe tbody tr th {\n",
       "        vertical-align: top;\n",
       "    }\n",
       "\n",
       "    .dataframe thead th {\n",
       "        text-align: right;\n",
       "    }\n",
       "</style>\n",
       "<table border=\"1\" class=\"dataframe\">\n",
       "  <thead>\n",
       "    <tr style=\"text-align: right;\">\n",
       "      <th></th>\n",
       "      <th>Gene1</th>\n",
       "      <th>Gene2</th>\n",
       "      <th>Correlation</th>\n",
       "      <th>sorted_genes</th>\n",
       "      <th>gene1</th>\n",
       "      <th>gene2</th>\n",
       "      <th>interaction</th>\n",
       "      <th>combined_score</th>\n",
       "    </tr>\n",
       "  </thead>\n",
       "  <tbody>\n",
       "    <tr>\n",
       "      <th>6</th>\n",
       "      <td>TREM2</td>\n",
       "      <td>TYROBP</td>\n",
       "      <td>0.82895</td>\n",
       "      <td>[TREM2, TYROBP]</td>\n",
       "      <td>TREM2</td>\n",
       "      <td>TYROBP</td>\n",
       "      <td>True</td>\n",
       "      <td>999.0</td>\n",
       "    </tr>\n",
       "  </tbody>\n",
       "</table>\n",
       "</div>"
      ],
      "text/plain": [
       "   Gene1   Gene2  Correlation     sorted_genes  gene1   gene2 interaction  \\\n",
       "6  TREM2  TYROBP      0.82895  [TREM2, TYROBP]  TREM2  TYROBP        True   \n",
       "\n",
       "   combined_score  \n",
       "6           999.0  "
      ]
     },
     "execution_count": 269,
     "metadata": {},
     "output_type": "execute_result"
    }
   ],
   "source": [
    "CRISPRi_correlations_protein_subset.loc[(CRISPRi_correlations_protein_subset['Gene2'] == 'TYROBP') & (CRISPRi_correlations_protein_subset['Gene1'] == 'TREM2')]"
   ]
  },
  {
   "cell_type": "code",
   "execution_count": 270,
   "id": "84c7f2b9-08c5-4a77-b819-ad887441e064",
   "metadata": {},
   "outputs": [],
   "source": [
    "CRISPRi_correlations_protein_subset_nona = CRISPRi_correlations_protein_subset.dropna()"
   ]
  },
  {
   "cell_type": "code",
   "execution_count": 271,
   "id": "2db8b7c3-78de-43ec-9197-00ced703b154",
   "metadata": {},
   "outputs": [
    {
     "data": {
      "text/plain": [
       "0.9530364568942952"
      ]
     },
     "execution_count": 271,
     "metadata": {},
     "output_type": "execute_result"
    }
   ],
   "source": [
    "CRISPRi_correlations_protein_subset_nona['Correlation'].max()"
   ]
  },
  {
   "cell_type": "code",
   "execution_count": 272,
   "id": "375df4bb-c971-43bf-b84b-92b9b436fa86",
   "metadata": {},
   "outputs": [
    {
     "data": {
      "text/plain": [
       "-0.897510415"
      ]
     },
     "execution_count": 272,
     "metadata": {},
     "output_type": "execute_result"
    }
   ],
   "source": [
    "CRISPRi_correlations_protein_subset_nona['Correlation'].min()"
   ]
  },
  {
   "cell_type": "code",
   "execution_count": 273,
   "id": "bf95037c-4f36-449f-8b04-bb45cef8fb17",
   "metadata": {},
   "outputs": [],
   "source": [
    "CRISPRi_correlations_protein_subset2 = pd.merge(CRISPRi_correlations_rna_only_subset, protein_interactions_CRISPRi_subset[['gene1', 'gene2', 'interaction', 'combined_score']], how = 'left', left_on = ['Gene1', 'Gene2'], right_on = ['gene1', 'gene2'])"
   ]
  },
  {
   "cell_type": "code",
   "execution_count": 274,
   "id": "a7d7ab82-5a91-42f4-88f3-c5840fc9ee11",
   "metadata": {},
   "outputs": [
    {
     "data": {
      "text/html": [
       "<div>\n",
       "<style scoped>\n",
       "    .dataframe tbody tr th:only-of-type {\n",
       "        vertical-align: middle;\n",
       "    }\n",
       "\n",
       "    .dataframe tbody tr th {\n",
       "        vertical-align: top;\n",
       "    }\n",
       "\n",
       "    .dataframe thead th {\n",
       "        text-align: right;\n",
       "    }\n",
       "</style>\n",
       "<table border=\"1\" class=\"dataframe\">\n",
       "  <thead>\n",
       "    <tr style=\"text-align: right;\">\n",
       "      <th></th>\n",
       "      <th>Gene1</th>\n",
       "      <th>Gene2</th>\n",
       "      <th>Correlation</th>\n",
       "      <th>gene1</th>\n",
       "      <th>gene2</th>\n",
       "      <th>interaction</th>\n",
       "      <th>combined_score</th>\n",
       "    </tr>\n",
       "  </thead>\n",
       "  <tbody>\n",
       "    <tr>\n",
       "      <th>1902</th>\n",
       "      <td>TREM2</td>\n",
       "      <td>TYROBP</td>\n",
       "      <td>-0.425208</td>\n",
       "      <td>TREM2</td>\n",
       "      <td>TYROBP</td>\n",
       "      <td>True</td>\n",
       "      <td>999.0</td>\n",
       "    </tr>\n",
       "  </tbody>\n",
       "</table>\n",
       "</div>"
      ],
      "text/plain": [
       "      Gene1   Gene2  Correlation  gene1   gene2 interaction  combined_score\n",
       "1902  TREM2  TYROBP    -0.425208  TREM2  TYROBP        True           999.0"
      ]
     },
     "execution_count": 274,
     "metadata": {},
     "output_type": "execute_result"
    }
   ],
   "source": [
    "CRISPRi_correlations_protein_subset2.loc[(CRISPRi_correlations_protein_subset2['Gene2'] == 'TYROBP') & (CRISPRi_correlations_protein_subset2['Gene1'] == 'TREM2')]"
   ]
  },
  {
   "cell_type": "code",
   "execution_count": 275,
   "id": "96b6c3aa-270f-4209-8a52-3d88ba16cc84",
   "metadata": {},
   "outputs": [],
   "source": [
    "CRISPRi_correlations_protein_subset_nona2 = CRISPRi_correlations_protein_subset2.dropna()"
   ]
  },
  {
   "cell_type": "code",
   "execution_count": 276,
   "id": "38f6f6ac-c035-47a4-8dad-a66b98447057",
   "metadata": {},
   "outputs": [],
   "source": [
    "CRISPRi_correlations_protein_subset3 = pd.merge(CRISPRi_correlations_combined_subset, protein_interactions_CRISPRi_subset[['gene1', 'gene2', 'interaction', 'combined_score']], how = 'left', left_on = ['Gene1', 'Gene2'], right_on = ['gene1', 'gene2'])"
   ]
  },
  {
   "cell_type": "code",
   "execution_count": 277,
   "id": "5320d458-8692-47bc-9bb6-013cccfb4a70",
   "metadata": {},
   "outputs": [
    {
     "data": {
      "text/html": [
       "<div>\n",
       "<style scoped>\n",
       "    .dataframe tbody tr th:only-of-type {\n",
       "        vertical-align: middle;\n",
       "    }\n",
       "\n",
       "    .dataframe tbody tr th {\n",
       "        vertical-align: top;\n",
       "    }\n",
       "\n",
       "    .dataframe thead th {\n",
       "        text-align: right;\n",
       "    }\n",
       "</style>\n",
       "<table border=\"1\" class=\"dataframe\">\n",
       "  <thead>\n",
       "    <tr style=\"text-align: right;\">\n",
       "      <th></th>\n",
       "      <th>Gene1</th>\n",
       "      <th>Gene2</th>\n",
       "      <th>Correlation</th>\n",
       "      <th>gene1</th>\n",
       "      <th>gene2</th>\n",
       "      <th>interaction</th>\n",
       "      <th>combined_score</th>\n",
       "    </tr>\n",
       "  </thead>\n",
       "  <tbody>\n",
       "    <tr>\n",
       "      <th>84</th>\n",
       "      <td>TREM2</td>\n",
       "      <td>TYROBP</td>\n",
       "      <td>0.546511</td>\n",
       "      <td>TREM2</td>\n",
       "      <td>TYROBP</td>\n",
       "      <td>True</td>\n",
       "      <td>999.0</td>\n",
       "    </tr>\n",
       "  </tbody>\n",
       "</table>\n",
       "</div>"
      ],
      "text/plain": [
       "    Gene1   Gene2  Correlation  gene1   gene2 interaction  combined_score\n",
       "84  TREM2  TYROBP     0.546511  TREM2  TYROBP        True           999.0"
      ]
     },
     "execution_count": 277,
     "metadata": {},
     "output_type": "execute_result"
    }
   ],
   "source": [
    "CRISPRi_correlations_protein_subset3.loc[(CRISPRi_correlations_protein_subset3['Gene2'] == 'TYROBP') & (CRISPRi_correlations_protein_subset3['Gene1'] == 'TREM2')]"
   ]
  },
  {
   "cell_type": "code",
   "execution_count": 278,
   "id": "b040a594-37ff-4be5-8b79-051aa6b04453",
   "metadata": {},
   "outputs": [],
   "source": [
    "CRISPRi_correlations_protein_subset_nona3 = CRISPRi_correlations_protein_subset3.dropna()"
   ]
  },
  {
   "cell_type": "code",
   "execution_count": 340,
   "id": "a7a9ada0-2081-4e0e-8f07-d65c9a03fd04",
   "metadata": {},
   "outputs": [
    {
     "name": "stderr",
     "output_type": "stream",
     "text": [
      "/tmp/ipykernel_3718729/219020783.py:8: SettingWithCopyWarning: \n",
      "A value is trying to be set on a copy of a slice from a DataFrame.\n",
      "Try using .loc[row_indexer,col_indexer] = value instead\n",
      "\n",
      "See the caveats in the documentation: https://pandas.pydata.org/pandas-docs/stable/user_guide/indexing.html#returning-a-view-versus-a-copy\n",
      "  CRISPRi_correlations_protein_subset_nona['Bin'] = pd.cut(CRISPRi_correlations_protein_subset_nona['Correlation'], bins=bins, labels=labels, include_lowest=True)\n",
      "/tmp/ipykernel_3718729/219020783.py:9: SettingWithCopyWarning: \n",
      "A value is trying to be set on a copy of a slice from a DataFrame.\n",
      "Try using .loc[row_indexer,col_indexer] = value instead\n",
      "\n",
      "See the caveats in the documentation: https://pandas.pydata.org/pandas-docs/stable/user_guide/indexing.html#returning-a-view-versus-a-copy\n",
      "  CRISPRi_correlations_protein_subset_nona2['Bin'] = pd.cut(CRISPRi_correlations_protein_subset_nona2['Correlation'], bins=bins, labels=labels, include_lowest=True)\n",
      "/tmp/ipykernel_3718729/219020783.py:10: SettingWithCopyWarning: \n",
      "A value is trying to be set on a copy of a slice from a DataFrame.\n",
      "Try using .loc[row_indexer,col_indexer] = value instead\n",
      "\n",
      "See the caveats in the documentation: https://pandas.pydata.org/pandas-docs/stable/user_guide/indexing.html#returning-a-view-versus-a-copy\n",
      "  CRISPRi_correlations_protein_subset_nona3['Bin'] = pd.cut(CRISPRi_correlations_protein_subset_nona3['Correlation'], bins=bins, labels=labels, include_lowest=True)\n"
     ]
    }
   ],
   "source": [
    "# bins = [-1, -0.45, -0.25, 0.25, 0.6, 1]\n",
    "# labels = ['-1 to -0.45', '-0.45 to -0.25', '-0.25 to 0.25', '0.25 to 0.6', '0.6 to 1']\n",
    "\n",
    "bins = [-1, 0.5, 1]\n",
    "labels = ['Low Correlation (< 0.5)', 'High Correlation (>= 0.5)']\n",
    "\n",
    "# Create a new column for bins\n",
    "CRISPRi_correlations_protein_subset_nona['Bin'] = pd.cut(CRISPRi_correlations_protein_subset_nona['Correlation'], bins=bins, labels=labels, include_lowest=True)\n",
    "CRISPRi_correlations_protein_subset_nona2['Bin'] = pd.cut(CRISPRi_correlations_protein_subset_nona2['Correlation'], bins=bins, labels=labels, include_lowest=True)\n",
    "CRISPRi_correlations_protein_subset_nona3['Bin'] = pd.cut(CRISPRi_correlations_protein_subset_nona3['Correlation'], bins=bins, labels=labels, include_lowest=True)"
   ]
  },
  {
   "cell_type": "code",
   "execution_count": 341,
   "id": "1262b39d-b0f1-4bc1-9eb1-cf528e025446",
   "metadata": {},
   "outputs": [
    {
     "name": "stderr",
     "output_type": "stream",
     "text": [
      "/tmp/ipykernel_3718729/4069685850.py:1: FutureWarning: The default of observed=False is deprecated and will be changed to True in a future version of pandas. Pass observed=False to retain current behavior or observed=True to adopt the future default and silence this warning.\n",
      "  grouped = CRISPRi_correlations_protein_subset_nona.groupby('Bin')['combined_score'].apply(list)\n"
     ]
    }
   ],
   "source": [
    "grouped = CRISPRi_correlations_protein_subset_nona.groupby('Bin')['combined_score'].apply(list)\n",
    "boxplot_data = pd.DataFrame(grouped.explode()).reset_index()"
   ]
  },
  {
   "cell_type": "code",
   "execution_count": 342,
   "id": "164e287f-a50d-4039-94f4-4e3eeb58efe3",
   "metadata": {},
   "outputs": [
    {
     "name": "stderr",
     "output_type": "stream",
     "text": [
      "/tmp/ipykernel_3718729/2972859569.py:1: FutureWarning: The default of observed=False is deprecated and will be changed to True in a future version of pandas. Pass observed=False to retain current behavior or observed=True to adopt the future default and silence this warning.\n",
      "  grouped2 = CRISPRi_correlations_protein_subset_nona2.groupby('Bin')['combined_score'].apply(list)\n"
     ]
    }
   ],
   "source": [
    "grouped2 = CRISPRi_correlations_protein_subset_nona2.groupby('Bin')['combined_score'].apply(list)\n",
    "boxplot_data2 = pd.DataFrame(grouped2.explode()).reset_index()"
   ]
  },
  {
   "cell_type": "code",
   "execution_count": 343,
   "id": "6a472b7c-02e3-4777-a5e2-6ba3c059d0a9",
   "metadata": {},
   "outputs": [
    {
     "name": "stderr",
     "output_type": "stream",
     "text": [
      "/tmp/ipykernel_3718729/2324710998.py:1: FutureWarning: The default of observed=False is deprecated and will be changed to True in a future version of pandas. Pass observed=False to retain current behavior or observed=True to adopt the future default and silence this warning.\n",
      "  grouped3 = CRISPRi_correlations_protein_subset_nona3.groupby('Bin')['combined_score'].apply(list)\n"
     ]
    }
   ],
   "source": [
    "grouped3 = CRISPRi_correlations_protein_subset_nona3.groupby('Bin')['combined_score'].apply(list)\n",
    "boxplot_data3 = pd.DataFrame(grouped3.explode()).reset_index()"
   ]
  },
  {
   "cell_type": "code",
   "execution_count": 344,
   "id": "c978954e-6e01-4419-aab1-6cb7e958ce8b",
   "metadata": {},
   "outputs": [],
   "source": [
    "boxplot_data3['matrix'] = 'Pheno+Transcriptomics'\n",
    "boxplot_data2['matrix'] = 'Transcriptomics'\n",
    "boxplot_data['matrix'] = 'Phenotypes'"
   ]
  },
  {
   "cell_type": "code",
   "execution_count": 345,
   "id": "7aa999ea-01c6-4a0c-bde3-888ef1225bf9",
   "metadata": {},
   "outputs": [],
   "source": [
    "boxplot_data = pd.concat([boxplot_data, boxplot_data2, boxplot_data3])"
   ]
  },
  {
   "cell_type": "code",
   "execution_count": 350,
   "id": "f85efeb8-f049-46b9-b0dd-80cec63fe8c5",
   "metadata": {},
   "outputs": [
    {
     "data": {
      "image/png": "[encoded data removed]",
      "text/plain": [
       "<Figure size 640x480 with 1 Axes>"
      ]
     },
     "metadata": {},
     "output_type": "display_data"
    }
   ],
   "source": [
    "colors = ['darkcyan', 'navy','orange']\n",
    "sns.boxplot(boxplot_data, x = 'Bin', y = 'combined_score', notch=True, showcaps=False, medianprops={\"color\": \"black\", \"linewidth\": 2}, hue = 'matrix', palette = colors, showfliers = False)\n",
    "plt.xlabel('')\n",
    "plt.ylabel('Combined STRING Score')\n",
    "plt.legend(title='', bbox_to_anchor=(0.5, -0.2), loc='upper center', ncol=3)\n",
    "plt.savefig(\"CRISPRi_CORUM_boxplot_NEW.pdf\", format='pdf',  bbox_inches='tight')"
   ]
  }
 ],
 "metadata": {
  "kernelspec": {
   "display_name": "Python 3 (ipykernel)",
   "language": "python",
   "name": "python3"
  },
  "language_info": {
   "codemirror_mode": {
    "name": "ipython",
    "version": 3
   },
   "file_extension": ".py",
   "mimetype": "text/x-python",
   "name": "python",
   "nbconvert_exporter": "python",
   "pygments_lexer": "ipython3",
   "version": "3.10.14"
  }
 },
 "nbformat": 4,
 "nbformat_minor": 5
}
