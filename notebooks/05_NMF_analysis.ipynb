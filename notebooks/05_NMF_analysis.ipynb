{
 "cells": [
  {
   "cell_type": "code",
   "execution_count": 27,
   "id": "c51e9e42-2fb3-4c87-82a0-9f0d03e77978",
   "metadata": {
    "vscode": {
     "languageId": "r"
    }
   },
   "outputs": [
    {
     "name": "stderr",
     "output_type": "stream",
     "text": [
      "Loading required package: SeuratObject\n",
      "\n",
      "Loading required package: sp\n",
      "\n"
     ]
    },
    {
     "name": "stderr",
     "output_type": "stream",
     "text": [
      "\n",
      "Attaching package: ‘sp’\n",
      "\n",
      "\n",
      "The following object is masked from ‘package:IRanges’:\n",
      "\n",
      "    %over%\n",
      "\n",
      "\n",
      "\n",
      "Attaching package: ‘SeuratObject’\n",
      "\n",
      "\n",
      "The following object is masked from ‘package:IRanges’:\n",
      "\n",
      "    intersect\n",
      "\n",
      "\n",
      "The following object is masked from ‘package:S4Vectors’:\n",
      "\n",
      "    intersect\n",
      "\n",
      "\n",
      "The following object is masked from ‘package:BiocGenerics’:\n",
      "\n",
      "    intersect\n",
      "\n",
      "\n",
      "The following objects are masked from ‘package:base’:\n",
      "\n",
      "    intersect, t\n",
      "\n",
      "\n",
      "\n",
      "Attaching package: ‘dplyr’\n",
      "\n",
      "\n",
      "The following object is masked from ‘package:AnnotationDbi’:\n",
      "\n",
      "    select\n",
      "\n",
      "\n",
      "The following objects are masked from ‘package:IRanges’:\n",
      "\n",
      "    collapse, desc, intersect, setdiff, slice, union\n",
      "\n",
      "\n",
      "The following objects are masked from ‘package:S4Vectors’:\n",
      "\n",
      "    first, intersect, rename, setdiff, setequal, union\n",
      "\n",
      "\n",
      "The following object is masked from ‘package:Biobase’:\n",
      "\n",
      "    combine\n",
      "\n",
      "\n",
      "The following objects are masked from ‘package:BiocGenerics’:\n",
      "\n",
      "    combine, intersect, setdiff, union\n",
      "\n",
      "\n",
      "The following objects are masked from ‘package:stats’:\n",
      "\n",
      "    filter, lag\n",
      "\n",
      "\n",
      "The following objects are masked from ‘package:base’:\n",
      "\n",
      "    intersect, setdiff, setequal, union\n",
      "\n",
      "\n",
      "\n",
      "Attaching package: ‘tidyr’\n",
      "\n",
      "\n",
      "The following object is masked from ‘package:S4Vectors’:\n",
      "\n",
      "    expand\n",
      "\n",
      "\n",
      "── \u001b[1mAttaching core tidyverse packages\u001b[22m ────────────────────────────────────────────────────────────────────────────────────────────────────────────────────────────────────────────────────────────────────────────────────────────────────────────────────────── tidyverse 2.0.0 ──\n",
      "\u001b[32m✔\u001b[39m \u001b[34mforcats  \u001b[39m 1.0.0     \u001b[32m✔\u001b[39m \u001b[34mreadr    \u001b[39m 2.1.5\n",
      "\u001b[32m✔\u001b[39m \u001b[34mlubridate\u001b[39m 1.9.3     \u001b[32m✔\u001b[39m \u001b[34mtibble   \u001b[39m 3.2.1\n",
      "\u001b[32m✔\u001b[39m \u001b[34mpurrr    \u001b[39m 1.0.2     \n",
      "── \u001b[1mConflicts\u001b[22m ──────────────────────────────────────────────────────────────────────────────────────────────────────────────────────────────────────────────────────────────────────────────────────────────────────────────────────────────────────────── tidyverse_conflicts() ──\n",
      "\u001b[31m✖\u001b[39m \u001b[34mlubridate\u001b[39m::\u001b[32m%within%()\u001b[39m masks \u001b[34mIRanges\u001b[39m::%within%()\n",
      "\u001b[31m✖\u001b[39m \u001b[34mdplyr\u001b[39m::\u001b[32mcollapse()\u001b[39m     masks \u001b[34mIRanges\u001b[39m::collapse()\n",
      "\u001b[31m✖\u001b[39m \u001b[34mdplyr\u001b[39m::\u001b[32mcombine()\u001b[39m      masks \u001b[34mBiobase\u001b[39m::combine(), \u001b[34mBiocGenerics\u001b[39m::combine()\n",
      "\u001b[31m✖\u001b[39m \u001b[34mdplyr\u001b[39m::\u001b[32mdesc()\u001b[39m         masks \u001b[34mIRanges\u001b[39m::desc()\n",
      "\u001b[31m✖\u001b[39m \u001b[34mtidyr\u001b[39m::\u001b[32mexpand()\u001b[39m       masks \u001b[34mS4Vectors\u001b[39m::expand()\n",
      "\u001b[31m✖\u001b[39m \u001b[34mdplyr\u001b[39m::\u001b[32mfilter()\u001b[39m       masks \u001b[34mclusterProfiler\u001b[39m::filter(), \u001b[34mstats\u001b[39m::filter()\n",
      "\u001b[31m✖\u001b[39m \u001b[34mdplyr\u001b[39m::\u001b[32mfirst()\u001b[39m        masks \u001b[34mS4Vectors\u001b[39m::first()\n",
      "\u001b[31m✖\u001b[39m \u001b[34mdplyr\u001b[39m::\u001b[32mlag()\u001b[39m          masks \u001b[34mstats\u001b[39m::lag()\n",
      "\u001b[31m✖\u001b[39m \u001b[34mggplot2\u001b[39m::\u001b[32mPosition()\u001b[39m   masks \u001b[34mBiocGenerics\u001b[39m::Position(), \u001b[34mbase\u001b[39m::Position()\n",
      "\u001b[31m✖\u001b[39m \u001b[34mpurrr\u001b[39m::\u001b[32mreduce()\u001b[39m       masks \u001b[34mIRanges\u001b[39m::reduce()\n",
      "\u001b[31m✖\u001b[39m \u001b[34mdplyr\u001b[39m::\u001b[32mrename()\u001b[39m       masks \u001b[34mS4Vectors\u001b[39m::rename(), \u001b[34mclusterProfiler\u001b[39m::rename()\n",
      "\u001b[31m✖\u001b[39m \u001b[34mlubridate\u001b[39m::\u001b[32msecond()\u001b[39m   masks \u001b[34mS4Vectors\u001b[39m::second()\n",
      "\u001b[31m✖\u001b[39m \u001b[34mlubridate\u001b[39m::\u001b[32msecond<-()\u001b[39m masks \u001b[34mS4Vectors\u001b[39m::second<-()\n",
      "\u001b[31m✖\u001b[39m \u001b[34mdplyr\u001b[39m::\u001b[32mselect()\u001b[39m       masks \u001b[34mAnnotationDbi\u001b[39m::select(), \u001b[34mclusterProfiler\u001b[39m::select()\n",
      "\u001b[31m✖\u001b[39m \u001b[34mpurrr\u001b[39m::\u001b[32msimplify()\u001b[39m     masks \u001b[34mclusterProfiler\u001b[39m::simplify()\n",
      "\u001b[31m✖\u001b[39m \u001b[34mdplyr\u001b[39m::\u001b[32mslice()\u001b[39m        masks \u001b[34mIRanges\u001b[39m::slice(), \u001b[34mclusterProfiler\u001b[39m::slice()\n",
      "\u001b[36mℹ\u001b[39m Use the conflicted package (\u001b[3m\u001b[34m<http://conflicted.r-lib.org/>\u001b[39m\u001b[23m) to force all conflicts to become errors\n",
      "\n",
      "Attaching package: ‘magrittr’\n",
      "\n",
      "\n",
      "The following object is masked from ‘package:purrr’:\n",
      "\n",
      "    set_names\n",
      "\n",
      "\n",
      "The following object is masked from ‘package:tidyr’:\n",
      "\n",
      "    extract\n",
      "\n",
      "\n",
      "\n",
      "Attaching package: ‘data.table’\n",
      "\n",
      "\n",
      "The following objects are masked from ‘package:lubridate’:\n",
      "\n",
      "    hour, isoweek, mday, minute, month, quarter, second, wday, week,\n",
      "    yday, year\n",
      "\n",
      "\n",
      "The following object is masked from ‘package:purrr’:\n",
      "\n",
      "    transpose\n",
      "\n",
      "\n",
      "The following objects are masked from ‘package:dplyr’:\n",
      "\n",
      "    between, first, last\n",
      "\n",
      "\n",
      "The following object is masked from ‘package:IRanges’:\n",
      "\n",
      "    shift\n",
      "\n",
      "\n",
      "The following objects are masked from ‘package:S4Vectors’:\n",
      "\n",
      "    first, second\n",
      "\n",
      "\n"
     ]
    }
   ],
   "source": [
    "library('Seurat')\n",
    "library('dplyr')\n",
    "library('tidyr')\n",
    "library('stringr')\n",
    "library('tidyverse')\n",
    "library('ggplot2')\n",
    "library('pheatmap')\n",
    "library('magrittr') \n",
    "library('GeneNMF') \n",
    "library('data.table')\n",
    "library('ggrepel')\n",
    "library('UCell') \n",
    "options(repr.plot.width = 5, repr.plot.height = 5) # set default plot size\n",
    "options(jupyter.plot_mimetypes = 'image/png') # output SVG\n",
    "options(ggrepel.max.overlaps = Inf)"
   ]
  },
  {
   "cell_type": "markdown",
   "id": "d0439768-78cc-4948-ae48-e484ee33f1c8",
   "metadata": {},
   "source": [
    "## Load seurat objects"
   ]
  },
  {
   "cell_type": "code",
   "execution_count": 28,
   "id": "6b539ba7-4e83-4532-b5f8-a65ac665c2b1",
   "metadata": {
    "vscode": {
     "languageId": "r"
    }
   },
   "outputs": [],
   "source": [
    "prefix = '~/data/seurat/'"
   ]
  },
  {
   "cell_type": "code",
   "execution_count": 29,
   "id": "c3838612-bcd4-4ba9-90cd-5d88d1fe276e",
   "metadata": {
    "vscode": {
     "languageId": "r"
    }
   },
   "outputs": [],
   "source": [
    "CRISPRa_5umi = readRDS(paste0(prefix,\"CRISPRa_seurat5.rds\"))\n",
    "CRISPRi_5umi = readRDS(paste0(prefix,\"CRISPRi_seurat5.rds\"))"
   ]
  },
  {
   "cell_type": "markdown",
   "id": "91c8b9b3-ffaf-481c-87a1-ceccb10333cb",
   "metadata": {},
   "source": [
    "### Load Square DEG Matrix"
   ]
  },
  {
   "cell_type": "code",
   "execution_count": 30,
   "id": "ceef11c7-e14c-46f2-93f0-3cf14166094e",
   "metadata": {
    "vscode": {
     "languageId": "r"
    }
   },
   "outputs": [],
   "source": [
    "CRISPRa_matrix = read.csv('~/data/output/CRISPRa_Zscore_square_matrix.csv', row.names = 1)\n",
    "CRISPRi_matrix = read.csv('~/data/output/CRISPRi_Zscore_square_matrix.csv', row.names = 1)"
   ]
  },
  {
   "cell_type": "code",
   "execution_count": 31,
   "id": "d905718d-ffed-4744-8d88-68191c248f46",
   "metadata": {
    "vscode": {
     "languageId": "r"
    }
   },
   "outputs": [],
   "source": [
    "CRISPRa_matrix <- as.matrix(CRISPRa_matrix)\n",
    "CRISPRi_matrix <- as.matrix(CRISPRi_matrix)"
   ]
  },
  {
   "cell_type": "code",
   "execution_count": 32,
   "id": "c29e212a-b105-4119-aa55-cb8086911c38",
   "metadata": {
    "vscode": {
     "languageId": "r"
    }
   },
   "outputs": [],
   "source": [
    "diagonal_elements <- diag(CRISPRa_matrix)\n",
    "significant_indices <- which(abs(diagonal_elements) > 1.3)\n",
    "significant_genes_CRISPRa <- rownames(CRISPRa_matrix)[significant_indices]"
   ]
  },
  {
   "cell_type": "code",
   "execution_count": 33,
   "id": "5b9530b8-75aa-47d7-868e-6e326a40d236",
   "metadata": {
    "vscode": {
     "languageId": "r"
    }
   },
   "outputs": [],
   "source": [
    "diagonal_elements <- diag(CRISPRi_matrix)\n",
    "significant_indices <- which(abs(diagonal_elements) > 1.3)\n",
    "significant_genes_CRISPRi <- rownames(CRISPRi_matrix)[significant_indices]"
   ]
  },
  {
   "cell_type": "code",
   "execution_count": 34,
   "id": "81f583f4-361d-4aa1-8e62-e2b80e30e77b",
   "metadata": {
    "vscode": {
     "languageId": "r"
    }
   },
   "outputs": [
    {
     "data": {
      "text/html": [
       "172"
      ],
      "text/latex": [
       "172"
      ],
      "text/markdown": [
       "172"
      ],
      "text/plain": [
       "[1] 172"
      ]
     },
     "metadata": {},
     "output_type": "display_data"
    }
   ],
   "source": [
    "length(significant_genes_CRISPRa)"
   ]
  },
  {
   "cell_type": "code",
   "execution_count": 35,
   "id": "fe6e08d5-1161-494e-8b59-82fb8a1b069a",
   "metadata": {
    "vscode": {
     "languageId": "r"
    }
   },
   "outputs": [
    {
     "data": {
      "text/html": [
       "86"
      ],
      "text/latex": [
       "86"
      ],
      "text/markdown": [
       "86"
      ],
      "text/plain": [
       "[1] 86"
      ]
     },
     "metadata": {},
     "output_type": "display_data"
    }
   ],
   "source": [
    "length(significant_genes_CRISPRi)"
   ]
  },
  {
   "cell_type": "markdown",
   "id": "16c642d8-dbf4-4b2d-9101-19e6fb1242d5",
   "metadata": {},
   "source": [
    "### Normalize and scale data"
   ]
  },
  {
   "cell_type": "code",
   "execution_count": 36,
   "id": "5ae7fb20-bc96-4cee-8769-44f422db849c",
   "metadata": {
    "vscode": {
     "languageId": "r"
    }
   },
   "outputs": [
    {
     "name": "stderr",
     "output_type": "stream",
     "text": [
      "Normalizing layer: counts\n",
      "\n",
      "Normalizing layer: counts\n",
      "\n"
     ]
    }
   ],
   "source": [
    "CRISPRa_5umi <- NormalizeData(CRISPRa_5umi, normalization.method = \"LogNormalize\", scale.factor = 10000)\n",
    "CRISPRi_5umi <- NormalizeData(CRISPRi_5umi, normalization.method = \"LogNormalize\", scale.factor = 10000)"
   ]
  },
  {
   "cell_type": "code",
   "execution_count": 37,
   "id": "b4227f67-95cd-4569-82d1-f74752926d4a",
   "metadata": {
    "vscode": {
     "languageId": "r"
    }
   },
   "outputs": [],
   "source": [
    "## subset seurat objects to only protein coding genes\n",
    "annot_human = read.table(\"~/data/Biomart_Human_Genes_Ensembl101.txt\",sep=\"\\t\", header=T)\n",
    "protein_coding_genes = annot_human[annot_human$gene_biotype == 'protein_coding','external_gene_name']"
   ]
  },
  {
   "cell_type": "code",
   "execution_count": 40,
   "id": "237a22db-8b57-48ea-9d9e-0ad399940051",
   "metadata": {
    "vscode": {
     "languageId": "r"
    }
   },
   "outputs": [],
   "source": [
    "CRISPRa_5umi = subset(CRISPRa_5umi, features = protein_coding_genes)\n",
    "CRISPRi_5umi = subset(CRISPRi_5umi, features = protein_coding_genes)"
   ]
  },
  {
   "cell_type": "code",
   "execution_count": 42,
   "id": "bd501398-36c8-49c3-99a8-a796b6021a4e",
   "metadata": {
    "vscode": {
     "languageId": "r"
    }
   },
   "outputs": [
    {
     "name": "stderr",
     "output_type": "stream",
     "text": [
      "Finding variable features for layer counts\n",
      "\n"
     ]
    },
    {
     "name": "stderr",
     "output_type": "stream",
     "text": [
      "Finding variable features for layer counts\n",
      "\n"
     ]
    }
   ],
   "source": [
    "CRISPRa_5umi <- FindVariableFeatures(CRISPRa_5umi, selection.method = \"vst\", nfeatures = 2000)\n",
    "CRISPRi_5umi <- FindVariableFeatures(CRISPRi_5umi, selection.method = \"vst\", nfeatures = 2000)"
   ]
  },
  {
   "cell_type": "code",
   "execution_count": 43,
   "id": "e6610689-1c1e-440f-916f-0864e8bd281e",
   "metadata": {
    "vscode": {
     "languageId": "r"
    }
   },
   "outputs": [
    {
     "name": "stderr",
     "output_type": "stream",
     "text": [
      "Centering and scaling data matrix\n",
      "\n"
     ]
    }
   ],
   "source": [
    "all.genes <- rownames(CRISPRa_5umi)\n",
    "CRISPRa_5umi <- ScaleData(CRISPRa_5umi, features = all.genes)"
   ]
  },
  {
   "cell_type": "code",
   "execution_count": 44,
   "id": "57e3fb13-427d-4d31-a1e9-d87ab042d9bf",
   "metadata": {
    "vscode": {
     "languageId": "r"
    }
   },
   "outputs": [
    {
     "name": "stderr",
     "output_type": "stream",
     "text": [
      "Centering and scaling data matrix\n",
      "\n"
     ]
    }
   ],
   "source": [
    "all.genes <- rownames(CRISPRi_5umi)\n",
    "CRISPRi_5umi <- ScaleData(CRISPRi_5umi, features = all.genes)"
   ]
  },
  {
   "cell_type": "code",
   "execution_count": 45,
   "id": "a20fd02c-a2a7-4547-9d07-b98de48dd716",
   "metadata": {
    "vscode": {
     "languageId": "r"
    }
   },
   "outputs": [],
   "source": [
    "CRISPRa_5umi_subset = subset(x = CRISPRa_5umi, subset = Gene_Targeted %in% significant_genes_CRISPRa)\n",
    "CRISPRi_5umi_subset = subset(x = CRISPRi_5umi, subset = Gene_Targeted %in% significant_genes_CRISPRi)"
   ]
  },
  {
   "cell_type": "markdown",
   "id": "3749e408-d105-451a-b28f-bee906b09c0c",
   "metadata": {},
   "source": [
    "### run NMF (combined)"
   ]
  },
  {
   "cell_type": "code",
   "execution_count": 47,
   "id": "9e1e8bed-424c-4ee1-8a90-e7f296d19dfe",
   "metadata": {
    "vscode": {
     "languageId": "r"
    }
   },
   "outputs": [],
   "source": [
    "CRISPRa_5umi_subset$donor_crispr = paste0('CRISPRa_',CRISPRa_5umi_subset$donor)"
   ]
  },
  {
   "cell_type": "code",
   "execution_count": 48,
   "id": "5d0a1e05-4426-400a-93e7-131bfba5cd8e",
   "metadata": {
    "vscode": {
     "languageId": "r"
    }
   },
   "outputs": [],
   "source": [
    "CRISPRa_5umi.list <- SplitObject(CRISPRa_5umi_subset, split.by = \"donor_crispr\")"
   ]
  },
  {
   "cell_type": "code",
   "execution_count": 49,
   "id": "b366da1f-ea4a-4db0-ae32-1108717a6997",
   "metadata": {
    "vscode": {
     "languageId": "r"
    }
   },
   "outputs": [],
   "source": [
    "CRISPRi_5umi_subset$donor_crispr = paste0('CRISPRi_',CRISPRi_5umi_subset$donor)"
   ]
  },
  {
   "cell_type": "code",
   "execution_count": 50,
   "id": "e3eabed5-45ea-4677-94bb-05f533c12e1b",
   "metadata": {
    "vscode": {
     "languageId": "r"
    }
   },
   "outputs": [],
   "source": [
    "CRISPRi_5umi.list <- SplitObject(CRISPRi_5umi_subset, split.by = \"donor_crispr\")"
   ]
  },
  {
   "cell_type": "code",
   "execution_count": 51,
   "id": "86ebeb86-3f37-4fe4-b84b-961706e131a3",
   "metadata": {
    "vscode": {
     "languageId": "r"
    }
   },
   "outputs": [],
   "source": [
    "combined_list = c(CRISPRa_5umi.list, CRISPRi_5umi.list)"
   ]
  },
  {
   "cell_type": "code",
   "execution_count": 52,
   "id": "9f06484a-cc57-40a2-a812-ce534a14ef0f",
   "metadata": {
    "vscode": {
     "languageId": "r"
    }
   },
   "outputs": [
    {
     "data": {
      "text/plain": [
       "$CRISPRa_D1\n",
       "An object of class Seurat \n",
       "19162 features across 12716 samples within 1 assay \n",
       "Active assay: RNA (19162 features, 2000 variable features)\n",
       " 3 layers present: counts, data, scale.data\n",
       "\n",
       "$CRISPRa_D2\n",
       "An object of class Seurat \n",
       "19162 features across 5866 samples within 1 assay \n",
       "Active assay: RNA (19162 features, 2000 variable features)\n",
       " 3 layers present: counts, data, scale.data\n",
       "\n",
       "$CRISPRi_D1\n",
       "An object of class Seurat \n",
       "19162 features across 7429 samples within 1 assay \n",
       "Active assay: RNA (19162 features, 2000 variable features)\n",
       " 3 layers present: counts, data, scale.data\n",
       "\n",
       "$CRISPRi_D2\n",
       "An object of class Seurat \n",
       "19162 features across 4194 samples within 1 assay \n",
       "Active assay: RNA (19162 features, 2000 variable features)\n",
       " 3 layers present: counts, data, scale.data\n"
      ]
     },
     "metadata": {},
     "output_type": "display_data"
    }
   ],
   "source": [
    "combined_list"
   ]
  },
  {
   "cell_type": "code",
   "execution_count": 53,
   "id": "70079d75-d879-45d9-be1c-499dc55c2c32",
   "metadata": {
    "vscode": {
     "languageId": "r"
    }
   },
   "outputs": [],
   "source": [
    "geneNMF.programs <- multiNMF(combined_list, assay=\"RNA\", k=4:9, min.exp = 0.05)"
   ]
  },
  {
   "cell_type": "code",
   "execution_count": 54,
   "id": "64580776-4f14-4923-8094-39b44763b609",
   "metadata": {
    "vscode": {
     "languageId": "r"
    }
   },
   "outputs": [],
   "source": [
    "geneNMF.metaprograms <- getMetaPrograms(geneNMF.programs,\n",
    "                                        metric = \"cosine\",\n",
    "                                        weight.explained = 0.8,\n",
    "                                        specificity.weight=7,\n",
    "                                        nMP=8,\n",
    "                                        min.confidence = 0.7)"
   ]
  },
  {
   "cell_type": "code",
   "execution_count": 55,
   "id": "79e4525a-ad68-4b6c-8afb-d9c3b38a0d12",
   "metadata": {
    "vscode": {
     "languageId": "r"
    }
   },
   "outputs": [
    {
     "data": {
      "text/html": [
       "<table class=\"dataframe\">\n",
       "<caption>A data.frame: 8 × 5</caption>\n",
       "<thead>\n",
       "\t<tr><th></th><th scope=col>sampleCoverage</th><th scope=col>silhouette</th><th scope=col>meanSimilarity</th><th scope=col>numberGenes</th><th scope=col>numberPrograms</th></tr>\n",
       "\t<tr><th></th><th scope=col>&lt;dbl&gt;</th><th scope=col>&lt;dbl&gt;</th><th scope=col>&lt;dbl&gt;</th><th scope=col>&lt;int&gt;</th><th scope=col>&lt;chr&gt;</th></tr>\n",
       "</thead>\n",
       "<tbody>\n",
       "\t<tr><th scope=row>MP1</th><td>1.00</td><td> 0.76850472</td><td>0.798</td><td> 7</td><td>21</td></tr>\n",
       "\t<tr><th scope=row>MP2</th><td>1.00</td><td> 0.53917816</td><td>0.636</td><td>20</td><td>25</td></tr>\n",
       "\t<tr><th scope=row>MP3</th><td>1.00</td><td> 0.46042189</td><td>0.584</td><td>29</td><td>12</td></tr>\n",
       "\t<tr><th scope=row>MP4</th><td>1.00</td><td> 0.21188563</td><td>0.406</td><td>16</td><td>18</td></tr>\n",
       "\t<tr><th scope=row>MP5</th><td>1.00</td><td> 0.19319147</td><td>0.396</td><td>40</td><td>13</td></tr>\n",
       "\t<tr><th scope=row>MP6</th><td>1.00</td><td> 0.08568707</td><td>0.240</td><td>11</td><td>28</td></tr>\n",
       "\t<tr><th scope=row>MP7</th><td>1.00</td><td>-0.00723574</td><td>0.245</td><td> 7</td><td>31</td></tr>\n",
       "\t<tr><th scope=row>MP8</th><td>0.75</td><td> 0.78426355</td><td>0.833</td><td>24</td><td>8 </td></tr>\n",
       "</tbody>\n",
       "</table>\n"
      ],
      "text/latex": [
       "A data.frame: 8 × 5\n",
       "\\begin{tabular}{r|lllll}\n",
       "  & sampleCoverage & silhouette & meanSimilarity & numberGenes & numberPrograms\\\\\n",
       "  & <dbl> & <dbl> & <dbl> & <int> & <chr>\\\\\n",
       "\\hline\n",
       "\tMP1 & 1.00 &  0.76850472 & 0.798 &  7 & 21\\\\\n",
       "\tMP2 & 1.00 &  0.53917816 & 0.636 & 20 & 25\\\\\n",
       "\tMP3 & 1.00 &  0.46042189 & 0.584 & 29 & 12\\\\\n",
       "\tMP4 & 1.00 &  0.21188563 & 0.406 & 16 & 18\\\\\n",
       "\tMP5 & 1.00 &  0.19319147 & 0.396 & 40 & 13\\\\\n",
       "\tMP6 & 1.00 &  0.08568707 & 0.240 & 11 & 28\\\\\n",
       "\tMP7 & 1.00 & -0.00723574 & 0.245 &  7 & 31\\\\\n",
       "\tMP8 & 0.75 &  0.78426355 & 0.833 & 24 & 8 \\\\\n",
       "\\end{tabular}\n"
      ],
      "text/markdown": [
       "\n",
       "A data.frame: 8 × 5\n",
       "\n",
       "| <!--/--> | sampleCoverage &lt;dbl&gt; | silhouette &lt;dbl&gt; | meanSimilarity &lt;dbl&gt; | numberGenes &lt;int&gt; | numberPrograms &lt;chr&gt; |\n",
       "|---|---|---|---|---|---|\n",
       "| MP1 | 1.00 |  0.76850472 | 0.798 |  7 | 21 |\n",
       "| MP2 | 1.00 |  0.53917816 | 0.636 | 20 | 25 |\n",
       "| MP3 | 1.00 |  0.46042189 | 0.584 | 29 | 12 |\n",
       "| MP4 | 1.00 |  0.21188563 | 0.406 | 16 | 18 |\n",
       "| MP5 | 1.00 |  0.19319147 | 0.396 | 40 | 13 |\n",
       "| MP6 | 1.00 |  0.08568707 | 0.240 | 11 | 28 |\n",
       "| MP7 | 1.00 | -0.00723574 | 0.245 |  7 | 31 |\n",
       "| MP8 | 0.75 |  0.78426355 | 0.833 | 24 | 8  |\n",
       "\n"
      ],
      "text/plain": [
       "    sampleCoverage silhouette  meanSimilarity numberGenes numberPrograms\n",
       "MP1 1.00            0.76850472 0.798           7          21            \n",
       "MP2 1.00            0.53917816 0.636          20          25            \n",
       "MP3 1.00            0.46042189 0.584          29          12            \n",
       "MP4 1.00            0.21188563 0.406          16          18            \n",
       "MP5 1.00            0.19319147 0.396          40          13            \n",
       "MP6 1.00            0.08568707 0.240          11          28            \n",
       "MP7 1.00           -0.00723574 0.245           7          31            \n",
       "MP8 0.75            0.78426355 0.833          24          8             "
      ]
     },
     "metadata": {},
     "output_type": "display_data"
    }
   ],
   "source": [
    "geneNMF.metaprograms$metaprograms.metrics"
   ]
  },
  {
   "cell_type": "code",
   "execution_count": 442,
   "id": "016053e3-055f-4772-af45-3e189b5effae",
   "metadata": {
    "vscode": {
     "languageId": "r"
    }
   },
   "outputs": [
    {
     "data": {
      "text/html": [
       "<strong>png:</strong> 2"
      ],
      "text/latex": [
       "\\textbf{png:} 2"
      ],
      "text/markdown": [
       "**png:** 2"
      ],
      "text/plain": [
       "png \n",
       "  2 "
      ]
     },
     "metadata": {},
     "output_type": "display_data"
    },
    {
     "data": {
      "image/png": "[encoded data removed]"
     },
     "metadata": {
      "image/png": {
       "height": 1200,
       "width": 1200
      }
     },
     "output_type": "display_data"
    }
   ],
   "source": [
    "options(repr.plot.width = 20, repr.plot.height = 20)\n",
    "ph <- plotMetaPrograms(geneNMF.metaprograms, similarity.cutoff = c(0.1,1))\n",
    "pdf(\"combined_NMF_metaprogram_similarities.pdf\")\n",
    "print(ph)\n",
    "dev.off()"
   ]
  },
  {
   "cell_type": "code",
   "execution_count": 56,
   "id": "cbdd6f02-f2ad-4763-9e30-217df9d040be",
   "metadata": {
    "vscode": {
     "languageId": "r"
    }
   },
   "outputs": [
    {
     "data": {
      "text/html": [
       "<dl>\n",
       "\t<dt>$MP1</dt>\n",
       "\t\t<dd><style>\n",
       ".list-inline {list-style: none; margin:0; padding: 0}\n",
       ".list-inline>li {display: inline-block}\n",
       ".list-inline>li:not(:last-child)::after {content: \"\\00b7\"; padding: 0 .5ex}\n",
       "</style>\n",
       "<ol class=list-inline><li>'CHI3L1'</li><li>'LPL'</li><li>'TIMP3'</li><li>'FN1'</li><li>'CD52'</li><li>'FABP4'</li><li>'DOCK3'</li></ol>\n",
       "</dd>\n",
       "\t<dt>$MP2</dt>\n",
       "\t\t<dd><style>\n",
       ".list-inline {list-style: none; margin:0; padding: 0}\n",
       ".list-inline>li {display: inline-block}\n",
       ".list-inline>li:not(:last-child)::after {content: \"\\00b7\"; padding: 0 .5ex}\n",
       "</style>\n",
       "<ol class=list-inline><li>'TNFSF10'</li><li>'CCL8'</li><li>'GCH1'</li><li>'ISG20'</li><li>'IFIT2'</li><li>'RSAD2'</li><li>'MT2A'</li><li>'CXCL10'</li><li>'UNC5C'</li><li>'GBP4'</li><li>'HES4'</li><li>'MCOLN2'</li><li>'OASL'</li><li>'BRIP1'</li><li>'ETV7'</li><li>'HESX1'</li><li>'USP18'</li><li>'NIBAN1'</li><li>'STAP1'</li><li>'HEG1'</li></ol>\n",
       "</dd>\n",
       "\t<dt>$MP3</dt>\n",
       "\t\t<dd><style>\n",
       ".list-inline {list-style: none; margin:0; padding: 0}\n",
       ".list-inline>li {display: inline-block}\n",
       ".list-inline>li:not(:last-child)::after {content: \"\\00b7\"; padding: 0 .5ex}\n",
       "</style>\n",
       "<ol class=list-inline><li>'PLCB1'</li><li>'BMP6'</li><li>'KLRD1'</li><li>'OLR1'</li><li>'TMEM71'</li><li>'CXCR4'</li><li>'SPTLC3'</li><li>'EREG'</li><li>'ENOSF1'</li><li>'SLC16A10'</li><li>'FLRT2'</li><li>'TFPI'</li><li>'AMZ1'</li><li>'ITGB8'</li><li>'DUSP16'</li><li>'SYTL3'</li><li>'CHMP1B'</li><li>'FOXO1'</li><li>'TFRC'</li><li>'FOSL2'</li><li>'RGS2'</li><li>'IFIT2'</li><li>'C5AR2'</li><li>'SSBP2'</li><li>'NOTCH3'</li><li>'PELI2'</li><li>'MALT1'</li><li>'PPM1K'</li><li>'IL15'</li></ol>\n",
       "</dd>\n",
       "\t<dt>$MP4</dt>\n",
       "\t\t<dd><style>\n",
       ".list-inline {list-style: none; margin:0; padding: 0}\n",
       ".list-inline>li {display: inline-block}\n",
       ".list-inline>li:not(:last-child)::after {content: \"\\00b7\"; padding: 0 .5ex}\n",
       "</style>\n",
       "<ol class=list-inline><li>'SLC16A10'</li><li>'THBS1'</li><li>'VCAN'</li><li>'ITGB8'</li><li>'IFIT2'</li><li>'CHMP1B'</li><li>'EREG'</li><li>'CXCL2'</li><li>'WIPI1'</li><li>'RSAD2'</li><li>'RGS2'</li><li>'NOTCH3'</li><li>'ZNF331'</li><li>'FOSL2'</li><li>'MALT1'</li><li>'OASL'</li></ol>\n",
       "</dd>\n",
       "\t<dt>$MP5</dt>\n",
       "\t\t<dd><style>\n",
       ".list-inline {list-style: none; margin:0; padding: 0}\n",
       ".list-inline>li {display: inline-block}\n",
       ".list-inline>li:not(:last-child)::after {content: \"\\00b7\"; padding: 0 .5ex}\n",
       "</style>\n",
       "<ol class=list-inline><li>'RPL10A'</li><li>'IFIT2'</li><li>'NME2'</li><li>'RPS5'</li><li>'EEF1B2'</li><li>'PHPT1'</li><li>'NME4'</li><li>'TOMM6'</li><li>'RPL4'</li><li>'UQCRQ'</li><li>'CHCHD10'</li><li>'MIF'</li><li>'IFIT1'</li><li>'RPSA'</li><li>'RPS6'</li><li>'RPLP0'</li><li>'NDUFB2'</li><li>'ISG20'</li><li>'APRT'</li><li>'SLC25A5'</li><li>'SLC25A6'</li><li>'NT5C3A'</li><li>'RPL5'</li><li>'UQCRH'</li><li>'RPL18A'</li><li>'RPS8'</li><li>'HSPE1'</li><li>'RPLP2'</li><li>'RPS18'</li><li>'RPL7A'</li><li>'OST4'</li><li>'EIF3K'</li><li>'COX5A'</li><li>'UQCR11'</li><li>'RPL7'</li><li>'RPL12'</li><li>'RPL3'</li><li>'ATP5MC3'</li><li>'RPS17'</li><li>'PARK7'</li></ol>\n",
       "</dd>\n",
       "\t<dt>$MP6</dt>\n",
       "\t\t<dd><style>\n",
       ".list-inline {list-style: none; margin:0; padding: 0}\n",
       ".list-inline>li {display: inline-block}\n",
       ".list-inline>li:not(:last-child)::after {content: \"\\00b7\"; padding: 0 .5ex}\n",
       "</style>\n",
       "<ol class=list-inline><li>'CYBB'</li><li>'S100A8'</li><li>'CCL2'</li><li>'S100A9'</li><li>'SPRED1'</li><li>'ITGA9'</li><li>'VSIG4'</li><li>'RSAD2'</li><li>'FGD2'</li><li>'NT5C3A'</li><li>'APOL6'</li></ol>\n",
       "</dd>\n",
       "\t<dt>$MP7</dt>\n",
       "\t\t<dd><style>\n",
       ".list-inline {list-style: none; margin:0; padding: 0}\n",
       ".list-inline>li {display: inline-block}\n",
       ".list-inline>li:not(:last-child)::after {content: \"\\00b7\"; padding: 0 .5ex}\n",
       "</style>\n",
       "<ol class=list-inline><li>'TNFSF10'</li><li>'NT5C3A'</li><li>'PNPT1'</li><li>'FGD2'</li><li>'HERC5'</li><li>'IL15'</li><li>'APOL6'</li></ol>\n",
       "</dd>\n",
       "\t<dt>$MP8</dt>\n",
       "\t\t<dd><style>\n",
       ".list-inline {list-style: none; margin:0; padding: 0}\n",
       ".list-inline>li {display: inline-block}\n",
       ".list-inline>li:not(:last-child)::after {content: \"\\00b7\"; padding: 0 .5ex}\n",
       "</style>\n",
       "<ol class=list-inline><li>'HS3ST2'</li><li>'GDF15'</li><li>'TNFSF10'</li><li>'PHLDA3'</li><li>'RSAD2'</li><li>'FABP4'</li><li>'ISG20'</li><li>'DHRS9'</li><li>'MT2A'</li><li>'HES4'</li><li>'IFIT2'</li><li>'GBP4'</li><li>'NIBAN1'</li><li>'ATP6V0D2'</li><li>'CXCL10'</li><li>'ETV7'</li><li>'USP18'</li><li>'KIAA0040'</li><li>'GMPR'</li><li>'JUN'</li><li>'HLA-DPB1'</li><li>'RGCC'</li><li>'HEG1'</li><li>'NUPR1'</li></ol>\n",
       "</dd>\n",
       "</dl>\n"
      ],
      "text/latex": [
       "\\begin{description}\n",
       "\\item[\\$MP1] \\begin{enumerate*}\n",
       "\\item 'CHI3L1'\n",
       "\\item 'LPL'\n",
       "\\item 'TIMP3'\n",
       "\\item 'FN1'\n",
       "\\item 'CD52'\n",
       "\\item 'FABP4'\n",
       "\\item 'DOCK3'\n",
       "\\end{enumerate*}\n",
       "\n",
       "\\item[\\$MP2] \\begin{enumerate*}\n",
       "\\item 'TNFSF10'\n",
       "\\item 'CCL8'\n",
       "\\item 'GCH1'\n",
       "\\item 'ISG20'\n",
       "\\item 'IFIT2'\n",
       "\\item 'RSAD2'\n",
       "\\item 'MT2A'\n",
       "\\item 'CXCL10'\n",
       "\\item 'UNC5C'\n",
       "\\item 'GBP4'\n",
       "\\item 'HES4'\n",
       "\\item 'MCOLN2'\n",
       "\\item 'OASL'\n",
       "\\item 'BRIP1'\n",
       "\\item 'ETV7'\n",
       "\\item 'HESX1'\n",
       "\\item 'USP18'\n",
       "\\item 'NIBAN1'\n",
       "\\item 'STAP1'\n",
       "\\item 'HEG1'\n",
       "\\end{enumerate*}\n",
       "\n",
       "\\item[\\$MP3] \\begin{enumerate*}\n",
       "\\item 'PLCB1'\n",
       "\\item 'BMP6'\n",
       "\\item 'KLRD1'\n",
       "\\item 'OLR1'\n",
       "\\item 'TMEM71'\n",
       "\\item 'CXCR4'\n",
       "\\item 'SPTLC3'\n",
       "\\item 'EREG'\n",
       "\\item 'ENOSF1'\n",
       "\\item 'SLC16A10'\n",
       "\\item 'FLRT2'\n",
       "\\item 'TFPI'\n",
       "\\item 'AMZ1'\n",
       "\\item 'ITGB8'\n",
       "\\item 'DUSP16'\n",
       "\\item 'SYTL3'\n",
       "\\item 'CHMP1B'\n",
       "\\item 'FOXO1'\n",
       "\\item 'TFRC'\n",
       "\\item 'FOSL2'\n",
       "\\item 'RGS2'\n",
       "\\item 'IFIT2'\n",
       "\\item 'C5AR2'\n",
       "\\item 'SSBP2'\n",
       "\\item 'NOTCH3'\n",
       "\\item 'PELI2'\n",
       "\\item 'MALT1'\n",
       "\\item 'PPM1K'\n",
       "\\item 'IL15'\n",
       "\\end{enumerate*}\n",
       "\n",
       "\\item[\\$MP4] \\begin{enumerate*}\n",
       "\\item 'SLC16A10'\n",
       "\\item 'THBS1'\n",
       "\\item 'VCAN'\n",
       "\\item 'ITGB8'\n",
       "\\item 'IFIT2'\n",
       "\\item 'CHMP1B'\n",
       "\\item 'EREG'\n",
       "\\item 'CXCL2'\n",
       "\\item 'WIPI1'\n",
       "\\item 'RSAD2'\n",
       "\\item 'RGS2'\n",
       "\\item 'NOTCH3'\n",
       "\\item 'ZNF331'\n",
       "\\item 'FOSL2'\n",
       "\\item 'MALT1'\n",
       "\\item 'OASL'\n",
       "\\end{enumerate*}\n",
       "\n",
       "\\item[\\$MP5] \\begin{enumerate*}\n",
       "\\item 'RPL10A'\n",
       "\\item 'IFIT2'\n",
       "\\item 'NME2'\n",
       "\\item 'RPS5'\n",
       "\\item 'EEF1B2'\n",
       "\\item 'PHPT1'\n",
       "\\item 'NME4'\n",
       "\\item 'TOMM6'\n",
       "\\item 'RPL4'\n",
       "\\item 'UQCRQ'\n",
       "\\item 'CHCHD10'\n",
       "\\item 'MIF'\n",
       "\\item 'IFIT1'\n",
       "\\item 'RPSA'\n",
       "\\item 'RPS6'\n",
       "\\item 'RPLP0'\n",
       "\\item 'NDUFB2'\n",
       "\\item 'ISG20'\n",
       "\\item 'APRT'\n",
       "\\item 'SLC25A5'\n",
       "\\item 'SLC25A6'\n",
       "\\item 'NT5C3A'\n",
       "\\item 'RPL5'\n",
       "\\item 'UQCRH'\n",
       "\\item 'RPL18A'\n",
       "\\item 'RPS8'\n",
       "\\item 'HSPE1'\n",
       "\\item 'RPLP2'\n",
       "\\item 'RPS18'\n",
       "\\item 'RPL7A'\n",
       "\\item 'OST4'\n",
       "\\item 'EIF3K'\n",
       "\\item 'COX5A'\n",
       "\\item 'UQCR11'\n",
       "\\item 'RPL7'\n",
       "\\item 'RPL12'\n",
       "\\item 'RPL3'\n",
       "\\item 'ATP5MC3'\n",
       "\\item 'RPS17'\n",
       "\\item 'PARK7'\n",
       "\\end{enumerate*}\n",
       "\n",
       "\\item[\\$MP6] \\begin{enumerate*}\n",
       "\\item 'CYBB'\n",
       "\\item 'S100A8'\n",
       "\\item 'CCL2'\n",
       "\\item 'S100A9'\n",
       "\\item 'SPRED1'\n",
       "\\item 'ITGA9'\n",
       "\\item 'VSIG4'\n",
       "\\item 'RSAD2'\n",
       "\\item 'FGD2'\n",
       "\\item 'NT5C3A'\n",
       "\\item 'APOL6'\n",
       "\\end{enumerate*}\n",
       "\n",
       "\\item[\\$MP7] \\begin{enumerate*}\n",
       "\\item 'TNFSF10'\n",
       "\\item 'NT5C3A'\n",
       "\\item 'PNPT1'\n",
       "\\item 'FGD2'\n",
       "\\item 'HERC5'\n",
       "\\item 'IL15'\n",
       "\\item 'APOL6'\n",
       "\\end{enumerate*}\n",
       "\n",
       "\\item[\\$MP8] \\begin{enumerate*}\n",
       "\\item 'HS3ST2'\n",
       "\\item 'GDF15'\n",
       "\\item 'TNFSF10'\n",
       "\\item 'PHLDA3'\n",
       "\\item 'RSAD2'\n",
       "\\item 'FABP4'\n",
       "\\item 'ISG20'\n",
       "\\item 'DHRS9'\n",
       "\\item 'MT2A'\n",
       "\\item 'HES4'\n",
       "\\item 'IFIT2'\n",
       "\\item 'GBP4'\n",
       "\\item 'NIBAN1'\n",
       "\\item 'ATP6V0D2'\n",
       "\\item 'CXCL10'\n",
       "\\item 'ETV7'\n",
       "\\item 'USP18'\n",
       "\\item 'KIAA0040'\n",
       "\\item 'GMPR'\n",
       "\\item 'JUN'\n",
       "\\item 'HLA-DPB1'\n",
       "\\item 'RGCC'\n",
       "\\item 'HEG1'\n",
       "\\item 'NUPR1'\n",
       "\\end{enumerate*}\n",
       "\n",
       "\\end{description}\n"
      ],
      "text/markdown": [
       "$MP1\n",
       ":   1. 'CHI3L1'\n",
       "2. 'LPL'\n",
       "3. 'TIMP3'\n",
       "4. 'FN1'\n",
       "5. 'CD52'\n",
       "6. 'FABP4'\n",
       "7. 'DOCK3'\n",
       "\n",
       "\n",
       "\n",
       "$MP2\n",
       ":   1. 'TNFSF10'\n",
       "2. 'CCL8'\n",
       "3. 'GCH1'\n",
       "4. 'ISG20'\n",
       "5. 'IFIT2'\n",
       "6. 'RSAD2'\n",
       "7. 'MT2A'\n",
       "8. 'CXCL10'\n",
       "9. 'UNC5C'\n",
       "10. 'GBP4'\n",
       "11. 'HES4'\n",
       "12. 'MCOLN2'\n",
       "13. 'OASL'\n",
       "14. 'BRIP1'\n",
       "15. 'ETV7'\n",
       "16. 'HESX1'\n",
       "17. 'USP18'\n",
       "18. 'NIBAN1'\n",
       "19. 'STAP1'\n",
       "20. 'HEG1'\n",
       "\n",
       "\n",
       "\n",
       "$MP3\n",
       ":   1. 'PLCB1'\n",
       "2. 'BMP6'\n",
       "3. 'KLRD1'\n",
       "4. 'OLR1'\n",
       "5. 'TMEM71'\n",
       "6. 'CXCR4'\n",
       "7. 'SPTLC3'\n",
       "8. 'EREG'\n",
       "9. 'ENOSF1'\n",
       "10. 'SLC16A10'\n",
       "11. 'FLRT2'\n",
       "12. 'TFPI'\n",
       "13. 'AMZ1'\n",
       "14. 'ITGB8'\n",
       "15. 'DUSP16'\n",
       "16. 'SYTL3'\n",
       "17. 'CHMP1B'\n",
       "18. 'FOXO1'\n",
       "19. 'TFRC'\n",
       "20. 'FOSL2'\n",
       "21. 'RGS2'\n",
       "22. 'IFIT2'\n",
       "23. 'C5AR2'\n",
       "24. 'SSBP2'\n",
       "25. 'NOTCH3'\n",
       "26. 'PELI2'\n",
       "27. 'MALT1'\n",
       "28. 'PPM1K'\n",
       "29. 'IL15'\n",
       "\n",
       "\n",
       "\n",
       "$MP4\n",
       ":   1. 'SLC16A10'\n",
       "2. 'THBS1'\n",
       "3. 'VCAN'\n",
       "4. 'ITGB8'\n",
       "5. 'IFIT2'\n",
       "6. 'CHMP1B'\n",
       "7. 'EREG'\n",
       "8. 'CXCL2'\n",
       "9. 'WIPI1'\n",
       "10. 'RSAD2'\n",
       "11. 'RGS2'\n",
       "12. 'NOTCH3'\n",
       "13. 'ZNF331'\n",
       "14. 'FOSL2'\n",
       "15. 'MALT1'\n",
       "16. 'OASL'\n",
       "\n",
       "\n",
       "\n",
       "$MP5\n",
       ":   1. 'RPL10A'\n",
       "2. 'IFIT2'\n",
       "3. 'NME2'\n",
       "4. 'RPS5'\n",
       "5. 'EEF1B2'\n",
       "6. 'PHPT1'\n",
       "7. 'NME4'\n",
       "8. 'TOMM6'\n",
       "9. 'RPL4'\n",
       "10. 'UQCRQ'\n",
       "11. 'CHCHD10'\n",
       "12. 'MIF'\n",
       "13. 'IFIT1'\n",
       "14. 'RPSA'\n",
       "15. 'RPS6'\n",
       "16. 'RPLP0'\n",
       "17. 'NDUFB2'\n",
       "18. 'ISG20'\n",
       "19. 'APRT'\n",
       "20. 'SLC25A5'\n",
       "21. 'SLC25A6'\n",
       "22. 'NT5C3A'\n",
       "23. 'RPL5'\n",
       "24. 'UQCRH'\n",
       "25. 'RPL18A'\n",
       "26. 'RPS8'\n",
       "27. 'HSPE1'\n",
       "28. 'RPLP2'\n",
       "29. 'RPS18'\n",
       "30. 'RPL7A'\n",
       "31. 'OST4'\n",
       "32. 'EIF3K'\n",
       "33. 'COX5A'\n",
       "34. 'UQCR11'\n",
       "35. 'RPL7'\n",
       "36. 'RPL12'\n",
       "37. 'RPL3'\n",
       "38. 'ATP5MC3'\n",
       "39. 'RPS17'\n",
       "40. 'PARK7'\n",
       "\n",
       "\n",
       "\n",
       "$MP6\n",
       ":   1. 'CYBB'\n",
       "2. 'S100A8'\n",
       "3. 'CCL2'\n",
       "4. 'S100A9'\n",
       "5. 'SPRED1'\n",
       "6. 'ITGA9'\n",
       "7. 'VSIG4'\n",
       "8. 'RSAD2'\n",
       "9. 'FGD2'\n",
       "10. 'NT5C3A'\n",
       "11. 'APOL6'\n",
       "\n",
       "\n",
       "\n",
       "$MP7\n",
       ":   1. 'TNFSF10'\n",
       "2. 'NT5C3A'\n",
       "3. 'PNPT1'\n",
       "4. 'FGD2'\n",
       "5. 'HERC5'\n",
       "6. 'IL15'\n",
       "7. 'APOL6'\n",
       "\n",
       "\n",
       "\n",
       "$MP8\n",
       ":   1. 'HS3ST2'\n",
       "2. 'GDF15'\n",
       "3. 'TNFSF10'\n",
       "4. 'PHLDA3'\n",
       "5. 'RSAD2'\n",
       "6. 'FABP4'\n",
       "7. 'ISG20'\n",
       "8. 'DHRS9'\n",
       "9. 'MT2A'\n",
       "10. 'HES4'\n",
       "11. 'IFIT2'\n",
       "12. 'GBP4'\n",
       "13. 'NIBAN1'\n",
       "14. 'ATP6V0D2'\n",
       "15. 'CXCL10'\n",
       "16. 'ETV7'\n",
       "17. 'USP18'\n",
       "18. 'KIAA0040'\n",
       "19. 'GMPR'\n",
       "20. 'JUN'\n",
       "21. 'HLA-DPB1'\n",
       "22. 'RGCC'\n",
       "23. 'HEG1'\n",
       "24. 'NUPR1'\n",
       "\n",
       "\n",
       "\n",
       "\n",
       "\n"
      ],
      "text/plain": [
       "$MP1\n",
       "[1] \"CHI3L1\" \"LPL\"    \"TIMP3\"  \"FN1\"    \"CD52\"   \"FABP4\"  \"DOCK3\" \n",
       "\n",
       "$MP2\n",
       " [1] \"TNFSF10\" \"CCL8\"    \"GCH1\"    \"ISG20\"   \"IFIT2\"   \"RSAD2\"   \"MT2A\"   \n",
       " [8] \"CXCL10\"  \"UNC5C\"   \"GBP4\"    \"HES4\"    \"MCOLN2\"  \"OASL\"    \"BRIP1\"  \n",
       "[15] \"ETV7\"    \"HESX1\"   \"USP18\"   \"NIBAN1\"  \"STAP1\"   \"HEG1\"   \n",
       "\n",
       "$MP3\n",
       " [1] \"PLCB1\"    \"BMP6\"     \"KLRD1\"    \"OLR1\"     \"TMEM71\"   \"CXCR4\"   \n",
       " [7] \"SPTLC3\"   \"EREG\"     \"ENOSF1\"   \"SLC16A10\" \"FLRT2\"    \"TFPI\"    \n",
       "[13] \"AMZ1\"     \"ITGB8\"    \"DUSP16\"   \"SYTL3\"    \"CHMP1B\"   \"FOXO1\"   \n",
       "[19] \"TFRC\"     \"FOSL2\"    \"RGS2\"     \"IFIT2\"    \"C5AR2\"    \"SSBP2\"   \n",
       "[25] \"NOTCH3\"   \"PELI2\"    \"MALT1\"    \"PPM1K\"    \"IL15\"    \n",
       "\n",
       "$MP4\n",
       " [1] \"SLC16A10\" \"THBS1\"    \"VCAN\"     \"ITGB8\"    \"IFIT2\"    \"CHMP1B\"  \n",
       " [7] \"EREG\"     \"CXCL2\"    \"WIPI1\"    \"RSAD2\"    \"RGS2\"     \"NOTCH3\"  \n",
       "[13] \"ZNF331\"   \"FOSL2\"    \"MALT1\"    \"OASL\"    \n",
       "\n",
       "$MP5\n",
       " [1] \"RPL10A\"  \"IFIT2\"   \"NME2\"    \"RPS5\"    \"EEF1B2\"  \"PHPT1\"   \"NME4\"   \n",
       " [8] \"TOMM6\"   \"RPL4\"    \"UQCRQ\"   \"CHCHD10\" \"MIF\"     \"IFIT1\"   \"RPSA\"   \n",
       "[15] \"RPS6\"    \"RPLP0\"   \"NDUFB2\"  \"ISG20\"   \"APRT\"    \"SLC25A5\" \"SLC25A6\"\n",
       "[22] \"NT5C3A\"  \"RPL5\"    \"UQCRH\"   \"RPL18A\"  \"RPS8\"    \"HSPE1\"   \"RPLP2\"  \n",
       "[29] \"RPS18\"   \"RPL7A\"   \"OST4\"    \"EIF3K\"   \"COX5A\"   \"UQCR11\"  \"RPL7\"   \n",
       "[36] \"RPL12\"   \"RPL3\"    \"ATP5MC3\" \"RPS17\"   \"PARK7\"  \n",
       "\n",
       "$MP6\n",
       " [1] \"CYBB\"   \"S100A8\" \"CCL2\"   \"S100A9\" \"SPRED1\" \"ITGA9\"  \"VSIG4\"  \"RSAD2\" \n",
       " [9] \"FGD2\"   \"NT5C3A\" \"APOL6\" \n",
       "\n",
       "$MP7\n",
       "[1] \"TNFSF10\" \"NT5C3A\"  \"PNPT1\"   \"FGD2\"    \"HERC5\"   \"IL15\"    \"APOL6\"  \n",
       "\n",
       "$MP8\n",
       " [1] \"HS3ST2\"   \"GDF15\"    \"TNFSF10\"  \"PHLDA3\"   \"RSAD2\"    \"FABP4\"   \n",
       " [7] \"ISG20\"    \"DHRS9\"    \"MT2A\"     \"HES4\"     \"IFIT2\"    \"GBP4\"    \n",
       "[13] \"NIBAN1\"   \"ATP6V0D2\" \"CXCL10\"   \"ETV7\"     \"USP18\"    \"KIAA0040\"\n",
       "[19] \"GMPR\"     \"JUN\"      \"HLA-DPB1\" \"RGCC\"     \"HEG1\"     \"NUPR1\"   \n"
      ]
     },
     "metadata": {},
     "output_type": "display_data"
    }
   ],
   "source": [
    "geneNMF.metaprograms$metaprograms.genes"
   ]
  },
  {
   "cell_type": "code",
   "execution_count": 57,
   "id": "46c6f422-63bb-4646-9a4d-0121102d5bc3",
   "metadata": {
    "vscode": {
     "languageId": "r"
    }
   },
   "outputs": [],
   "source": [
    "MP1_genes = geneNMF.metaprograms$metaprograms.genes$MP1\n",
    "MP2_genes = geneNMF.metaprograms$metaprograms.genes$MP2\n",
    "MP3_genes = geneNMF.metaprograms$metaprograms.genes$MP3\n",
    "MP4_genes = geneNMF.metaprograms$metaprograms.genes$MP4\n",
    "MP5_genes = geneNMF.metaprograms$metaprograms.genes$MP5"
   ]
  },
  {
   "cell_type": "code",
   "execution_count": 58,
   "id": "a8decb32-b3d3-43a8-bb3a-8354466c31bd",
   "metadata": {
    "vscode": {
     "languageId": "r"
    }
   },
   "outputs": [],
   "source": [
    "MP_labels <- c(rep(\"MP1\", length(MP1_genes)),\n",
    "               rep(\"MP2\", length(MP2_genes)),\n",
    "               rep(\"MP3\", length(MP3_genes)),\n",
    "               rep(\"MP4\", length(MP4_genes)),\n",
    "               rep(\"MP5\", length(MP5_genes)))\n",
    "\n",
    "Genes <- c(MP1_genes, MP2_genes, MP3_genes, MP4_genes, MP5_genes)\n",
    "\n",
    "geneNMF.metaprograms_df <- data.frame(MP = MP_labels, Genes = Genes)"
   ]
  },
  {
   "cell_type": "code",
   "execution_count": 65,
   "id": "85f524d4-5adf-4b1d-ad70-1cb0631e49c8",
   "metadata": {
    "vscode": {
     "languageId": "r"
    }
   },
   "outputs": [],
   "source": [
    "mp.genes <- geneNMF.metaprograms$metaprograms.genes"
   ]
  },
  {
   "cell_type": "code",
   "execution_count": 66,
   "id": "a15ce1c9-59c4-473d-8390-fbd9955f2ae6",
   "metadata": {
    "vscode": {
     "languageId": "r"
    }
   },
   "outputs": [],
   "source": [
    "CRISPRi_5umi_subset <- AddModuleScore(CRISPRi_5umi_subset, features = mp.genes, ctrl = 100, ncores=4, name = \"mp\")"
   ]
  },
  {
   "cell_type": "code",
   "execution_count": 67,
   "id": "574c779a-8e68-404a-b945-74bf3b6c63bb",
   "metadata": {
    "vscode": {
     "languageId": "r"
    }
   },
   "outputs": [],
   "source": [
    "CRISPRa_5umi_subset <- AddModuleScore(CRISPRa_5umi_subset, features = mp.genes, ctrl = 100, ncores=4, name = \"mp\")"
   ]
  },
  {
   "cell_type": "code",
   "execution_count": 68,
   "id": "6bb706d4-45a6-4855-998b-95f44cc274da",
   "metadata": {
    "vscode": {
     "languageId": "r"
    }
   },
   "outputs": [],
   "source": [
    "CRISPRa_metadata = CRISPRa_5umi_subset[[]]\n",
    "CRISPRi_metadata = CRISPRi_5umi_subset[[]]"
   ]
  },
  {
   "cell_type": "code",
   "execution_count": 69,
   "id": "aa2a94a2-f8e0-4b46-84e4-7c49bc8f9e6f",
   "metadata": {
    "vscode": {
     "languageId": "r"
    }
   },
   "outputs": [],
   "source": [
    "module_scores_CRISPRi = CRISPRi_metadata %>%\n",
    "  group_by(Gene_Targeted) %>%\n",
    "  summarize(\n",
    "    MP1 = mean(mp1, na.rm = TRUE),\n",
    "    MP2 = mean(mp2, na.rm = TRUE),\n",
    "    MP3 = mean(mp3, na.rm = TRUE),\n",
    "    MP4 = mean(mp4, na.rm = TRUE),\n",
    "    MP5 = mean(mp5, na.rm = TRUE)\n",
    "  )"
   ]
  },
  {
   "cell_type": "code",
   "execution_count": 70,
   "id": "f8158ea2-c619-4168-8b5f-3fcec0339e04",
   "metadata": {
    "vscode": {
     "languageId": "r"
    }
   },
   "outputs": [],
   "source": [
    "module_scores_CRISPRi = data.frame(module_scores_CRISPRi)"
   ]
  },
  {
   "cell_type": "code",
   "execution_count": 71,
   "id": "b55e87b0-efe1-4f15-b385-fea5fddf66c5",
   "metadata": {
    "vscode": {
     "languageId": "r"
    }
   },
   "outputs": [],
   "source": [
    "rownames(module_scores_CRISPRi) = module_scores_CRISPRi$Gene_Targeted"
   ]
  },
  {
   "cell_type": "code",
   "execution_count": 72,
   "id": "36f0bae1-ba8b-4895-bfcb-91c938d9e381",
   "metadata": {
    "vscode": {
     "languageId": "r"
    }
   },
   "outputs": [],
   "source": [
    "module_scores_CRISPRi = module_scores_CRISPRi[,-1]"
   ]
  },
  {
   "cell_type": "code",
   "execution_count": 73,
   "id": "7b4aa26b-a133-4e1c-85b2-2a238c6b097f",
   "metadata": {
    "vscode": {
     "languageId": "r"
    }
   },
   "outputs": [],
   "source": [
    "# Calculate mean and sd for each module\n",
    "means <- apply(module_scores_CRISPRi, 2, mean)\n",
    "sds <- apply(module_scores_CRISPRi, 2, sd)"
   ]
  },
  {
   "cell_type": "code",
   "execution_count": 76,
   "id": "355bba71-b1ea-4b63-843e-bc9010cb86e7",
   "metadata": {
    "vscode": {
     "languageId": "r"
    }
   },
   "outputs": [],
   "source": [
    "z_scores <- sweep(module_scores_CRISPRi, 2, means, \"-\")\n",
    "z_scores <- sweep(z_scores, 2, sds, \"/\")"
   ]
  },
  {
   "cell_type": "code",
   "execution_count": 78,
   "id": "59ac1375-0b43-489f-8eed-599218815516",
   "metadata": {
    "vscode": {
     "languageId": "r"
    }
   },
   "outputs": [],
   "source": [
    "module_scores_CRISPRa = CRISPRa_metadata %>%\n",
    "  group_by(Gene_Targeted) %>%\n",
    "  summarize(\n",
    "    MP1 = mean(mp1, na.rm = TRUE),\n",
    "    MP2 = mean(mp2, na.rm = TRUE),\n",
    "    MP3 = mean(mp3, na.rm = TRUE),\n",
    "    MP4 = mean(mp4, na.rm = TRUE),\n",
    "    MP5 = mean(mp5, na.rm = TRUE)\n",
    "  )"
   ]
  },
  {
   "cell_type": "code",
   "execution_count": 79,
   "id": "714eafcb-f3d2-4004-b54c-792ac59f20b2",
   "metadata": {
    "vscode": {
     "languageId": "r"
    }
   },
   "outputs": [],
   "source": [
    "module_scores_CRISPRa = data.frame(module_scores_CRISPRa)"
   ]
  },
  {
   "cell_type": "code",
   "execution_count": 80,
   "id": "29b1984e-fc3c-46a6-98b6-bf24779bbf49",
   "metadata": {
    "vscode": {
     "languageId": "r"
    }
   },
   "outputs": [],
   "source": [
    "rownames(module_scores_CRISPRa) = module_scores_CRISPRa$Gene_Targeted"
   ]
  },
  {
   "cell_type": "code",
   "execution_count": 81,
   "id": "17edb3f7-b434-4ce8-b058-baeeb6876362",
   "metadata": {
    "vscode": {
     "languageId": "r"
    }
   },
   "outputs": [],
   "source": [
    "module_scores_CRISPRa = module_scores_CRISPRa[,-1]"
   ]
  },
  {
   "cell_type": "code",
   "execution_count": 82,
   "id": "7bb92890-ea85-41c7-87f5-76685aa6ef36",
   "metadata": {
    "vscode": {
     "languageId": "r"
    }
   },
   "outputs": [],
   "source": [
    "# Calculate mean and sd for each module\n",
    "means <- apply(module_scores_CRISPRa, 2, mean)\n",
    "sds <- apply(module_scores_CRISPRa, 2, sd)"
   ]
  },
  {
   "cell_type": "code",
   "execution_count": 85,
   "id": "c1e98a6a-ebd1-48af-bc3f-a14f7f7a7e11",
   "metadata": {
    "vscode": {
     "languageId": "r"
    }
   },
   "outputs": [],
   "source": [
    "z_scores <- sweep(module_scores_CRISPRa, 2, means, \"-\")\n",
    "z_scores <- sweep(z_scores, 2, sds, \"/\")"
   ]
  },
  {
   "cell_type": "markdown",
   "id": "3245823c-bf1a-4d4d-9232-a9b1b0493d28",
   "metadata": {},
   "source": [
    "### Merge seurat"
   ]
  },
  {
   "cell_type": "code",
   "execution_count": 1181,
   "id": "1e513c76-6078-4320-9973-e844e2cc25e2",
   "metadata": {
    "vscode": {
     "languageId": "r"
    }
   },
   "outputs": [],
   "source": [
    "merged_seurat = merge(CRISPRi_5umi_subset, CRISPRa_5umi_subset)"
   ]
  },
  {
   "cell_type": "code",
   "execution_count": 1182,
   "id": "735c3b63-c961-4fbe-b343-d8e80008005f",
   "metadata": {
    "vscode": {
     "languageId": "r"
    }
   },
   "outputs": [],
   "source": [
    "merged_seurat <- JoinLayers(merged_seurat)"
   ]
  },
  {
   "cell_type": "code",
   "execution_count": 1190,
   "id": "73b27c97-a592-425d-93ae-b002a88e2c71",
   "metadata": {
    "vscode": {
     "languageId": "r"
    }
   },
   "outputs": [],
   "source": [
    "merged_seurat[[]] <- merged_seurat[[]] %>%\n",
    "  mutate(crispr_modality = sub(\"_.*\", \"\", donor_crispr))"
   ]
  },
  {
   "cell_type": "code",
   "execution_count": 1195,
   "id": "d1d2e372-1d9b-4dcd-ba35-6253c73ab0d0",
   "metadata": {
    "vscode": {
     "languageId": "r"
    }
   },
   "outputs": [],
   "source": [
    "matrix <- merged_seurat@meta.data[,names(mp.genes)]\n",
    "\n",
    "#dimred <- scale(matrix)\n",
    "dimred <- as.matrix(matrix)\n",
    "\n",
    "colnames(dimred) <- paste0(\"MP_\",seq(1, ncol(dimred)))\n",
    "#New dim reduction\n",
    "merged_seurat@reductions[[\"MPsignatures\"]] <- new(\"DimReduc\",\n",
    "                                         cell.embeddings = dimred,\n",
    "                                         assay.used = \"RNA\",\n",
    "                                         key = \"MP_\",\n",
    "                                         global = FALSE)"
   ]
  },
  {
   "cell_type": "code",
   "execution_count": 1196,
   "id": "a58ab221-175e-418f-b815-814340212861",
   "metadata": {
    "scrolled": true,
    "vscode": {
     "languageId": "r"
    }
   },
   "outputs": [
    {
     "name": "stderr",
     "output_type": "stream",
     "text": [
      "00:07:33 UMAP embedding parameters a = 0.9922 b = 1.112\n",
      "\n",
      "00:07:33 Read 30205 rows and found 8 numeric columns\n",
      "\n",
      "00:07:33 Using Annoy for neighbor search, n_neighbors = 30\n",
      "\n",
      "00:07:33 Building Annoy index with metric = euclidean, n_trees = 50\n",
      "\n",
      "0%   10   20   30   40   50   60   70   80   90   100%\n",
      "\n",
      "[----|----|----|----|----|----|----|----|----|----|\n",
      "\n",
      "*\n",
      "*\n",
      "*\n",
      "*\n",
      "*\n",
      "*\n",
      "*\n",
      "*\n",
      "*\n",
      "*\n",
      "*\n",
      "*\n",
      "*\n",
      "*\n",
      "*\n",
      "*\n",
      "*\n",
      "*\n",
      "*\n",
      "*\n",
      "*\n",
      "*\n",
      "*\n",
      "*\n",
      "*\n",
      "*\n",
      "*\n",
      "*\n",
      "*\n",
      "*\n",
      "*\n",
      "*\n",
      "*\n",
      "*\n",
      "*\n",
      "*\n",
      "*\n",
      "*\n",
      "*\n",
      "*\n",
      "*\n",
      "*\n",
      "*\n",
      "*\n",
      "*\n",
      "*\n",
      "*\n",
      "*\n",
      "*\n",
      "*\n",
      "|\n",
      "\n",
      "00:07:35 Writing NN index file to temp file /tmp/Rtmp4E5tzo/file217bb326c9c2aa\n",
      "\n",
      "00:07:35 Searching Annoy index using 1 thread, search_k = 3000\n",
      "\n",
      "00:07:44 Annoy recall = 100%\n",
      "\n",
      "00:07:46 Commencing smooth kNN distance calibration using 1 thread\n",
      " with target n_neighbors = 30\n",
      "\n",
      "00:07:49 Initializing from normalized Laplacian + noise (using RSpectra)\n",
      "\n",
      "00:07:49 Commencing optimization for 200 epochs, with 1163778 positive edges\n",
      "\n",
      "00:08:01 Optimization finished\n",
      "\n"
     ]
    }
   ],
   "source": [
    "merged_seurat <- RunUMAP(merged_seurat, reduction=\"MPsignatures\", dims=1:length(merged_seurat@reductions[[\"MPsignatures\"]]),\n",
    "                metric = \"euclidean\", reduction.name = \"umap_MP\")"
   ]
  },
  {
   "cell_type": "code",
   "execution_count": 1205,
   "id": "92140794-4b17-4666-b375-3d50de92b91c",
   "metadata": {
    "scrolled": true,
    "vscode": {
     "languageId": "r"
    }
   },
   "outputs": [
    {
     "name": "stderr",
     "output_type": "stream",
     "text": [
      "Finding variable features for layer counts\n",
      "\n",
      "PC_ 1 \n",
      "Positive:  MT-ND3, SPP1, MT-CYB, TPRG1, RGL1, SLC8A1, PRKCA, SLC39A8, GSN, MERTK \n",
      "\t   IL1RN, ACTB, NRP1, SFMBT2, MAML2, MMP9, ANPEP, TNS3, MYOF, FAM20C \n",
      "\t   ETV5, PKM, ACTG1, MTRNR2L1, DUSP6, UBASH3B, MT-ND6, MYO1E, TREM2, KCNK13 \n",
      "Negative:  HLA-DRB1, TMEM176B, RPS3, TDRD3, HLA-DQB1, RPS23, RPL7A, RPS12, TMEM176A, RPL18A \n",
      "\t   RPL12, RPS2, TPSB2, CFD, NUPR1, RPL5, HLA-DMB, ZNF704, CDKN1C, CLEC2B \n",
      "\t   NPM1, SDS, HLA-DPB1, RPS5, TNFAIP2, RPL3, HLA-DQA1, RPLP1, RPS8, IGF1 \n",
      "PC_ 2 \n",
      "Positive:  MARCKS, ISG15, IFIT1, IFIT2, IFIT3, RSAD2, PDE4B, FUCA1, FCGR3A, CD38 \n",
      "\t   NCF1, CCL8, NT5C3A, CCL2, MS4A6A, ISG20, DDX58, LGMN, GCNT1, C1QC \n",
      "\t   OASL, RGL1, KLF6, IFITM2, GCH1, LILRA5, HERC5, IGF1, STEAP1B, LILRB5 \n",
      "Negative:  LPL, FABP5, DOCK3, CD52, TIMP3, RASAL2, FLRT2, MMP9, FN1, PDE4D \n",
      "\t   CYP27A1, SLC7A11, CHST11, SOX4, FABP4, CDK14, MGST1, PAM, MREG, RPL5 \n",
      "\t   RPL3, FYN, RPL10A, AUTS2, FBP1, RGCC, TM4SF19, A2M, FGFR1, RPS8 \n",
      "PC_ 3 \n",
      "Positive:  SIPA1L1, SLC16A10, FNDC3A, THBS1, ARID5B, MALT1, ENOSF1, PLCB1, MEIKIN, WIPI1 \n",
      "\t   GNA12, SDC2, MXD1, KYNU, FLRT2, ZNF331, MOB3B, EREG, BTG1, SDS \n",
      "\t   STARD13, STAT4, SLC11A1, JARID2, COL23A1, PITPNC1, SYTL3, CADM1, FAM102B, ITGB8 \n",
      "Negative:  RPLP1, PRDX1, ANXA2, TUBA1B, NME2, SH3BGRL3, ACTB, VIM, LGALS3, RPS12 \n",
      "\t   COX5B, ATP5MC3, RPS2, MIF, RPSA, CSTB, RPS8, COX7B, HSPA8, CHCHD10 \n",
      "\t   ENO1, CYCS, HSP90AB1, HSP90AA1, CCL2, DBI, UQCRQ, RPS6, LGALS1, CALM3 \n",
      "PC_ 4 \n",
      "Positive:  DYNC1I1, GPC5, MLF1, PRKG1, PKIA, SLC25A4, EPB41L5, BEX2, RRAS2, RSAD2 \n",
      "\t   FAM171B, NEGR1, NT5C3A, NIBAN1, IFIT2, DNAH14, SCN9A, AASS, DNAJC6, TTLL7 \n",
      "\t   NCAM2, KHDRBS2, SERPINI1, KHDRBS3, CSRP2, CRISPLD1, OPTN, GNAI1, OCIAD2, ABCB1 \n",
      "Negative:  S100A9, SH3BGRL3, RPL3, RPL12, ACTB, C1QA, RPL7A, S100A4, FBP1, LGALS1 \n",
      "\t   CYP27A1, HMOX1, NME2, RPS23, LSP1, CSTB, ACTG1, RPL18A, FABP5, RPL10A \n",
      "\t   CYP1B1, VIM, RPS3, C1QC, SLAMF8, RAB7B, C1QB, C9orf16, RPS8, RPLP2 \n",
      "PC_ 5 \n",
      "Positive:  IFIT2, ISG15, ISG20, IFIT3, RSAD2, IFIT1, OASL, NUPR1, HERC5, HES4 \n",
      "\t   IL1RN, GBP1, ATF3, CXCL10, GBP5, APOBEC3A, NT5C3A, DDX58, PSMB9, SOD2 \n",
      "\t   CXCR4, BTG1, GBP4, IFITM2, SDS, VAMP5, CD83, DPP4, SLAMF7, FLRT2 \n",
      "Negative:  FUCA1, CYBB, MRC1, C1QA, C1QC, CD163L1, S100A9, ADK, C1QB, BNC2 \n",
      "\t   SPRED1, SLC9A9, TRPM2, ANKH, CLEC5A, CD93, LILRB5, IGF1, PRKCA, HSP90B1 \n",
      "\t   ITGA4, COLEC12, FCN1, CCSER1, ME1, FCGR3A, TIMP1, MERTK, ITGA9, SMYD3 \n",
      "\n",
      "00:13:17 UMAP embedding parameters a = 0.9922 b = 1.112\n",
      "\n",
      "00:13:17 Read 30205 rows and found 15 numeric columns\n",
      "\n",
      "00:13:17 Using Annoy for neighbor search, n_neighbors = 30\n",
      "\n",
      "00:13:17 Building Annoy index with metric = cosine, n_trees = 50\n",
      "\n",
      "0%   10   20   30   40   50   60   70   80   90   100%\n",
      "\n",
      "[----|----|----|----|----|----|----|----|----|----|\n",
      "\n",
      "*\n",
      "*\n",
      "*\n",
      "*\n",
      "*\n",
      "*\n",
      "*\n",
      "*\n",
      "*\n",
      "*\n",
      "*\n",
      "*\n",
      "*\n",
      "*\n",
      "*\n",
      "*\n",
      "*\n",
      "*\n",
      "*\n",
      "*\n",
      "*\n",
      "*\n",
      "*\n",
      "*\n",
      "*\n",
      "*\n",
      "*\n",
      "*\n",
      "*\n",
      "*\n",
      "*\n",
      "*\n",
      "*\n",
      "*\n",
      "*\n",
      "*\n",
      "*\n",
      "*\n",
      "*\n",
      "*\n",
      "*\n",
      "*\n",
      "*\n",
      "*\n",
      "*\n",
      "*\n",
      "*\n",
      "*\n",
      "*\n",
      "*\n",
      "|\n",
      "\n",
      "00:13:20 Writing NN index file to temp file /tmp/Rtmp4E5tzo/file217bb325fd7243\n",
      "\n",
      "00:13:20 Searching Annoy index using 1 thread, search_k = 3000\n",
      "\n",
      "00:13:29 Annoy recall = 100%\n",
      "\n",
      "00:13:30 Commencing smooth kNN distance calibration using 1 thread\n",
      " with target n_neighbors = 30\n",
      "\n",
      "00:13:33 Initializing from normalized Laplacian + noise (using RSpectra)\n",
      "\n",
      "00:13:33 Commencing optimization for 200 epochs, with 1262900 positive edges\n",
      "\n",
      "00:13:45 Optimization finished\n",
      "\n"
     ]
    }
   ],
   "source": [
    "merged_seurat <- FindVariableFeatures(merged_seurat, selection.method = \"vst\", nfeatures = 2000)\n",
    "merged_seurat <- RunPCA(merged_seurat, features = VariableFeatures(object = merged_seurat))\n",
    "merged_seurat <- RunUMAP(merged_seurat, dims=1:15)"
   ]
  },
  {
   "cell_type": "code",
   "execution_count": 1213,
   "id": "f6ab9371-59f7-4e2d-9cbd-d3d38a560544",
   "metadata": {
    "vscode": {
     "languageId": "r"
    }
   },
   "outputs": [
    {
     "data": {
      "text/html": [
       "<strong>png:</strong> 2"
      ],
      "text/latex": [
       "\\textbf{png:} 2"
      ],
      "text/markdown": [
       "**png:** 2"
      ],
      "text/plain": [
       "png \n",
       "  2 "
      ]
     },
     "metadata": {},
     "output_type": "display_data"
    }
   ],
   "source": [
    "dimplot <- DimPlot(merged_seurat, reduction = \"umap\", group.by = \"donor_crispr\", label=T) + scale_color_brewer(palette = \"Dark2\") \n",
    "pdf(\"Combined_UMAP_splitdonor.pdf\")\n",
    "print(dimplot)\n",
    "dev.off()"
   ]
  },
  {
   "cell_type": "code",
   "execution_count": 1212,
   "id": "a4b20af0-6bfb-4704-baa4-1fd365933866",
   "metadata": {
    "vscode": {
     "languageId": "r"
    }
   },
   "outputs": [
    {
     "data": {
      "text/html": [
       "<strong>png:</strong> 2"
      ],
      "text/latex": [
       "\\textbf{png:} 2"
      ],
      "text/markdown": [
       "**png:** 2"
      ],
      "text/plain": [
       "png \n",
       "  2 "
      ]
     },
     "metadata": {},
     "output_type": "display_data"
    }
   ],
   "source": [
    "dimplot <- DimPlot(merged_seurat, reduction = \"umap_MP\", group.by = \"donor_crispr\", label=T) + scale_color_brewer(palette = \"Dark2\") + ggtitle(\"UMAP with NMF\")\n",
    "pdf(\"Combined_NMF_UMAP.pdf\")\n",
    "print(dimplot)\n",
    "dev.off()"
   ]
  },
  {
   "cell_type": "markdown",
   "id": "91fa6ee1-0f0b-4e44-aa7c-6504f5c49907",
   "metadata": {},
   "source": [
    "### Load SPI1 data"
   ]
  },
  {
   "cell_type": "code",
   "execution_count": 2,
   "id": "a1eafd83-aa37-4c03-8fae-d06a8f340ca3",
   "metadata": {
    "vscode": {
     "languageId": "r"
    }
   },
   "outputs": [],
   "source": [
    "SPI1a = read.csv('~/data/DEGs/CRISPRa/SPI1.csv')\n",
    "SPI1i = read.csv('~/data/DEGs/CRISPRi/SPI1.csv')"
   ]
  },
  {
   "cell_type": "code",
   "execution_count": 6,
   "id": "9bb565f1-9707-4ed6-ba78-7b0be7d9cc2f",
   "metadata": {
    "vscode": {
     "languageId": "r"
    }
   },
   "outputs": [],
   "source": [
    "library(clusterProfiler)\n",
    "library(org.Hs.eg.db)\n",
    "library(msigdbr)\n",
    "library(fgsea)"
   ]
  },
  {
   "cell_type": "code",
   "execution_count": 1343,
   "id": "629130b8-5a2b-4f16-8f04-3fa8e0ccc94f",
   "metadata": {
    "vscode": {
     "languageId": "r"
    }
   },
   "outputs": [],
   "source": [
    "MP_geneset = list(MP1 = geneNMF.metaprograms$metaprograms.genes$MP1,\n",
    "                  MP2 = geneNMF.metaprograms$metaprograms.genes$MP2,\n",
    "                  MP3 = geneNMF.metaprograms$metaprograms.genes$MP3,\n",
    "                  MP4 = geneNMF.metaprograms$metaprograms.genes$MP4,\n",
    "                  MP5 = geneNMF.metaprograms$metaprograms.genes$MP5)"
   ]
  },
  {
   "cell_type": "code",
   "execution_count": 1344,
   "id": "dd9fa612-61eb-421c-8b21-9698dfca941a",
   "metadata": {
    "vscode": {
     "languageId": "r"
    }
   },
   "outputs": [],
   "source": [
    "MP_gene_set_collection <- do.call(rbind, lapply(names(MP_geneset), function(x) {\n",
    "  data.frame(term = x, gene = MP_geneset[[x]], stringsAsFactors = FALSE)\n",
    "}))"
   ]
  },
  {
   "cell_type": "code",
   "execution_count": 1345,
   "id": "ebd34604-544b-45aa-aee3-a0e54359f07f",
   "metadata": {
    "vscode": {
     "languageId": "r"
    }
   },
   "outputs": [],
   "source": [
    "Zp<-function(p){-qnorm (p/2)} # Transformation to Z scores"
   ]
  },
  {
   "cell_type": "code",
   "execution_count": 1346,
   "id": "da26307e-2c1e-4cad-af1e-d8a6f70dd1db",
   "metadata": {
    "vscode": {
     "languageId": "r"
    }
   },
   "outputs": [],
   "source": [
    "SPI1i$Zscore <- Zp(SPI1i$adj_pval)*sign(SPI1i$lfc)\n",
    "SPI1a$Zscore <- Zp(SPI1a$adj_pval)*sign(SPI1a$lfc)"
   ]
  },
  {
   "cell_type": "code",
   "execution_count": 1377,
   "id": "3d02d0dc-06e3-48b3-9c95-1eaa354641cb",
   "metadata": {
    "vscode": {
     "languageId": "r"
    }
   },
   "outputs": [],
   "source": [
    "SPI1i_ordered = SPI1i[order(SPI1i$Zscore),]\n",
    "de_genes <- SPI1i_ordered$name[SPI1i_ordered$adj_pval < 0.05]"
   ]
  },
  {
   "cell_type": "code",
   "execution_count": 1387,
   "id": "3ab98413-a27c-48ad-8881-bdce0ee8287f",
   "metadata": {
    "vscode": {
     "languageId": "r"
    }
   },
   "outputs": [],
   "source": [
    "ordered_genes <- SPI1i_ordered$Zscore\n",
    "names(ordered_genes) <- SPI1i_ordered$name\n",
    "ordered_genes <- sort(ordered_genes, decreasing = TRUE)"
   ]
  },
  {
   "cell_type": "code",
   "execution_count": 1388,
   "id": "b11eb3cc-c95b-486e-89f2-140aa9021317",
   "metadata": {
    "vscode": {
     "languageId": "r"
    }
   },
   "outputs": [
    {
     "name": "stderr",
     "output_type": "stream",
     "text": [
      "preparing geneSet collections...\n",
      "\n",
      "GSEA analysis...\n",
      "\n",
      "Warning message in preparePathwaysAndStats(pathways, stats, minSize, maxSize, gseaParam, :\n",
      "“There are ties in the preranked stats (45.58% of the list).\n",
      "The order of those tied genes will be arbitrary, which may produce unexpected results.”\n",
      "leading edge analysis...\n",
      "\n",
      "done...\n",
      "\n"
     ]
    },
    {
     "data": {
      "text/html": [
       "<table class=\"dataframe\">\n",
       "<caption>A tibble: 3 × 11</caption>\n",
       "<thead>\n",
       "\t<tr><th scope=col>ID</th><th scope=col>Description</th><th scope=col>setSize</th><th scope=col>enrichmentScore</th><th scope=col>NES</th><th scope=col>pvalue</th><th scope=col>p.adjust</th><th scope=col>qvalue</th><th scope=col>rank</th><th scope=col>leading_edge</th><th scope=col>core_enrichment</th></tr>\n",
       "\t<tr><th scope=col>&lt;chr&gt;</th><th scope=col>&lt;chr&gt;</th><th scope=col>&lt;int&gt;</th><th scope=col>&lt;dbl&gt;</th><th scope=col>&lt;dbl&gt;</th><th scope=col>&lt;dbl&gt;</th><th scope=col>&lt;dbl&gt;</th><th scope=col>&lt;dbl&gt;</th><th scope=col>&lt;dbl&gt;</th><th scope=col>&lt;chr&gt;</th><th scope=col>&lt;chr&gt;</th></tr>\n",
       "</thead>\n",
       "<tbody>\n",
       "\t<tr><td>MP3</td><td>MP3</td><td>29</td><td> 0.8125986</td><td> 2.223923</td><td>3.161103e-07</td><td>1.264441e-06</td><td>3.327477e-07</td><td> 454</td><td>tags=48%, list=4%, signal=47% </td><td>SSBP2/FOXO1/FOSL2/EREG/BMP6/TFRC/TMEM71/NOTCH3/FLRT2/PELI2/ENOSF1/DUSP16/SPTLC3/CXCR4    </td></tr>\n",
       "\t<tr><td>MP2</td><td>MP2</td><td>20</td><td>-0.7451936</td><td>-1.982219</td><td>2.920949e-04</td><td>5.841898e-04</td><td>1.537342e-04</td><td>2221</td><td>tags=75%, list=18%, signal=62%</td><td>HEG1/USP18/CCL8/ISG20/GBP4/BRIP1/RSAD2/TNFSF10/MCOLN2/NIBAN1/STAP1/UNC5C/MT2A/HESX1/IFIT2</td></tr>\n",
       "\t<tr><td>MP4</td><td>MP4</td><td>16</td><td> 0.6865529</td><td> 1.638542</td><td>1.176355e-02</td><td>1.568474e-02</td><td>4.127563e-03</td><td>1002</td><td>tags=38%, list=8%, signal=35% </td><td>ZNF331/FOSL2/EREG/NOTCH3/VCAN/WIPI1                                                      </td></tr>\n",
       "</tbody>\n",
       "</table>\n"
      ],
      "text/latex": [
       "A tibble: 3 × 11\n",
       "\\begin{tabular}{lllllllllll}\n",
       " ID & Description & setSize & enrichmentScore & NES & pvalue & p.adjust & qvalue & rank & leading\\_edge & core\\_enrichment\\\\\n",
       " <chr> & <chr> & <int> & <dbl> & <dbl> & <dbl> & <dbl> & <dbl> & <dbl> & <chr> & <chr>\\\\\n",
       "\\hline\n",
       "\t MP3 & MP3 & 29 &  0.8125986 &  2.223923 & 3.161103e-07 & 1.264441e-06 & 3.327477e-07 &  454 & tags=48\\%, list=4\\%, signal=47\\%  & SSBP2/FOXO1/FOSL2/EREG/BMP6/TFRC/TMEM71/NOTCH3/FLRT2/PELI2/ENOSF1/DUSP16/SPTLC3/CXCR4    \\\\\n",
       "\t MP2 & MP2 & 20 & -0.7451936 & -1.982219 & 2.920949e-04 & 5.841898e-04 & 1.537342e-04 & 2221 & tags=75\\%, list=18\\%, signal=62\\% & HEG1/USP18/CCL8/ISG20/GBP4/BRIP1/RSAD2/TNFSF10/MCOLN2/NIBAN1/STAP1/UNC5C/MT2A/HESX1/IFIT2\\\\\n",
       "\t MP4 & MP4 & 16 &  0.6865529 &  1.638542 & 1.176355e-02 & 1.568474e-02 & 4.127563e-03 & 1002 & tags=38\\%, list=8\\%, signal=35\\%  & ZNF331/FOSL2/EREG/NOTCH3/VCAN/WIPI1                                                      \\\\\n",
       "\\end{tabular}\n"
      ],
      "text/markdown": [
       "\n",
       "A tibble: 3 × 11\n",
       "\n",
       "| ID &lt;chr&gt; | Description &lt;chr&gt; | setSize &lt;int&gt; | enrichmentScore &lt;dbl&gt; | NES &lt;dbl&gt; | pvalue &lt;dbl&gt; | p.adjust &lt;dbl&gt; | qvalue &lt;dbl&gt; | rank &lt;dbl&gt; | leading_edge &lt;chr&gt; | core_enrichment &lt;chr&gt; |\n",
       "|---|---|---|---|---|---|---|---|---|---|---|\n",
       "| MP3 | MP3 | 29 |  0.8125986 |  2.223923 | 3.161103e-07 | 1.264441e-06 | 3.327477e-07 |  454 | tags=48%, list=4%, signal=47%  | SSBP2/FOXO1/FOSL2/EREG/BMP6/TFRC/TMEM71/NOTCH3/FLRT2/PELI2/ENOSF1/DUSP16/SPTLC3/CXCR4     |\n",
       "| MP2 | MP2 | 20 | -0.7451936 | -1.982219 | 2.920949e-04 | 5.841898e-04 | 1.537342e-04 | 2221 | tags=75%, list=18%, signal=62% | HEG1/USP18/CCL8/ISG20/GBP4/BRIP1/RSAD2/TNFSF10/MCOLN2/NIBAN1/STAP1/UNC5C/MT2A/HESX1/IFIT2 |\n",
       "| MP4 | MP4 | 16 |  0.6865529 |  1.638542 | 1.176355e-02 | 1.568474e-02 | 4.127563e-03 | 1002 | tags=38%, list=8%, signal=35%  | ZNF331/FOSL2/EREG/NOTCH3/VCAN/WIPI1                                                       |\n",
       "\n"
      ],
      "text/plain": [
       "  ID  Description setSize enrichmentScore NES       pvalue       p.adjust    \n",
       "1 MP3 MP3         29       0.8125986       2.223923 3.161103e-07 1.264441e-06\n",
       "2 MP2 MP2         20      -0.7451936      -1.982219 2.920949e-04 5.841898e-04\n",
       "3 MP4 MP4         16       0.6865529       1.638542 1.176355e-02 1.568474e-02\n",
       "  qvalue       rank leading_edge                  \n",
       "1 3.327477e-07  454 tags=48%, list=4%, signal=47% \n",
       "2 1.537342e-04 2221 tags=75%, list=18%, signal=62%\n",
       "3 4.127563e-03 1002 tags=38%, list=8%, signal=35% \n",
       "  core_enrichment                                                                          \n",
       "1 SSBP2/FOXO1/FOSL2/EREG/BMP6/TFRC/TMEM71/NOTCH3/FLRT2/PELI2/ENOSF1/DUSP16/SPTLC3/CXCR4    \n",
       "2 HEG1/USP18/CCL8/ISG20/GBP4/BRIP1/RSAD2/TNFSF10/MCOLN2/NIBAN1/STAP1/UNC5C/MT2A/HESX1/IFIT2\n",
       "3 ZNF331/FOSL2/EREG/NOTCH3/VCAN/WIPI1                                                      "
      ]
     },
     "metadata": {},
     "output_type": "display_data"
    }
   ],
   "source": [
    "GSEA(ordered_genes, TERM2GENE = MP_gene_set_collection) %>% as_tibble"
   ]
  },
  {
   "cell_type": "code",
   "execution_count": 19,
   "id": "78ec7ba9-25cc-43fb-914a-1e3992bf0263",
   "metadata": {
    "vscode": {
     "languageId": "r"
    }
   },
   "outputs": [
    {
     "name": "stderr",
     "output_type": "stream",
     "text": [
      "Warning message:\n",
      "“\u001b[1m\u001b[22mRemoved 820 rows containing missing values or values outside the scale range (`geom_point()`).”\n"
     ]
    },
    {
     "data": {
      "image/png": "[encoded data removed]",
      "text/plain": [
       "plot without title"
      ]
     },
     "metadata": {
      "image/png": {
       "height": 480,
       "width": 600
      }
     },
     "output_type": "display_data"
    }
   ],
   "source": [
    "options(repr.plot.width = 10, repr.plot.height = 8)\n",
    "\n",
    "# Add a column to indicate the direction of regulation\n",
    "SPI1i$regulation <- ifelse(SPI1i$adj_pval < 0.05 & SPI1i$lfc > 0.1, \"Upregulated\",\n",
    "                           ifelse(SPI1i$adj_pval < 0.05 & SPI1i$lfc < -0.1, \"Downregulated\", \"Not significant\"))\n",
    "\n",
    "specific_genes <- geneNMF.metaprograms$metaprograms.genes$MP1\n",
    "specific_genes_data <- SPI1i[SPI1i$name %in% specific_genes, ]\n",
    "SPI1i$color <- ifelse(SPI1i$name %in% specific_genes, \"red\", \"grey\")\n",
    "grey_points <- SPI1i[SPI1i$color == \"grey\", ]\n",
    "red_points <- SPI1i[SPI1i$color == \"red\", ]\n",
    "\n",
    "ggplot(data=SPI1i, aes(x=lfc, y=-log10(pval))) +\n",
    "  geom_point(data = grey_points, aes(x = lfc, y = -log10(pval)), color = \"grey\", size = 3) +\n",
    "  geom_point(data = red_points, aes(x = lfc, y = -log10(pval)), color = \"red\", size = 3) +\n",
    "  geom_label_repel(data = specific_genes_data, aes(x = lfc, y = -log10(pval), label = name), \n",
    "                   box.padding = 0.5, size = 5, color = \"black\", fill = \"white\") +\n",
    "  theme_classic() +\n",
    "  geom_hline(yintercept = 0) +\n",
    "  geom_vline(xintercept = 0) +\n",
    "  labs(x = \"log2 Fold Change\", y = \"-log10(p-value)\") +\n",
    "  theme(legend.position=\"none\",\n",
    "       axis.title.x = element_text(size = 16),\n",
    "       axis.text.x = element_text(size = 16),\n",
    "       axis.title.y = element_text(size = 16),\n",
    "       axis.text.y = element_text(size = 16)) + xlim(-5,5) "
   ]
  },
  {
   "cell_type": "code",
   "execution_count": 1380,
   "id": "0125af9f-6644-4a3c-bcf1-d37befb5410b",
   "metadata": {
    "vscode": {
     "languageId": "r"
    }
   },
   "outputs": [],
   "source": [
    "SPI1a_ordered = SPI1a[order(SPI1a$Zscore),]\n",
    "de_genes <- SPI1a_ordered$name[SPI1a_ordered$adj_pval < 0.05]"
   ]
  },
  {
   "cell_type": "code",
   "execution_count": 1389,
   "id": "76d01eb0-5337-43d4-8b0f-d53f223032b3",
   "metadata": {
    "vscode": {
     "languageId": "r"
    }
   },
   "outputs": [],
   "source": [
    "ordered_genes <- SPI1a_ordered$Zscore\n",
    "names(ordered_genes) <- SPI1a_ordered$name\n",
    "ordered_genes <- sort(ordered_genes, decreasing = TRUE)"
   ]
  },
  {
   "cell_type": "code",
   "execution_count": 1390,
   "id": "f5995519-e1da-4da8-ae2a-9b4361f7b4a2",
   "metadata": {
    "vscode": {
     "languageId": "r"
    }
   },
   "outputs": [
    {
     "name": "stderr",
     "output_type": "stream",
     "text": [
      "preparing geneSet collections...\n",
      "\n",
      "GSEA analysis...\n",
      "\n",
      "Warning message in preparePathwaysAndStats(pathways, stats, minSize, maxSize, gseaParam, :\n",
      "“There are ties in the preranked stats (71.31% of the list).\n",
      "The order of those tied genes will be arbitrary, which may produce unexpected results.”\n",
      "leading edge analysis...\n",
      "\n",
      "done...\n",
      "\n"
     ]
    },
    {
     "data": {
      "text/html": [
       "<table class=\"dataframe\">\n",
       "<caption>A tibble: 3 × 11</caption>\n",
       "<thead>\n",
       "\t<tr><th scope=col>ID</th><th scope=col>Description</th><th scope=col>setSize</th><th scope=col>enrichmentScore</th><th scope=col>NES</th><th scope=col>pvalue</th><th scope=col>p.adjust</th><th scope=col>qvalue</th><th scope=col>rank</th><th scope=col>leading_edge</th><th scope=col>core_enrichment</th></tr>\n",
       "\t<tr><th scope=col>&lt;chr&gt;</th><th scope=col>&lt;chr&gt;</th><th scope=col>&lt;int&gt;</th><th scope=col>&lt;dbl&gt;</th><th scope=col>&lt;dbl&gt;</th><th scope=col>&lt;dbl&gt;</th><th scope=col>&lt;dbl&gt;</th><th scope=col>&lt;dbl&gt;</th><th scope=col>&lt;dbl&gt;</th><th scope=col>&lt;chr&gt;</th><th scope=col>&lt;chr&gt;</th></tr>\n",
       "</thead>\n",
       "<tbody>\n",
       "\t<tr><td>MP5</td><td>MP5</td><td>40</td><td> 0.7792731</td><td> 2.317949</td><td>1.864636e-07</td><td>6.130728e-07</td><td>1.613349e-07</td><td>1195</td><td>tags=52%, list=9%, signal=48% </td><td>RPL18A/RPS8/CHCHD10/RPL4/NME2/RPL12/SLC25A5/RPLP0/RPLP2/NDUFB2/COX5A/HSPE1/TOMM6/RPS18/ATP5MC3/RPS5/RPL3/RPSA/RPS6/RPL10A/APRT</td></tr>\n",
       "\t<tr><td>MP3</td><td>MP3</td><td>29</td><td>-0.7803150</td><td>-2.230085</td><td>3.065364e-07</td><td>6.130728e-07</td><td>1.613349e-07</td><td>1513</td><td>tags=62%, list=12%, signal=55%</td><td>SLC16A10/FLRT2/BMP6/TFRC/TFPI/OLR1/TMEM71/ENOSF1/SYTL3/MALT1/EREG/AMZ1/RGS2/NOTCH3/ITGB8/SPTLC3/C5AR2/SSBP2                   </td></tr>\n",
       "\t<tr><td>MP4</td><td>MP4</td><td>16</td><td>-0.8482586</td><td>-2.073837</td><td>7.137331e-06</td><td>9.516441e-06</td><td>2.504327e-06</td><td>1692</td><td>tags=81%, list=13%, signal=71%</td><td>ZNF331/THBS1/SLC16A10/MALT1/EREG/RSAD2/RGS2/OASL/NOTCH3/ITGB8/VCAN/CXCL2/WIPI1                                                </td></tr>\n",
       "</tbody>\n",
       "</table>\n"
      ],
      "text/latex": [
       "A tibble: 3 × 11\n",
       "\\begin{tabular}{lllllllllll}\n",
       " ID & Description & setSize & enrichmentScore & NES & pvalue & p.adjust & qvalue & rank & leading\\_edge & core\\_enrichment\\\\\n",
       " <chr> & <chr> & <int> & <dbl> & <dbl> & <dbl> & <dbl> & <dbl> & <dbl> & <chr> & <chr>\\\\\n",
       "\\hline\n",
       "\t MP5 & MP5 & 40 &  0.7792731 &  2.317949 & 1.864636e-07 & 6.130728e-07 & 1.613349e-07 & 1195 & tags=52\\%, list=9\\%, signal=48\\%  & RPL18A/RPS8/CHCHD10/RPL4/NME2/RPL12/SLC25A5/RPLP0/RPLP2/NDUFB2/COX5A/HSPE1/TOMM6/RPS18/ATP5MC3/RPS5/RPL3/RPSA/RPS6/RPL10A/APRT\\\\\n",
       "\t MP3 & MP3 & 29 & -0.7803150 & -2.230085 & 3.065364e-07 & 6.130728e-07 & 1.613349e-07 & 1513 & tags=62\\%, list=12\\%, signal=55\\% & SLC16A10/FLRT2/BMP6/TFRC/TFPI/OLR1/TMEM71/ENOSF1/SYTL3/MALT1/EREG/AMZ1/RGS2/NOTCH3/ITGB8/SPTLC3/C5AR2/SSBP2                   \\\\\n",
       "\t MP4 & MP4 & 16 & -0.8482586 & -2.073837 & 7.137331e-06 & 9.516441e-06 & 2.504327e-06 & 1692 & tags=81\\%, list=13\\%, signal=71\\% & ZNF331/THBS1/SLC16A10/MALT1/EREG/RSAD2/RGS2/OASL/NOTCH3/ITGB8/VCAN/CXCL2/WIPI1                                                \\\\\n",
       "\\end{tabular}\n"
      ],
      "text/markdown": [
       "\n",
       "A tibble: 3 × 11\n",
       "\n",
       "| ID &lt;chr&gt; | Description &lt;chr&gt; | setSize &lt;int&gt; | enrichmentScore &lt;dbl&gt; | NES &lt;dbl&gt; | pvalue &lt;dbl&gt; | p.adjust &lt;dbl&gt; | qvalue &lt;dbl&gt; | rank &lt;dbl&gt; | leading_edge &lt;chr&gt; | core_enrichment &lt;chr&gt; |\n",
       "|---|---|---|---|---|---|---|---|---|---|---|\n",
       "| MP5 | MP5 | 40 |  0.7792731 |  2.317949 | 1.864636e-07 | 6.130728e-07 | 1.613349e-07 | 1195 | tags=52%, list=9%, signal=48%  | RPL18A/RPS8/CHCHD10/RPL4/NME2/RPL12/SLC25A5/RPLP0/RPLP2/NDUFB2/COX5A/HSPE1/TOMM6/RPS18/ATP5MC3/RPS5/RPL3/RPSA/RPS6/RPL10A/APRT |\n",
       "| MP3 | MP3 | 29 | -0.7803150 | -2.230085 | 3.065364e-07 | 6.130728e-07 | 1.613349e-07 | 1513 | tags=62%, list=12%, signal=55% | SLC16A10/FLRT2/BMP6/TFRC/TFPI/OLR1/TMEM71/ENOSF1/SYTL3/MALT1/EREG/AMZ1/RGS2/NOTCH3/ITGB8/SPTLC3/C5AR2/SSBP2                    |\n",
       "| MP4 | MP4 | 16 | -0.8482586 | -2.073837 | 7.137331e-06 | 9.516441e-06 | 2.504327e-06 | 1692 | tags=81%, list=13%, signal=71% | ZNF331/THBS1/SLC16A10/MALT1/EREG/RSAD2/RGS2/OASL/NOTCH3/ITGB8/VCAN/CXCL2/WIPI1                                                 |\n",
       "\n"
      ],
      "text/plain": [
       "  ID  Description setSize enrichmentScore NES       pvalue       p.adjust    \n",
       "1 MP5 MP5         40       0.7792731       2.317949 1.864636e-07 6.130728e-07\n",
       "2 MP3 MP3         29      -0.7803150      -2.230085 3.065364e-07 6.130728e-07\n",
       "3 MP4 MP4         16      -0.8482586      -2.073837 7.137331e-06 9.516441e-06\n",
       "  qvalue       rank leading_edge                  \n",
       "1 1.613349e-07 1195 tags=52%, list=9%, signal=48% \n",
       "2 1.613349e-07 1513 tags=62%, list=12%, signal=55%\n",
       "3 2.504327e-06 1692 tags=81%, list=13%, signal=71%\n",
       "  core_enrichment                                                                                                               \n",
       "1 RPL18A/RPS8/CHCHD10/RPL4/NME2/RPL12/SLC25A5/RPLP0/RPLP2/NDUFB2/COX5A/HSPE1/TOMM6/RPS18/ATP5MC3/RPS5/RPL3/RPSA/RPS6/RPL10A/APRT\n",
       "2 SLC16A10/FLRT2/BMP6/TFRC/TFPI/OLR1/TMEM71/ENOSF1/SYTL3/MALT1/EREG/AMZ1/RGS2/NOTCH3/ITGB8/SPTLC3/C5AR2/SSBP2                   \n",
       "3 ZNF331/THBS1/SLC16A10/MALT1/EREG/RSAD2/RGS2/OASL/NOTCH3/ITGB8/VCAN/CXCL2/WIPI1                                                "
      ]
     },
     "metadata": {},
     "output_type": "display_data"
    }
   ],
   "source": [
    "GSEA(ordered_genes, TERM2GENE = MP_gene_set_collection) %>% as_tibble"
   ]
  },
  {
   "cell_type": "code",
   "execution_count": 1398,
   "id": "bb857c68-06cf-4df4-8ac1-46231013e218",
   "metadata": {
    "vscode": {
     "languageId": "r"
    }
   },
   "outputs": [
    {
     "name": "stderr",
     "output_type": "stream",
     "text": [
      "Warning message:\n",
      "“\u001b[1m\u001b[22mRemoved 769 rows containing missing values or values outside the scale range (`geom_point()`).”\n"
     ]
    }
   ],
   "source": [
    "options(repr.plot.width = 10, repr.plot.height = 8)\n",
    "\n",
    "# Add a column to indicate the direction of regulation\n",
    "SPI1a$regulation <- ifelse(SPI1a$adj_pval < 0.05 & SPI1a$lfc > 0.1, \"Upregulated\",\n",
    "                           ifelse(SPI1a$adj_pval < 0.05 & SPI1a$lfc < -0.1, \"Downregulated\", \"Not significant\"))\n",
    "\n",
    "specific_genes <- geneNMF.metaprograms$metaprograms.genes$MP5\n",
    "specific_genes_data <- SPI1a[SPI1a$name %in% specific_genes, ]\n",
    "SPI1a$color <- ifelse(SPI1a$name %in% specific_genes, \"red\", \"grey\")\n",
    "grey_points <- SPI1a[SPI1a$color == \"grey\", ]\n",
    "red_points <- SPI1a[SPI1a$color == \"red\", ]\n",
    "\n",
    "p <- ggplot(data=SPI1a, aes(x=lfc, y=-log10(pval))) +\n",
    "  geom_point(data = grey_points, aes(x = lfc, y = -log10(pval)), color = \"grey\", size = 3) +\n",
    "  geom_point(data = red_points, aes(x = lfc, y = -log10(pval)), color = \"red\", size = 3) +\n",
    "  theme_classic() +\n",
    "  geom_hline(yintercept = 0) +\n",
    "  geom_vline(xintercept = 0) +\n",
    "  labs(x = \"log2 Fold Change\", y = \"-log10(p-value)\") +\n",
    "  theme(legend.position=\"none\",\n",
    "       axis.title.x = element_text(size = 16),\n",
    "       axis.text.x = element_text(size = 16),\n",
    "       axis.title.y = element_text(size = 16),\n",
    "       axis.text.y = element_text(size = 16)) + xlim(-5,5)"
   ]
  }
 ],
 "metadata": {
  "kernelspec": {
   "display_name": "R",
   "language": "R",
   "name": "ir"
  },
  "language_info": {
   "codemirror_mode": "r",
   "file_extension": ".r",
   "mimetype": "text/x-r-source",
   "name": "R",
   "pygments_lexer": "r",
   "version": "4.3.3"
  }
 },
 "nbformat": 4,
 "nbformat_minor": 5
}
