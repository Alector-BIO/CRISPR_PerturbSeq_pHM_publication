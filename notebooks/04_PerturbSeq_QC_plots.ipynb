{
 "cells": [
  {
   "cell_type": "code",
   "execution_count": 1,
   "id": "4172cdca-f269-481d-895e-337ad775df31",
   "metadata": {
    "vscode": {
     "languageId": "r"
    }
   },
   "outputs": [],
   "source": [
    "import blitzgsea as blitz\n",
    "import pandas as pd\n",
    "import numpy as np\n",
    "import scanpy as sc\n",
    "import seaborn as sns\n",
    "import matplotlib.pyplot as plt\n",
    "%matplotlib inline\n",
    "#plt.rcParams['figure.figsize'] = [6, 4]"
   ]
  },
  {
   "cell_type": "markdown",
   "id": "1c7c3f6e-b451-4dbc-9700-9cd364af6001",
   "metadata": {},
   "source": [
    "### Load DEGs"
   ]
  },
  {
   "cell_type": "code",
   "execution_count": 5,
   "id": "bab75462-e716-46f2-9661-0772b67de79c",
   "metadata": {
    "vscode": {
     "languageId": "r"
    }
   },
   "outputs": [],
   "source": [
    "genesA = pd.read_csv('~/data/CRISPRa_gene_list.csv')\n",
    "genesA = list(genesA['x'])\n",
    "genesI = pd.read_csv('~/data/CRISPRi_gene_list.csv')\n",
    "genesI = list(genesI['x'])"
   ]
  },
  {
   "cell_type": "code",
   "execution_count": 7,
   "id": "83f68f53-72e3-418e-8feb-1c9bd2ae1b85",
   "metadata": {
    "vscode": {
     "languageId": "r"
    }
   },
   "outputs": [],
   "source": [
    "# read in csvs for each gene\n",
    "CRISPRa_DEGs = {}\n",
    "CRISPRi_DEGs = {}\n",
    "\n",
    "for gene in genesA:\n",
    "   deg = pd.read_csv('~/data/DEGs/CRISPRa/'+gene+'.csv')\n",
    "   CRISPRa_DEGs[gene] = deg\n",
    "\n",
    "for gene in genesI:\n",
    "    deg = pd.read_csv('~/data/DEGs/CRISPRi/'+gene+'.csv')\n",
    "    CRISPRi_DEGs[gene] = deg"
   ]
  },
  {
   "cell_type": "code",
   "execution_count": 8,
   "id": "6f803ea3-c072-4004-8e89-2b37b0d0e89a",
   "metadata": {
    "vscode": {
     "languageId": "r"
    }
   },
   "outputs": [],
   "source": [
    "CRISPRa_DEGs.keys()"
   ]
  },
  {
   "cell_type": "code",
   "execution_count": 9,
   "id": "4fe5b77c-b87f-46f2-aac7-6c1ead96ceea",
   "metadata": {
    "vscode": {
     "languageId": "r"
    }
   },
   "outputs": [],
   "source": [
    "CRISPRi_DEGs.keys()"
   ]
  },
  {
   "cell_type": "code",
   "execution_count": 11,
   "id": "db2e9851-94bc-4e03-baf3-6d009e86f417",
   "metadata": {
    "vscode": {
     "languageId": "r"
    }
   },
   "outputs": [],
   "source": [
    "# calculate \"z scores\"\n",
    "for gene in genesA:\n",
    "    CRISPRa_DEGs[gene]['Zscore'] = np.sign(CRISPRa_DEGs[gene]['lfc']) * -np.log10(CRISPRa_DEGs[gene]['adj_pval'])\n",
    "\n",
    "for gene in genesI:\n",
    "    CRISPRi_DEGs[gene]['Zscore'] = np.sign(CRISPRi_DEGs[gene]['lfc']) * -np.log10(CRISPRi_DEGs[gene]['adj_pval'])"
   ]
  },
  {
   "cell_type": "markdown",
   "id": "29b4a5c4-9dc4-4338-bcaa-3b3a3a9c9a12",
   "metadata": {},
   "source": [
    "### Get number of DEGs per perturbation"
   ]
  },
  {
   "cell_type": "code",
   "execution_count": 13,
   "id": "a04c72da-d69a-426c-9d6a-59cd4c6460f6",
   "metadata": {
    "vscode": {
     "languageId": "r"
    }
   },
   "outputs": [],
   "source": [
    "CRISPRa_number_of_DEGs = pd.DataFrame({'gene': genesA,\n",
    "                                       'num_degs': 0})\n",
    "CRISPRi_number_of_DEGs = pd.DataFrame({'gene': genesI, \n",
    "                                       'num_degs': 0})\n",
    "\n",
    "for gene in genesA:\n",
    "    num_degs = CRISPRa_DEGs[gene].loc[CRISPRa_DEGs[gene]['adj_pval'] <= 0.05].shape[0]\n",
    "    CRISPRa_number_of_DEGs.loc[CRISPRa_number_of_DEGs['gene'] == gene, 'num_degs'] = num_degs\n",
    "\n",
    "for gene in genesI:\n",
    "    num_degs = CRISPRi_DEGs[gene].loc[CRISPRi_DEGs[gene]['adj_pval'] <= 0.05].shape[0]\n",
    "    CRISPRi_number_of_DEGs.loc[CRISPRi_number_of_DEGs['gene'] == gene, 'num_degs'] = num_degs"
   ]
  },
  {
   "cell_type": "code",
   "execution_count": 14,
   "id": "1821cd83-722f-4b23-94e7-9a2fe0a33621",
   "metadata": {
    "vscode": {
     "languageId": "r"
    }
   },
   "outputs": [],
   "source": [
    "CRISPRa_number_of_DEGs = CRISPRa_number_of_DEGs.loc[CRISPRa_number_of_DEGs['num_degs'] != 0].sort_values('num_degs', ascending = False)"
   ]
  },
  {
   "cell_type": "code",
   "execution_count": 15,
   "id": "b225ebc1-dced-49f5-9575-d877ed3d6200",
   "metadata": {
    "vscode": {
     "languageId": "r"
    }
   },
   "outputs": [],
   "source": [
    "plt.figure(figsize=(12,3))\n",
    "plt.bar(CRISPRa_number_of_DEGs['gene'], height = CRISPRa_number_of_DEGs['num_degs'], width = 1)\n",
    "plt.tick_params(axis='x', labelrotation=90)\n",
    "plt.xticks(fontsize=4)\n",
    "plt.title('Number DEGs for CRISPRa')"
   ]
  },
  {
   "cell_type": "code",
   "execution_count": 16,
   "id": "0a3f193d-469c-44a4-8179-18033929b19a",
   "metadata": {
    "vscode": {
     "languageId": "r"
    }
   },
   "outputs": [],
   "source": [
    "CRISPRi_number_of_DEGs = CRISPRi_number_of_DEGs.loc[CRISPRi_number_of_DEGs['num_degs'] != 0].sort_values('num_degs', ascending = False)"
   ]
  },
  {
   "cell_type": "code",
   "execution_count": 17,
   "id": "fce49c48-07d4-4917-8ddd-0dc193b87dd3",
   "metadata": {
    "vscode": {
     "languageId": "r"
    }
   },
   "outputs": [],
   "source": [
    "plt.figure(figsize=(12,3))\n",
    "plt.bar(CRISPRi_number_of_DEGs['gene'], height = CRISPRi_number_of_DEGs['num_degs'], width = 1)\n",
    "plt.tick_params(axis='x', labelrotation=90)\n",
    "plt.xticks(fontsize=4)\n",
    "plt.title('Number DEGs for CRISPRi')"
   ]
  },
  {
   "cell_type": "markdown",
   "id": "f10250da-b880-4670-a42e-cf83d3eac6f8",
   "metadata": {},
   "source": [
    "### Create square z score matrix"
   ]
  },
  {
   "cell_type": "code",
   "execution_count": 18,
   "id": "68b81f71-0ff2-492f-b5d8-3fcfbc2e4532",
   "metadata": {
    "vscode": {
     "languageId": "r"
    }
   },
   "outputs": [],
   "source": [
    "CRISPRa_matrix = pd.DataFrame({'gene': genesA})\n",
    "\n",
    "for gene in genesA:\n",
    "    gene_df = CRISPRa_DEGs[gene].loc[CRISPRa_DEGs[gene]['name'].isin(genesA), ('name', 'Zscore')]\n",
    "    gene_df.rename(columns = {'name': 'gene',\n",
    "                    'Zscore': gene}, inplace = True)\n",
    "    CRISPRa_matrix = pd.merge(CRISPRa_matrix, gene_df, how = 'left', on = 'gene')\n",
    "\n",
    "CRISPRa_matrix.set_index('gene', inplace = True)"
   ]
  },
  {
   "cell_type": "code",
   "execution_count": 19,
   "id": "025c3f9f-0ad7-4466-9aba-d2af1cda2470",
   "metadata": {
    "vscode": {
     "languageId": "r"
    }
   },
   "outputs": [],
   "source": [
    "nan_genes = list(CRISPRa_matrix[CRISPRa_matrix.isna().any(axis=1)].index)"
   ]
  },
  {
   "cell_type": "code",
   "execution_count": 20,
   "id": "f39c95cf-4ac2-413e-97e3-e801c65ea25d",
   "metadata": {
    "vscode": {
     "languageId": "r"
    }
   },
   "outputs": [],
   "source": [
    "CRISPRa_matrix_nona = CRISPRa_matrix.dropna()\n",
    "CRISPRa_matrix_nona.drop(columns = nan_genes, inplace = True)"
   ]
  },
  {
   "cell_type": "code",
   "execution_count": 21,
   "id": "0245e8aa-7d0f-4190-b99f-96d0f5bd1d30",
   "metadata": {
    "vscode": {
     "languageId": "r"
    }
   },
   "outputs": [],
   "source": [
    "CRISPRa_matrix_nona.shape"
   ]
  },
  {
   "cell_type": "code",
   "execution_count": 19,
   "id": "5ad58a07-8b21-4864-9e5a-9ed46ee4ca7b",
   "metadata": {
    "vscode": {
     "languageId": "r"
    }
   },
   "outputs": [],
   "source": [
    "plt.figure(figsize = (10,8))\n",
    "ax = sns.heatmap(CRISPRa_matrix_nona, cmap = 'YlGnBu', vmin = 0, vmax = 3, yticklabels = False, xticklabels = False)\n",
    "plt.xlabel('sgRNA', fontsize=14)\n",
    "plt.ylabel('Zscore', fontsize = 14)"
   ]
  },
  {
   "cell_type": "code",
   "execution_count": 22,
   "id": "5d70bf04-305c-4968-ac84-53b8db6aff76",
   "metadata": {
    "vscode": {
     "languageId": "r"
    }
   },
   "outputs": [],
   "source": [
    "CRISPRi_matrix = pd.DataFrame({'gene': genesI})\n",
    "\n",
    "for gene in genesI:\n",
    "    gene_df = CRISPRi_DEGs[gene].loc[CRISPRi_DEGs[gene]['name'].isin(genesI), ('name', 'Zscore')]\n",
    "    gene_df.rename(columns = {'name': 'gene',\n",
    "                    'Zscore': gene}, inplace = True)\n",
    "    CRISPRi_matrix = pd.merge(CRISPRi_matrix, gene_df, how = 'left', on = 'gene')\n",
    "\n",
    "CRISPRi_matrix.set_index('gene', inplace = True)"
   ]
  },
  {
   "cell_type": "code",
   "execution_count": 23,
   "id": "c94c15f3-629e-4566-bbcd-b69b679fc6f9",
   "metadata": {
    "vscode": {
     "languageId": "r"
    }
   },
   "outputs": [],
   "source": [
    "nan_genes = list(CRISPRi_matrix[CRISPRi_matrix.isna().any(axis=1)].index)"
   ]
  },
  {
   "cell_type": "code",
   "execution_count": 24,
   "id": "da6560ba-c6ef-4eb6-b6a0-aaba66b79c20",
   "metadata": {
    "vscode": {
     "languageId": "r"
    }
   },
   "outputs": [],
   "source": [
    "CRISPRi_matrix_nona = CRISPRi_matrix.dropna()\n",
    "CRISPRi_matrix_nona.drop(columns = nan_genes, inplace = True)"
   ]
  },
  {
   "cell_type": "code",
   "execution_count": 25,
   "id": "01a62c4a-d8d9-404c-b9d1-3eb1293e7a9d",
   "metadata": {
    "vscode": {
     "languageId": "r"
    }
   },
   "outputs": [],
   "source": [
    "CRISPRi_matrix_nona.shape"
   ]
  },
  {
   "cell_type": "code",
   "execution_count": 24,
   "id": "c4f907a8-3933-4dd5-a90f-05bfb3eb522f",
   "metadata": {
    "vscode": {
     "languageId": "r"
    }
   },
   "outputs": [],
   "source": [
    "plt.figure(figsize = (10,8))\n",
    "ax = sns.heatmap(CRISPRi_matrix_nona, cmap = 'YlGnBu', vmax = 0, vmin = -3, yticklabels = False, xticklabels = False)\n",
    "plt.xlabel('sgRNA', fontsize=14)\n",
    "plt.ylabel('Zscore', fontsize = 14)"
   ]
  },
  {
   "cell_type": "markdown",
   "id": "7a9d1d42-61e0-4b82-ac25-5a65efa97f28",
   "metadata": {},
   "source": [
    "### Order by expression in NT cells"
   ]
  },
  {
   "cell_type": "code",
   "execution_count": 26,
   "id": "8a1f7d67-5680-4173-909d-fafeb9877306",
   "metadata": {
    "vscode": {
     "languageId": "r"
    }
   },
   "outputs": [],
   "source": [
    "from scipy.io import mmread\n",
    "from scipy.sparse import csc_matrix\n",
    "import anndata as ad\n",
    "import scanpy as sc"
   ]
  },
  {
   "cell_type": "code",
   "execution_count": 27,
   "id": "66d251b2-3de8-4b93-b448-2cf33f46375c",
   "metadata": {
    "vscode": {
     "languageId": "r"
    }
   },
   "outputs": [],
   "source": [
    "CRISPRi_counts = mmread(\"~/data/seurat/CRISPRi_seurat5.mtx\")\n",
    "CRISPRi_var_df = pd.read_csv(\"~/data/seurat/CRISPRi_seurat5_genes.tsv\", sep = '\\t', index_col = 0, header = None)\n",
    "CRISPRi_obs_df = pd.read_csv(\"~/data/seurat/CRISPRi_seurat5_metadata.csv\", index_col = 0)"
   ]
  },
  {
   "cell_type": "code",
   "execution_count": 27,
   "id": "bcf81cca-5aa7-4138-968f-3220742ca837",
   "metadata": {
    "vscode": {
     "languageId": "r"
    }
   },
   "outputs": [],
   "source": [
    "CRISPRi_adata = ad.AnnData(X = csc_matrix(CRISPRi_counts.T),\n",
    "                           obs = CRISPRi_obs_df,\n",
    "                           var = CRISPRi_var_df)"
   ]
  },
  {
   "cell_type": "code",
   "execution_count": 28,
   "id": "b9240e32-b7b2-43f7-932e-7445a6f7456d",
   "metadata": {
    "vscode": {
     "languageId": "r"
    }
   },
   "outputs": [],
   "source": [
    "NT_cells_CRISPRi = CRISPRi_adata.obs_names[CRISPRi_adata.obs['Gene_Targeted'] == 'NT']"
   ]
  },
  {
   "cell_type": "code",
   "execution_count": 29,
   "id": "facf9f29-5bb6-497c-9997-3fced2c871a0",
   "metadata": {
    "vscode": {
     "languageId": "r"
    }
   },
   "outputs": [],
   "source": [
    "NT_expression_CRISPRi = CRISPRi_adata[NT_cells_CRISPRi, :].X"
   ]
  },
  {
   "cell_type": "code",
   "execution_count": 30,
   "id": "681fe5a9-b53d-457e-afda-d1d9b5c7c014",
   "metadata": {
    "vscode": {
     "languageId": "r"
    }
   },
   "outputs": [],
   "source": [
    "CRISPRi_NT_df = pd.DataFrame(NT_expression_CRISPRi.toarray(), index=NT_cells_CRISPRi, columns=CRISPRi_adata.var_names)"
   ]
  },
  {
   "cell_type": "code",
   "execution_count": 31,
   "id": "d21d87f8-4611-4e96-8bf9-6f39e335a381",
   "metadata": {
    "vscode": {
     "languageId": "r"
    }
   },
   "outputs": [],
   "source": [
    "CRISPRi_NT_df.shape"
   ]
  },
  {
   "cell_type": "code",
   "execution_count": 32,
   "id": "34c4e71a-44a0-437a-a095-9dab41daf77f",
   "metadata": {
    "vscode": {
     "languageId": "r"
    }
   },
   "outputs": [],
   "source": [
    "CRISPRi_NT_df = CRISPRi_NT_df[CRISPRi_matrix_nona.columns]"
   ]
  },
  {
   "cell_type": "code",
   "execution_count": 33,
   "id": "7e5d95cd-1548-4987-affe-10afb6e5b2ef",
   "metadata": {
    "vscode": {
     "languageId": "r"
    }
   },
   "outputs": [],
   "source": [
    "CRISPRi_NT_avgexp = CRISPRi_NT_df.mean()"
   ]
  },
  {
   "cell_type": "code",
   "execution_count": 34,
   "id": "005a2803-20df-4046-8476-1ce03fcf17f6",
   "metadata": {
    "vscode": {
     "languageId": "r"
    }
   },
   "outputs": [],
   "source": [
    "CRISPRi_genes_ordered = list(CRISPRi_NT_avgexp.sort_values(ascending = False).index)"
   ]
  },
  {
   "cell_type": "code",
   "execution_count": 35,
   "id": "5c308b50-82e0-46d2-9f17-f7cefe7466d7",
   "metadata": {
    "vscode": {
     "languageId": "r"
    }
   },
   "outputs": [],
   "source": [
    "CRISPRi_matrix_nona_reordered = CRISPRi_matrix_nona.reindex(CRISPRi_genes_ordered)\n",
    "CRISPRi_matrix_nona_reordered = CRISPRi_matrix_nona_reordered[CRISPRi_genes_ordered]"
   ]
  },
  {
   "cell_type": "code",
   "execution_count": 36,
   "id": "6f73263d-fae0-48be-885a-17d4b6fb4da5",
   "metadata": {
    "vscode": {
     "languageId": "r"
    }
   },
   "outputs": [],
   "source": [
    "plt.figure(figsize = (10,8))\n",
    "sns.set(font_scale=0.5)\n",
    "ax = sns.heatmap(CRISPRi_matrix_nona_reordered, cmap = 'YlGnBu', vmax = 0, vmin = -3, yticklabels = False, xticklabels = False)\n",
    "plt.xlabel('CRISPRi gene', fontsize=14)\n",
    "plt.ylabel('DEGs', fontsize = 14)"
   ]
  },
  {
   "cell_type": "code",
   "execution_count": 37,
   "id": "14a9e400-2954-45ff-810c-ba7c4d0e1ece",
   "metadata": {
    "vscode": {
     "languageId": "r"
    }
   },
   "outputs": [],
   "source": [
    "CRISPRa_counts = mmread(\"~/data/seurat/CRISPRa_seurat5.mtx\")\n",
    "CRISPRa_var_df = pd.read_csv(\"~/data/seurat/CRISPRa_seurat5_genes.tsv\", sep = '\\t', index_col = 0, header = None)\n",
    "CRISPRa_obs_df = pd.read_csv(\"~/data/seurat/CRISPRa_seurat5_metadata.csv\", index_col = 0)"
   ]
  },
  {
   "cell_type": "code",
   "execution_count": 38,
   "id": "5eed48b9-ca6b-47aa-8cfa-d514fce7d3fb",
   "metadata": {
    "vscode": {
     "languageId": "r"
    }
   },
   "outputs": [],
   "source": [
    "CRISPRa_adata = ad.AnnData(X = csc_matrix(CRISPRa_counts.T),\n",
    "                           obs = CRISPRa_obs_df,\n",
    "                           var = CRISPRa_var_df)"
   ]
  },
  {
   "cell_type": "code",
   "execution_count": 39,
   "id": "c53f62c0-bd40-4d36-b8f9-526548851e3d",
   "metadata": {
    "vscode": {
     "languageId": "r"
    }
   },
   "outputs": [],
   "source": [
    "NT_cells_CRISPRa = CRISPRa_adata.obs_names[CRISPRa_adata.obs['Gene_Targeted'] == 'NT']"
   ]
  },
  {
   "cell_type": "code",
   "execution_count": 40,
   "id": "da946445-a286-47fc-9db8-95984039dc9f",
   "metadata": {
    "vscode": {
     "languageId": "r"
    }
   },
   "outputs": [],
   "source": [
    "NT_expression_CRISPRa = CRISPRa_adata[NT_cells_CRISPRa, :].X"
   ]
  },
  {
   "cell_type": "code",
   "execution_count": 41,
   "id": "424ceb02-8ef8-4c63-ac7b-d5550137592f",
   "metadata": {
    "vscode": {
     "languageId": "r"
    }
   },
   "outputs": [],
   "source": [
    "CRISPRa_NT_df = pd.DataFrame(NT_expression_CRISPRa.toarray(), index=NT_cells_CRISPRa, columns=CRISPRa_adata.var_names)"
   ]
  },
  {
   "cell_type": "code",
   "execution_count": 42,
   "id": "df166614-faff-4475-942f-265caf26c22b",
   "metadata": {
    "vscode": {
     "languageId": "r"
    }
   },
   "outputs": [],
   "source": [
    "CRISPRa_NT_df.shape"
   ]
  },
  {
   "cell_type": "code",
   "execution_count": 43,
   "id": "6634df44-e10d-499a-aba4-f43213e9b967",
   "metadata": {
    "vscode": {
     "languageId": "r"
    }
   },
   "outputs": [],
   "source": [
    "CRISPRa_NT_df = CRISPRa_NT_df[CRISPRa_matrix_nona.columns]"
   ]
  },
  {
   "cell_type": "code",
   "execution_count": 44,
   "id": "534ca1fc-eb4a-4368-a0bf-39b765d7f072",
   "metadata": {
    "vscode": {
     "languageId": "r"
    }
   },
   "outputs": [],
   "source": [
    "CRISPRa_NT_avgexp = CRISPRa_NT_df.mean()"
   ]
  },
  {
   "cell_type": "code",
   "execution_count": 45,
   "id": "4e9f2784-153d-466f-86a1-220cbf856b9e",
   "metadata": {
    "vscode": {
     "languageId": "r"
    }
   },
   "outputs": [],
   "source": [
    "CRISPRa_genes_ordered = list(CRISPRa_NT_avgexp.sort_values(ascending = False).index)"
   ]
  },
  {
   "cell_type": "code",
   "execution_count": 46,
   "id": "68e59ff8-315e-446a-a1ac-10106c155ad2",
   "metadata": {
    "vscode": {
     "languageId": "r"
    }
   },
   "outputs": [],
   "source": [
    "CRISPRa_matrix_nona_reordered = CRISPRa_matrix_nona.reindex(CRISPRa_genes_ordered)\n",
    "CRISPRa_matrix_nona_reordered = CRISPRa_matrix_nona_reordered[CRISPRa_genes_ordered]"
   ]
  },
  {
   "cell_type": "code",
   "execution_count": 47,
   "id": "0e5049db-abcb-4beb-9734-7b0143e7237f",
   "metadata": {
    "vscode": {
     "languageId": "r"
    }
   },
   "outputs": [],
   "source": [
    "plt.figure(figsize = (10,8))\n",
    "sns.set(font_scale=0.5)\n",
    "ax = sns.heatmap(CRISPRa_matrix_nona_reordered, cmap = 'YlGnBu', vmax = 3, vmin = 0, yticklabels = False, xticklabels = False)\n",
    "plt.xlabel('CRISPRa gene', fontsize=14)\n",
    "plt.ylabel('DEGs', fontsize = 14)"
   ]
  },
  {
   "cell_type": "markdown",
   "id": "13d37835-edf4-41e2-800e-d300a4fb8d7b",
   "metadata": {},
   "source": [
    "### Use LFC for QC plots"
   ]
  },
  {
   "cell_type": "code",
   "execution_count": 28,
   "id": "d5af98c8-bb62-4825-9809-9352390a377c",
   "metadata": {
    "vscode": {
     "languageId": "r"
    }
   },
   "outputs": [],
   "source": [
    "CRISPRi_matrix_lfc = pd.DataFrame({'gene': genesI})\n",
    "\n",
    "for gene in genesI:\n",
    "    gene_df = CRISPRi_DEGs[gene].loc[CRISPRi_DEGs[gene]['name'].isin(genesI), ('name', 'lfc')]\n",
    "    gene_df.rename(columns = {'name': 'gene',\n",
    "                    'lfc': gene}, inplace = True)\n",
    "    CRISPRi_matrix_lfc = pd.merge(CRISPRi_matrix_lfc, gene_df, how = 'left', on = 'gene')\n",
    "\n",
    "CRISPRi_matrix_lfc.set_index('gene', inplace = True)"
   ]
  },
  {
   "cell_type": "code",
   "execution_count": 29,
   "id": "1f3d2870-3515-497d-8294-f59b13a03f6d",
   "metadata": {
    "vscode": {
     "languageId": "r"
    }
   },
   "outputs": [],
   "source": [
    "CRISPRa_matrix_lfc = pd.DataFrame({'gene': genesA})\n",
    "\n",
    "for gene in genesA:\n",
    "    gene_df = CRISPRa_DEGs[gene].loc[CRISPRa_DEGs[gene]['name'].isin(genesA), ('name', 'lfc')]\n",
    "    gene_df.rename(columns = {'name': 'gene',\n",
    "                    'lfc': gene}, inplace = True)\n",
    "    CRISPRa_matrix_lfc = pd.merge(CRISPRa_matrix_lfc, gene_df, how = 'left', on = 'gene')\n",
    "\n",
    "CRISPRa_matrix_lfc.set_index('gene', inplace = True)"
   ]
  },
  {
   "cell_type": "code",
   "execution_count": 30,
   "id": "7d0b7140-e142-4425-b963-1d9de7cee710",
   "metadata": {
    "vscode": {
     "languageId": "r"
    }
   },
   "outputs": [],
   "source": [
    "CRISPRi_lfc_decreases = np.array(CRISPRi_matrix_lfc.values.diagonal())\n",
    "CRISPRi_lfc_decreases = CRISPRi_lfc_decreases[~np.isnan(CRISPRi_lfc_decreases)]\n",
    "\n",
    "CRISPRa_lfc_decreases = np.array(CRISPRa_matrix_lfc.values.diagonal())\n",
    "CRISPRa_lfc_decreases = CRISPRa_lfc_decreases[~np.isnan(CRISPRa_lfc_decreases)]"
   ]
  },
  {
   "cell_type": "code",
   "execution_count": 31,
   "id": "01630a43-bba1-4653-979f-8a609582fe2d",
   "metadata": {
    "vscode": {
     "languageId": "r"
    }
   },
   "outputs": [],
   "source": [
    "2 ** np.median(CRISPRa_lfc_decreases) - 1"
   ]
  },
  {
   "cell_type": "code",
   "execution_count": 32,
   "id": "0945e4dc-cd7c-4191-b4dd-b318730d7b23",
   "metadata": {
    "vscode": {
     "languageId": "r"
    }
   },
   "outputs": [],
   "source": [
    "2 ** np.median(CRISPRi_lfc_decreases) - 1"
   ]
  },
  {
   "cell_type": "code",
   "execution_count": 36,
   "id": "30073d77",
   "metadata": {
    "vscode": {
     "languageId": "r"
    }
   },
   "outputs": [],
   "source": [
    "medians = combined_data.median()\n",
    "medians"
   ]
  },
  {
   "cell_type": "code",
   "execution_count": 33,
   "id": "347defb6-a1b7-45a7-92ad-25e2af8db216",
   "metadata": {
    "vscode": {
     "languageId": "r"
    }
   },
   "outputs": [],
   "source": [
    "### plt.figure(figsize = (8,5))\n",
    "skyblue_color = \"#87CEEB\"  # Hex code for skyblue\n",
    "salmon_color = \"#FA8072\"   # Hex code for salmon\n",
    "my_palette = {\"CRISPRi\": \"skyblue\", \"CRISPRa\": \"salmon\"}\n",
    "\n",
    "combined_data = pd.concat([\n",
    "    pd.Series(CRISPRi_lfc_decreases, name='CRISPRi', index=range(len(CRISPRi_lfc_decreases))),\n",
    "    pd.Series(CRISPRa_lfc_decreases, name='CRISPRa', index=range(len(CRISPRa_lfc_decreases)))\n",
    "], keys=['CRISPRi', 'CRISPRa'], axis=1)\n",
    "\n",
    "# Create a boxplot using Seaborn\n",
    "sns.set_context('talk')\n",
    "sns.set_theme(style='white')\n",
    "sns.boxplot(data=combined_data, palette=my_palette, width = 0.5, linewidth = 2, fliersize = 3)\n",
    "plt.axhline(0, linestyle = '--', linewidth = 2, color = 'black')\n",
    "plt.ylabel(\"Log fold change\")"
   ]
  }
 ],
 "metadata": {
  "kernelspec": {
   "display_name": "R",
   "language": "R",
   "name": "ir"
  },
  "language_info": {
   "name": "R"
  }
 },
 "nbformat": 4,
 "nbformat_minor": 5
}
