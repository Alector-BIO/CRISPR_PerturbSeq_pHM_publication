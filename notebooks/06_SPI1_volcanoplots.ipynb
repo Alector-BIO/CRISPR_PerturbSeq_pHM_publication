{
 "cells": [
  {
   "cell_type": "code",
   "execution_count": null,
   "metadata": {
    "vscode": {
     "languageId": "r"
    }
   },
   "outputs": [],
   "source": [
    "library('Seurat')\n",
    "library('dplyr')\n",
    "library('tidyr')\n",
    "library('stringr')\n",
    "library('tidyverse')\n",
    "library('ggplot2')\n",
    "library('pheatmap')\n",
    "library('data.table')\n",
    "library('ggrepel')\n",
    "library('msigdbr')\n",
    "library(ggvenn)\n",
    "library('fgsea') #need to add to yml file\n",
    "options(repr.plot.width = 5, repr.plot.height = 5) # set default plot size\n",
    "options(jupyter.plot_mimetypes = 'image/png') # output SVG\n",
    "options(ggrepel.max.overlaps = Inf)"
   ]
  },
  {
   "cell_type": "markdown",
   "metadata": {},
   "source": [
    "## Load data"
   ]
  },
  {
   "cell_type": "code",
   "execution_count": null,
   "metadata": {
    "vscode": {
     "languageId": "r"
    }
   },
   "outputs": [],
   "source": [
    "SPI1a = read.csv('~/github/THP1_PrimaryMac_CRISPR/Perturbseq/DEGs_NEW/CRISPRa/SPI1.csv')\n",
    "SPI1i = read.csv('~/github/THP1_PrimaryMac_CRISPR/Perturbseq/DEGs_NEW/CRISPRi/SPI1.csv')"
   ]
  },
  {
   "cell_type": "code",
   "execution_count": null,
   "metadata": {
    "vscode": {
     "languageId": "r"
    }
   },
   "outputs": [],
   "source": [
    "options(repr.plot.width = 10, repr.plot.height = 8)\n",
    "\n",
    "# Add a column to indicate the direction of regulation\n",
    "SPI1a$regulation <- ifelse(SPI1a$adj_pval < 0.05 & SPI1a$lfc > 0.1, \"Upregulated\",\n",
    "                           ifelse(SPI1a$adj_pval < 0.05 & SPI1a$lfc < -0.1, \"Downregulated\", \"Not significant\"))\n",
    "\n",
    "specific_genes <- c(\"SPI1\", \"MT1G\", \"DAB1\", \"MT2A\", \"RTN1\", \"CYBB\", \"MYC\", \"IFI30\", \"SDC2\", \"DMXL2\", \"LST1\")  \n",
    "specific_genes_data <- SPI1a[SPI1a$name %in% specific_genes, ]\n",
    "\n",
    "p <- ggplot(data=SPI1a, aes(x=lfc, y=-log10(pval))) +\n",
    "  geom_point(aes(fill=regulation), shape = 21, stroke = 0.5, size=3) +\n",
    "  scale_fill_manual(values = c(\"Not significant\" = \"darkgrey\", \"Upregulated\" = \"red\", \"Downregulated\" = \"blue\")) +\n",
    "  #geom_point(data=subset(SPI1a, SPI1a$name==\"Cd300lb\"), aes(x=lfc, y=-log10(pval))) +\n",
    "  #geom_label_repel(data=SPI1a, aes(x = lfc, y = -log10(pval), label = ifelse((pval<1E-3 & abs(lfc)>1), name,\"\")), box.padding=0.5, size=6) +\n",
    "  geom_label_repel(data = specific_genes_data, aes(x = lfc, y = -log10(pval), label = name), \n",
    "                   box.padding = 0.5, size = 5, color = \"black\", fill = \"white\") +\n",
    "  theme_classic() +\n",
    "  #geom_hline(yintercept = -log10(0.05), linetype=2, color=\"black\") +\n",
    "  geom_hline(yintercept = 0) +\n",
    "  geom_vline(xintercept = 0) +\n",
    "  #geom_vline(xintercept = c(-2, 2), linetype=2, color=\"black\") +\n",
    "  labs(x = \"log2 Fold Change\", y = \"-log10(p-value)\") +\n",
    "  theme(legend.position=\"none\",\n",
    "       axis.title.x = element_text(size = 16),\n",
    "       axis.text.x = element_text(size = 16),\n",
    "       axis.title.y = element_text(size = 16),\n",
    "       axis.text.y = element_text(size = 16)) + xlim(-5,5) #+ ggtitle(\"SPI1 CRISPRa vs. NT\")\n",
    "ggsave(\"SPI1_CRISPRa_volcanoplot.pdf\", plot = p, width = 10, height = 8)"
   ]
  },
  {
   "cell_type": "code",
   "execution_count": null,
   "metadata": {
    "vscode": {
     "languageId": "r"
    }
   },
   "outputs": [],
   "source": [
    "options(repr.plot.width = 10, repr.plot.height = 8)\n",
    "\n",
    "# Add a column to indicate the direction of regulation\n",
    "SPI1i$regulation <- ifelse(SPI1i$adj_pval < 0.05 & SPI1i$lfc > 0.1, \"Upregulated\",\n",
    "                           ifelse(SPI1i$adj_pval < 0.05 & SPI1i$lfc < -0.1, \"Downregulated\", \"Not significant\"))\n",
    "\n",
    "specific_genes <- c(\"SPI1\", \"APOE\", \"CHIT1\", \"APOC1\", \"LILRB4\", \"CSF1R\", \"ELMO1\", \"IFI30\", \"MSR1\", \"TGFB1\", \"IFIT1\", \"MSI2\", \"TNFAIP6\", \"PTGDS\")  \n",
    "specific_genes_data <- SPI1i[SPI1i$name %in% specific_genes, ]\n",
    "\n",
    "ggplot(data=SPI1i, aes(x=lfc, y=-log10(pval))) +\n",
    "  geom_point(aes(fill=regulation), shape = 21, stroke = 0.5, size=3) +\n",
    "  scale_fill_manual(values = c(\"Not significant\" = \"darkgrey\", \"Upregulated\" = \"red\", \"Downregulated\" = \"blue\")) +\n",
    "  #geom_point(data=subset(SPI1a, SPI1a$name==\"Cd300lb\"), aes(x=lfc, y=-log10(pval))) +\n",
    "  #geom_label_repel(data=SPI1a, aes(x = lfc, y = -log10(pval), label = ifelse((pval<1E-3 & abs(lfc)>1), name,\"\")), box.padding=0.5, size=6) +\n",
    "  geom_label_repel(data = specific_genes_data, aes(x = lfc, y = -log10(pval), label = name), \n",
    "                   box.padding = 0.5, size = 5, color = \"black\", fill = \"white\") +\n",
    "  theme_classic() +\n",
    "  #geom_hline(yintercept = -log10(0.05), linetype=2, color=\"black\") +\n",
    "  geom_hline(yintercept = 0) +\n",
    "  geom_vline(xintercept = 0) +\n",
    "  #geom_vline(xintercept = c(-2, 2), linetype=2, color=\"black\") +\n",
    "  labs(x = \"log2 Fold Change\", y = \"-log10(p-value)\") +\n",
    "  theme(legend.position=\"none\",\n",
    "       axis.title.x = element_text(size = 16),\n",
    "       axis.text.x = element_text(size = 16),\n",
    "       axis.title.y = element_text(size = 16),\n",
    "       axis.text.y = element_text(size = 16)) + xlim(-5,5) #+ ggtitle(\"SPI1 CRISPRa vs. NT\")\n",
    "#ggsave(\"SPI1_CRISPRi_volcanoplot.pdf\", plot = p, width = 10, height = 8)"
   ]
  },
  {
   "cell_type": "markdown",
   "metadata": {
    "vscode": {
     "languageId": "r"
    }
   },
   "source": [
    "## find common elements"
   ]
  },
  {
   "cell_type": "code",
   "execution_count": null,
   "metadata": {
    "vscode": {
     "languageId": "r"
    }
   },
   "outputs": [],
   "source": [
    "SPI1i_DEGs = SPI1i[SPI1i$adj_pval < 0.05,'name']\n",
    "SPI1a_DEGs = SPI1a[SPI1a$adj_pval < 0.05,'name']"
   ]
  },
  {
   "cell_type": "code",
   "execution_count": null,
   "metadata": {
    "vscode": {
     "languageId": "r"
    }
   },
   "outputs": [],
   "source": [
    "common_elements <- intersect(SPI1i_DEGs, SPI1a_DEGs)"
   ]
  },
  {
   "cell_type": "code",
   "execution_count": null,
   "metadata": {
    "vscode": {
     "languageId": "r"
    }
   },
   "outputs": [],
   "source": [
    "data <- list(\n",
    "  CRISPRi = SPI1i_DEGs,\n",
    "  CRISPRa = SPI1a_DEGs\n",
    ")\n",
    "\n",
    "# Create the Venn diagram\n",
    "ggvenn(data, fill_color = c('skyblue', 'salmon'),stroke_size = 2, set_name_size = 8, show_percentage = FALSE)\n",
    "#ggsave(\"SPI1_venndiagram.pdf\", plot = p, width = 6, height = 6)"
   ]
  },
  {
   "cell_type": "markdown",
   "metadata": {
    "vscode": {
     "languageId": "r"
    }
   },
   "source": [
    "## 4 way plot"
   ]
  },
  {
   "cell_type": "code",
   "execution_count": null,
   "metadata": {
    "vscode": {
     "languageId": "r"
    }
   },
   "outputs": [],
   "source": [
    "Zp<-function(p){-qnorm (p/2)} # Transformation to Z scores"
   ]
  },
  {
   "cell_type": "code",
   "execution_count": null,
   "metadata": {
    "vscode": {
     "languageId": "r"
    }
   },
   "outputs": [],
   "source": [
    "SPI1i$Zscore <- Zp(SPI1i$adj_pval)*sign(SPI1i$lfc)\n",
    "SPI1a$Zscore <- Zp(SPI1a$adj_pval)*sign(SPI1a$lfc)"
   ]
  },
  {
   "cell_type": "code",
   "execution_count": null,
   "metadata": {
    "vscode": {
     "languageId": "r"
    }
   },
   "outputs": [],
   "source": [
    "dataSele2 = merge(SPI1i[c('name', 'Zscore')], SPI1a[c('name', 'Zscore')], by = 'name')\n",
    "\n",
    "dataSeleUp = subset(dataSele2, dataSele2[,2]>2 & dataSele2[,3]< -2)\n",
    "dataSeleDown = subset(dataSele2, dataSele2[,2]< -2 & dataSele2[,3]> 2)\n",
    "ggplot() +\n",
    "  geom_point(data=dataSele2, aes(x = dataSele2[,2], y = dataSele2[,3]), shape=1, size=2) +\n",
    "  geom_point(data=dataSeleUp, aes(x = dataSeleUp[,2], y = dataSeleUp[,3]), colour=\"red\") +\n",
    "  geom_point(data=dataSeleDown, aes(x = dataSeleDown[,2], y = dataSeleDown[,3]), colour=\"blue\") +\n",
    "  geom_hline(yintercept=0, color = \"black\") +\n",
    "  geom_vline(xintercept=0, color = \"black\") +\n",
    "  geom_hline(yintercept=c(-2,2), linetype=\"dashed\", color = \"black\") +\n",
    "  geom_vline(xintercept=c(-2,2), linetype=\"dashed\", color = \"black\") +\n",
    "  geom_label_repel(data=dataSele2, aes(x = dataSele2[,2], y = dataSele2[,3], label=ifelse(((dataSele2[,2]>2 & dataSele2[,3]< -2) | (dataSele2[,2]< -2 & dataSele2[,3]> 2)),name,\"\")), box.padding=0.2, size=4) +\n",
    "  theme_minimal() + xlim(-12,12) + ylim(-5,8) +\n",
    "  xlab('SPI1 inhibition') +\n",
    "  ylab('SPI1 activation') + \n",
    "  theme(\n",
    "    axis.title.x = element_text(size = 14),\n",
    "    axis.title.y = element_text(size = 14),\n",
    "    axis.text.x = element_text(size = 12),\n",
    "    axis.text.y = element_text(size = 12)\n",
    "    #plot.title = element_text(size = 16, face = \"bold\"),\n",
    "    #plot.margin = margin(1, 1, 1, 1, \"cm\")\n",
    "  )\n",
    "\n",
    "#ggsave(\"SPI1_4way_plot.pdf\", plot = p, width = 10, height = 8)"
   ]
  },
  {
   "cell_type": "markdown",
   "metadata": {
    "vscode": {
     "languageId": "r"
    }
   },
   "source": [
    "## GSEA"
   ]
  },
  {
   "cell_type": "code",
   "execution_count": null,
   "metadata": {
    "vscode": {
     "languageId": "r"
    }
   },
   "outputs": [],
   "source": [
    "library(clusterProfiler)\n",
    "library(org.Hs.eg.db)\n",
    "library(msigdbr)"
   ]
  },
  {
   "cell_type": "code",
   "execution_count": null,
   "metadata": {
    "vscode": {
     "languageId": "r"
    }
   },
   "outputs": [],
   "source": [
    "gene_symbols <- SPI1i$name\n",
    "entrez_ids <- bitr(gene_symbols, fromType = \"SYMBOL\", toType = \"ENTREZID\", OrgDb = org.Hs.eg.db)"
   ]
  },
  {
   "cell_type": "code",
   "execution_count": null,
   "metadata": {
    "vscode": {
     "languageId": "r"
    }
   },
   "outputs": [],
   "source": [
    "SPI1i = merge(SPI1i, entrez_ids, by.x = \"name\", by.y = \"SYMBOL\", all.x = TRUE)"
   ]
  },
  {
   "cell_type": "code",
   "execution_count": null,
   "metadata": {
    "vscode": {
     "languageId": "r"
    }
   },
   "outputs": [],
   "source": [
    "gene_symbols <- SPI1a$name\n",
    "entrez_ids <- bitr(gene_symbols, fromType = \"SYMBOL\", toType = \"ENTREZID\", OrgDb = org.Hs.eg.db)"
   ]
  },
  {
   "cell_type": "code",
   "execution_count": null,
   "metadata": {
    "vscode": {
     "languageId": "r"
    }
   },
   "outputs": [],
   "source": [
    "SPI1a = merge(SPI1a, entrez_ids, by.x = \"name\", by.y = \"SYMBOL\", all.x = TRUE)"
   ]
  },
  {
   "cell_type": "code",
   "execution_count": null,
   "metadata": {
    "vscode": {
     "languageId": "r"
    }
   },
   "outputs": [],
   "source": [
    "msig_h <- msigdbr(species = \"Homo sapiens\", category = \"H\") %>%\n",
    "    dplyr::select(gs_name, human_gene_symbol) %>%\n",
    "    dplyr::rename(ont = gs_name, gene = human_gene_symbol)\n",
    "#msig_h"
   ]
  },
  {
   "cell_type": "code",
   "execution_count": null,
   "metadata": {
    "vscode": {
     "languageId": "r"
    }
   },
   "outputs": [],
   "source": [
    "SPI1i_ordered = SPI1i[order(SPI1i$Zscore),]"
   ]
  },
  {
   "cell_type": "code",
   "execution_count": null,
   "metadata": {
    "vscode": {
     "languageId": "r"
    }
   },
   "outputs": [],
   "source": [
    "ordered_genes <- SPI1i_ordered$Zscore\n",
    "names(ordered_genes) <- SPI1i_ordered$name\n",
    "ordered_genes <- sort(ordered_genes, decreasing = TRUE)"
   ]
  },
  {
   "cell_type": "code",
   "execution_count": null,
   "metadata": {
    "vscode": {
     "languageId": "r"
    }
   },
   "outputs": [],
   "source": [
    "msig_gsea <- GSEA(ordered_genes, TERM2GENE = msig_h) %>%\n",
    "    as_tibble"
   ]
  },
  {
   "cell_type": "code",
   "execution_count": null,
   "metadata": {
    "vscode": {
     "languageId": "r"
    }
   },
   "outputs": [],
   "source": [
    "top_pathways <- msig_gsea %>%\n",
    "  arrange(p.adjust) %>%\n",
    "  head(30)"
   ]
  },
  {
   "cell_type": "code",
   "execution_count": null,
   "metadata": {
    "vscode": {
     "languageId": "r"
    }
   },
   "outputs": [],
   "source": [
    "top_pathways$pathway <- factor(top_pathways$Description, levels = top_pathways$Description[order(top_pathways$NES)])\n",
    "top_pathways$pathway = sub(\"HALLMARK_\", \"\", top_pathways$pathway)\n",
    "top_pathways$pathway <- factor(top_pathways$pathway, levels = top_pathways$pathway[order(top_pathways$NES)])"
   ]
  },
  {
   "cell_type": "code",
   "execution_count": null,
   "metadata": {
    "vscode": {
     "languageId": "r"
    }
   },
   "outputs": [],
   "source": [
    "options(repr.plot.width = 12, repr.plot.height = 5)\n",
    "\n",
    "ggplot(top_pathways, aes(x = NES, y = pathway, fill = p.adjust)) +\n",
    "  geom_bar(stat = \"identity\") +\n",
    "  scale_fill_gradient(low = \"indianred2\", high = \"dodgerblue2\", , limits = c(0, 0.1)) +\n",
    "  labs(x = \"Normalized Enrichment Score (NES)\", y = \"\") +\n",
    "  theme_classic() +\n",
    "  theme(\n",
    "    axis.title.x = element_text(size = 16),\n",
    "    axis.text.x = element_text(size = 16),\n",
    "    axis.title.y = element_text(size = 16),\n",
    "    axis.text.y = element_text(size = 16)\n",
    "  ) +\n",
    "  scale_size_continuous(range = c(3, 10))\n",
    "\n",
    "ggsave(\"SPI1_CRISPRi_barplot.pdf\", width = 12, height = 5)"
   ]
  },
  {
   "cell_type": "code",
   "execution_count": null,
   "metadata": {
    "vscode": {
     "languageId": "r"
    }
   },
   "outputs": [],
   "source": [
    "SPI1a_ordered = SPI1a[order(SPI1a$Zscore),]"
   ]
  },
  {
   "cell_type": "code",
   "execution_count": null,
   "metadata": {
    "vscode": {
     "languageId": "r"
    }
   },
   "outputs": [],
   "source": [
    "ordered_genes <- SPI1a_ordered$Zscore\n",
    "names(ordered_genes) <- SPI1a_ordered$name\n",
    "ordered_genes <- sort(ordered_genes, decreasing = TRUE)"
   ]
  },
  {
   "cell_type": "code",
   "execution_count": null,
   "metadata": {
    "vscode": {
     "languageId": "r"
    }
   },
   "outputs": [],
   "source": [
    "msig_gsea <- GSEA(ordered_genes, TERM2GENE = msig_h) %>%\n",
    "    as_tibble"
   ]
  },
  {
   "cell_type": "code",
   "execution_count": null,
   "metadata": {
    "vscode": {
     "languageId": "r"
    }
   },
   "outputs": [],
   "source": [
    "top_pathways <- msig_gsea %>%\n",
    "  arrange(p.adjust) %>%\n",
    "  head(15)"
   ]
  },
  {
   "cell_type": "code",
   "execution_count": null,
   "metadata": {
    "vscode": {
     "languageId": "r"
    }
   },
   "outputs": [],
   "source": [
    "top_pathways$pathway <- factor(top_pathways$Description, levels = top_pathways$Description[order(top_pathways$NES)])\n",
    "top_pathways$pathway = sub(\"HALLMARK_\", \"\", top_pathways$pathway)\n",
    "top_pathways$pathway <- factor(top_pathways$pathway, levels = top_pathways$pathway[order(top_pathways$NES)])"
   ]
  },
  {
   "cell_type": "code",
   "execution_count": null,
   "metadata": {
    "vscode": {
     "languageId": "r"
    }
   },
   "outputs": [],
   "source": [
    "options(repr.plot.width = 12, repr.plot.height = 5)\n",
    "\n",
    "ggplot(top_pathways, aes(x = NES, y = pathway, fill = p.adjust)) +\n",
    "  geom_bar(stat = \"identity\") +\n",
    "  scale_fill_gradient(low = \"indianred2\", high = \"dodgerblue2\", , limits = c(0, 0.1)) +\n",
    "  labs(x = \"Normalized Enrichment Score (NES)\", y = \"\") +\n",
    "  theme_classic() +\n",
    "  theme(\n",
    "    axis.title.x = element_text(size = 16),\n",
    "    axis.text.x = element_text(size = 16),\n",
    "    axis.title.y = element_text(size = 16),\n",
    "    axis.text.y = element_text(size = 16)\n",
    "  ) +\n",
    "  scale_size_continuous(range = c(3, 10))\n",
    "\n",
    "ggsave(\"SPI1_CRISPRa_barplot.pdf\", width = 12, height = 5)"
   ]
  }
 ],
 "metadata": {
  "kernelspec": {
   "display_name": "R",
   "language": "R",
   "name": "ir"
  },
  "language_info": {
   "name": "R"
  }
 },
 "nbformat": 4,
 "nbformat_minor": 2
}
