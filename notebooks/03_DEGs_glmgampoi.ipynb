{
 "cells": [
  {
   "cell_type": "markdown",
   "metadata": {},
   "source": [
    "### Find all DEGs"
   ]
  },
  {
   "cell_type": "code",
   "execution_count": 49,
   "metadata": {
    "vscode": {
     "languageId": "r"
    }
   },
   "outputs": [
    {
     "ename": "SyntaxError",
     "evalue": "expression cannot contain assignment, perhaps you meant \"==\"? (2405280079.py, line 11)",
     "output_type": "error",
     "traceback": [
      "\u001b[0;36m  Cell \u001b[0;32mIn[49], line 11\u001b[0;36m\u001b[0m\n\u001b[0;31m    options(repr.plot.width = 7, repr.plot.height = 7) # set default plot size\u001b[0m\n\u001b[0m            ^\u001b[0m\n\u001b[0;31mSyntaxError\u001b[0m\u001b[0;31m:\u001b[0m expression cannot contain assignment, perhaps you meant \"==\"?\n"
     ]
    }
   ],
   "source": [
    "library('glmGamPoi')\n",
    "library('Seurat')\n",
    "library('stringr')\n",
    "library('dplyr')\n",
    "library('tidyr')\n",
    "library('ggplot2')\n",
    "library('pheatmap')\n",
    "library('magrittr')\n",
    "library('SingleCellExperiment')\n",
    "library('ggrepel')\n",
    "options(repr.plot.width = 7, repr.plot.height = 7) # set default plot size\n",
    "options(jupyter.plot_mimetypes = 'image/svg+xml') # output SVG\n",
    "options(ggrepel.max.overlaps = Inf)"
   ]
  },
  {
   "cell_type": "code",
   "execution_count": null,
   "metadata": {
    "vscode": {
     "languageId": "r"
    }
   },
   "outputs": [],
   "source": [
    "CRISPRi_seurat5 <- readRDS('CRISPRi_seurat5_NEW.rds')\n",
    "CRISPRa_seurat5 <- readRDS('CRISPRa_seurat5_NEW.rds')"
   ]
  },
  {
   "cell_type": "code",
   "execution_count": null,
   "metadata": {
    "vscode": {
     "languageId": "r"
    }
   },
   "outputs": [],
   "source": [
    "# keep only protein coding genes\n",
    "annot_human = read.table(\"~/References/Biomart/Biomart_Ensembl_v101/Biomart_Human_Genes_Ensembl101.txt\",sep=\"\\t\", header=T)\n",
    "protein_coding_genes = annot_human[annot_human$gene_biotype == 'protein_coding','external_gene_name']"
   ]
  },
  {
   "cell_type": "code",
   "execution_count": null,
   "metadata": {
    "vscode": {
     "languageId": "r"
    }
   },
   "outputs": [],
   "source": [
    "CRISPRi_seurat5 <- subset(CRISPRi_seurat5, features = protein_coding_genes)\n",
    "CRISPRa_seurat5 <- subset(CRISPRa_seurat5, features = protein_coding_genes)"
   ]
  },
  {
   "cell_type": "code",
   "execution_count": null,
   "metadata": {
    "vscode": {
     "languageId": "r"
    }
   },
   "outputs": [],
   "source": [
    "sce_CRISPRi = as.SingleCellExperiment(CRISPRi_seurat5)\n",
    "sce_CRISPRa = as.SingleCellExperiment(CRISPRa_seurat5)"
   ]
  },
  {
   "cell_type": "code",
   "execution_count": null,
   "metadata": {
    "vscode": {
     "languageId": "r"
    }
   },
   "outputs": [],
   "source": [
    "genesA = read.csv('CRISPRa_gene_list.csv')\n",
    "genesA = genesA$x\n",
    "\n",
    "genesI = read.csv('CRISPRi_gene_list.csv')\n",
    "genesI = genesI$x"
   ]
  },
  {
   "cell_type": "code",
   "execution_count": null,
   "metadata": {
    "vscode": {
     "languageId": "r"
    }
   },
   "outputs": [],
   "source": [
    "CRISPRi_DEGenes = list()\n",
    "\n",
    "for(gene in genesI){\n",
    "    #lower counts cutoff\n",
    "    sce_subset <- sce_CRISPRi[rowSums(counts(sce_CRISPRi)) > 100, sce_CRISPRi$Gene_Targeted %in% c(gene, \"NT\")]\n",
    "    assays(sce_subset)[['logcounts']] <- NULL\n",
    "\n",
    "    fit <- glm_gp(sce_subset, design = ~ Gene_Targeted + donor - 1, reference_level=\"NT\", on_disk=FALSE)\n",
    "    genename = paste0('`Gene_Targeted',gene,\"`\")\n",
    "    res <- test_de(fit, eval(parse(text = genename)) - `Gene_TargetedNT`, sort_by = pval)\n",
    "    CRISPRi_DEGenes[[gene]] = res\n",
    "    \n",
    "}\n",
    "#save in RDS format\n",
    "saveRDS(CRISPRi_DEGenes, file = 'CRISPRi_DEGenes_NEW.RDS')"
   ]
  },
  {
   "cell_type": "code",
   "execution_count": null,
   "metadata": {
    "vscode": {
     "languageId": "r"
    }
   },
   "outputs": [],
   "source": [
    "CRISPRa_DEGenes = list()\n",
    "\n",
    "for(gene in genesA){\n",
    "    #lower counts cutoff\n",
    "    sce_subset <- sce_CRISPRa[rowSums(counts(sce_CRISPRa)) > 100, sce_CRISPRa$Gene_Targeted %in% c(gene, \"NT\")]\n",
    "    assays(sce_subset)[['logcounts']] <- NULL\n",
    "\n",
    "    fit <- glm_gp(sce_subset, design = ~ Gene_Targeted + donor - 1, reference_level=\"NT\", on_disk=FALSE)\n",
    "    genename = paste0('`Gene_Targeted',gene,\"`\")\n",
    "    res <- test_de(fit, eval(parse(text = genename)) - `Gene_TargetedNT`, sort_by = pval)\n",
    "    CRISPRa_DEGenes[[gene]] = res\n",
    "    \n",
    "}\n",
    "\n",
    "#save in RDS format\n",
    "saveRDS(CRISPRa_DEGenes, file = 'CRISPRa_DEGenes_NEW.RDS')"
   ]
  },
  {
   "cell_type": "code",
   "execution_count": null,
   "metadata": {
    "vscode": {
     "languageId": "r"
    }
   },
   "outputs": [],
   "source": [
    "#read RDS files and change to 200 CSV files\n",
    "CRISPRa_DEGenes = readRDS('CRISPRa_DEGenes_NEW.RDS')\n",
    "CRISPRi_DEGenes = readRDS('CRISPRi_DEGenes_NEW.RDS')\n",
    "\n",
    "for (gene in genesI){\n",
    "    degs1 = CRISPRa_DEGenes[[gene]]\n",
    "    degs2 = CRISPRi_DEGenes[[gene]]\n",
    "    write.csv(degs1, paste0('DEGs_NEW/CRISPRa/', gene, '.csv'))\n",
    "    write.csv(degs2, paste0('DEGs_NEW/CRISPRi/', gene, '.csv'))\n",
    "}"
   ]
  }
 ],
 "metadata": {
  "kernelspec": {
   "display_name": "R",
   "language": "R",
   "name": "ir"
  },
  "language_info": {
   "codemirror_mode": "r",
   "file_extension": ".r",
   "mimetype": "text/x-r-source",
   "name": "R",
   "pygments_lexer": "r",
   "version": "4.3.3"
  }
 },
 "nbformat": 4,
 "nbformat_minor": 2
}
